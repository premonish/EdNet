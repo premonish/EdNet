{
 "cells": [
  {
   "cell_type": "markdown",
   "metadata": {},
   "source": [
    "<h1>EdNet - Optimize Student Performance: Data Wrangling</h1>"
   ]
  },
  {
   "cell_type": "markdown",
   "metadata": {},
   "source": [
    "Project GitHub: https://github.com/premonish/EdNet<p>\n",
    "\n",
    "\n",
    "<b>EdNet is composed of a total of 131,441,538 interactions collected from 784,309 students of Santa since 2017.</b>\n",
    "\n",
    "\"Dataset:\n",
    "As we said, there are four datasets named KT1, KT2, KT3, and KT4 with different extents. Here's common features of these datasets:\n",
    "\n",
    "The whole dataset is divided by students: {user_id}.csv only contains {user_id}'s interactions.\n",
    "The timestamps are different from the real values, which are modified (shifted by fixed values) due to security issues.\n",
    "Download links\n",
    "EdNet-KT1 : bit.ly/ednet_kt1\n",
    "EdNet-KT2 : bit.ly/ednet-kt2\n",
    "EdNet-KT3 : bit.ly/ednet-kt3\n",
    "EdNet-KT4 : bit.ly/ednet-kt4\n",
    "Contents : bit.ly/ednet-content\n",
    "KT1\n",
    "\n",
    "The whole dataset is divided by students: {user_id}.csv only contains {user_id}'s interactions.\"\n",
    "    \n",
    "SOURCE: https://github.com/riiid/ednet.git"
   ]
  },
  {
   "cell_type": "code",
   "execution_count": 1,
   "metadata": {},
   "outputs": [],
   "source": [
    "# I get by with a little help from my friends\n",
    "import matplotlib.pyplot as plt\n",
    "import numpy as np\n",
    "import pandas as pd\n",
    "import seaborn as sns\n",
    "import datetime\n",
    "import glob"
   ]
  },
  {
   "cell_type": "code",
   "execution_count": 34,
   "metadata": {},
   "outputs": [
    {
     "name": "stdout",
     "output_type": "stream",
     "text": [
      "C:\\Users\\Prem\\Desktop\\SPRINGBOARD_MASTER\\EdNet\\data\\raw\\EdNet-KT4\\KT4\n"
     ]
    }
   ],
   "source": [
    "cd ~/Desktop/SPRINGBOARD_MASTER/EdNet/data/raw/EdNet-KT4/KT4"
   ]
  },
  {
   "cell_type": "code",
   "execution_count": 35,
   "metadata": {},
   "outputs": [],
   "source": [
    "# file locations\n",
    "prefix = '~/Desktop/SPRINGBOARD_MASTER/EdNet/data/raw/EdNet-'\n",
    "folder_1 = prefix + 'KT1/KT1/'\n",
    "folder_2 = prefix + 'KT2/KT2/'\n",
    "folder_3 = prefix + 'KT3/KT3/'\n",
    "folder_4 = prefix + 'KT4/KT4/'\n",
    "questions = prefix + 'Contents/contents/questions.csv'\n",
    "questions_df = pd.read_csv(questions)\n",
    "\n",
    "# create a list of \n",
    "csv_files = glob.glob('*.csv')"
   ]
  },
  {
   "cell_type": "code",
   "execution_count": 36,
   "metadata": {},
   "outputs": [
    {
     "data": {
      "text/plain": [
       "'u100043.csv'"
      ]
     },
     "execution_count": 36,
     "metadata": {},
     "output_type": "execute_result"
    }
   ],
   "source": [
    "csv_files[5]"
   ]
  },
  {
   "cell_type": "code",
   "execution_count": 109,
   "metadata": {},
   "outputs": [
    {
     "data": {
      "text/plain": [
       "\"# create pathname\\n# create pandas dataframe\\n# extract user_id from filename and assign user_id as values to column 1\\nz = 100\\n#for i in csv_files:\\n#    z+=1\\n\\npath1 = folder_1 + csv_files[z]\\none = pd.read_csv(path1)\\none.insert(0, 'user_id', csv_files[z].split('.')[0])\\n\\n# 2\\npath2 = folder_2 + csv_files[z]\\ntwo = pd.read_csv(path2) \\ntwo.insert(0, 'user_id', csv_files[z].split('.')[0])\\n\\n# 3\\npath3 = folder_3 + csv_files[z]\\nthree = pd.read_csv(path3)\\nthree.insert(0, 'user_id', csv_files[z].split('.')[0])\\n\\n# 4\\npath4 = folder_4 + csv_files[z]\\nfour = pd.read_csv(path4)\\nfour.insert(0, 'user_id', csv_files[z].split('.')[0])\\n\\n# concatenate 4 dataframes into 1\\ndf1 = pd.concat([one,two,three,four])\\n    \\ndf1.head(50)\""
      ]
     },
     "execution_count": 109,
     "metadata": {},
     "output_type": "execute_result"
    }
   ],
   "source": [
    "\"\"\"# create pathname\n",
    "# create pandas dataframe\n",
    "# extract user_id from filename and assign user_id as values to column 1\n",
    "z = 100\n",
    "#for i in csv_files:\n",
    "#    z+=1\n",
    "\n",
    "path1 = folder_1 + csv_files[z]\n",
    "one = pd.read_csv(path1)\n",
    "one.insert(0, 'user_id', csv_files[z].split('.')[0])\n",
    "\n",
    "# 2\n",
    "path2 = folder_2 + csv_files[z]\n",
    "two = pd.read_csv(path2) \n",
    "two.insert(0, 'user_id', csv_files[z].split('.')[0])\n",
    "\n",
    "# 3\n",
    "path3 = folder_3 + csv_files[z]\n",
    "three = pd.read_csv(path3)\n",
    "three.insert(0, 'user_id', csv_files[z].split('.')[0])\n",
    "\n",
    "# 4\n",
    "path4 = folder_4 + csv_files[z]\n",
    "four = pd.read_csv(path4)\n",
    "four.insert(0, 'user_id', csv_files[z].split('.')[0])\n",
    "\n",
    "# concatenate 4 dataframes into 1\n",
    "df1 = pd.concat([one,two,three,four])\n",
    "    \n",
    "df1.head(50)\"\"\""
   ]
  },
  {
   "cell_type": "code",
   "execution_count": 110,
   "metadata": {},
   "outputs": [
    {
     "data": {
      "text/plain": [
       "\"# 2\\npath2 = folder_2 + csv_files[z]\\ntwo = pd.read_csv(path2) \\ntwo.insert(0, 'user_id', csv_files[z].split('.')[0])\\n\\n# 3\\npath3 = folder_3 + csv_files[z]\\nthree = pd.read_csv(path3)\\nthree.insert(0, 'user_id', csv_files[z].split('.')[0])\\n\\n# 4\\npath4 = folder_4 + csv_files[z]\\nfour = pd.read_csv(path4)\\nfour.insert(0, 'user_id', csv_files[z].split('.')[0])\\n\\n# concatenate 4 dataframes into 1\\ndf1 = pd.concat([one,two,three,four])\\n    \\ndf1.head(50)\""
      ]
     },
     "execution_count": 110,
     "metadata": {},
     "output_type": "execute_result"
    }
   ],
   "source": [
    "# create pathname\n",
    "# create pandas dataframe\n",
    "# extract user_id from filename and assign user_id as values to column 1\n",
    "\n",
    "#for i in csv_files:\n",
    "#    z+=1\n",
    "\n",
    "z = 1\n",
    "\n",
    "path1 = folder_1 + csv_files[z]\n",
    "one1 = pd.read_csv(path1)\n",
    "one1.insert(0, 'user_id', csv_files[z].split('.')[0])\n",
    "\n",
    "one1.head()\n",
    "\"\"\"# 2\n",
    "path2 = folder_2 + csv_files[z]\n",
    "two = pd.read_csv(path2) \n",
    "two.insert(0, 'user_id', csv_files[z].split('.')[0])\n",
    "\n",
    "# 3\n",
    "path3 = folder_3 + csv_files[z]\n",
    "three = pd.read_csv(path3)\n",
    "three.insert(0, 'user_id', csv_files[z].split('.')[0])\n",
    "\n",
    "# 4\n",
    "path4 = folder_4 + csv_files[z]\n",
    "four = pd.read_csv(path4)\n",
    "four.insert(0, 'user_id', csv_files[z].split('.')[0])\n",
    "\n",
    "# concatenate 4 dataframes into 1\n",
    "df1 = pd.concat([one,two,three,four])\n",
    "    \n",
    "df1.head(50)\"\"\""
   ]
  },
  {
   "cell_type": "code",
   "execution_count": 113,
   "metadata": {},
   "outputs": [
    {
     "data": {
      "text/html": [
       "<div>\n",
       "<style scoped>\n",
       "    .dataframe tbody tr th:only-of-type {\n",
       "        vertical-align: middle;\n",
       "    }\n",
       "\n",
       "    .dataframe tbody tr th {\n",
       "        vertical-align: top;\n",
       "    }\n",
       "\n",
       "    .dataframe thead th {\n",
       "        text-align: right;\n",
       "    }\n",
       "</style>\n",
       "<table border=\"1\" class=\"dataframe\">\n",
       "  <thead>\n",
       "    <tr style=\"text-align: right;\">\n",
       "      <th></th>\n",
       "      <th>user_id</th>\n",
       "      <th>timestamp</th>\n",
       "      <th>solving_id</th>\n",
       "      <th>question_id</th>\n",
       "      <th>user_answer</th>\n",
       "      <th>elapsed_time</th>\n",
       "      <th>action_type</th>\n",
       "      <th>item_id</th>\n",
       "      <th>source</th>\n",
       "      <th>platform</th>\n",
       "      <th>cursor_time</th>\n",
       "    </tr>\n",
       "  </thead>\n",
       "  <tbody>\n",
       "    <tr>\n",
       "      <th>131</th>\n",
       "      <td>u100</td>\n",
       "      <td>1561843650162</td>\n",
       "      <td>NaN</td>\n",
       "      <td>NaN</td>\n",
       "      <td>NaN</td>\n",
       "      <td>NaN</td>\n",
       "      <td>enter</td>\n",
       "      <td>e2182</td>\n",
       "      <td>sprint</td>\n",
       "      <td>mobile</td>\n",
       "      <td>NaN</td>\n",
       "    </tr>\n",
       "    <tr>\n",
       "      <th>132</th>\n",
       "      <td>u100</td>\n",
       "      <td>1561843660664</td>\n",
       "      <td>NaN</td>\n",
       "      <td>NaN</td>\n",
       "      <td>NaN</td>\n",
       "      <td>NaN</td>\n",
       "      <td>quit</td>\n",
       "      <td>e2182</td>\n",
       "      <td>sprint</td>\n",
       "      <td>mobile</td>\n",
       "      <td>NaN</td>\n",
       "    </tr>\n",
       "    <tr>\n",
       "      <th>133</th>\n",
       "      <td>u100</td>\n",
       "      <td>1561843660735</td>\n",
       "      <td>NaN</td>\n",
       "      <td>NaN</td>\n",
       "      <td>NaN</td>\n",
       "      <td>NaN</td>\n",
       "      <td>enter</td>\n",
       "      <td>b4024</td>\n",
       "      <td>sprint</td>\n",
       "      <td>mobile</td>\n",
       "      <td>NaN</td>\n",
       "    </tr>\n",
       "    <tr>\n",
       "      <th>134</th>\n",
       "      <td>u100</td>\n",
       "      <td>1561843696201</td>\n",
       "      <td>NaN</td>\n",
       "      <td>NaN</td>\n",
       "      <td>c</td>\n",
       "      <td>NaN</td>\n",
       "      <td>respond</td>\n",
       "      <td>q5492</td>\n",
       "      <td>sprint</td>\n",
       "      <td>mobile</td>\n",
       "      <td>NaN</td>\n",
       "    </tr>\n",
       "    <tr>\n",
       "      <th>135</th>\n",
       "      <td>u100</td>\n",
       "      <td>1561843700760</td>\n",
       "      <td>NaN</td>\n",
       "      <td>NaN</td>\n",
       "      <td>NaN</td>\n",
       "      <td>NaN</td>\n",
       "      <td>submit</td>\n",
       "      <td>b4024</td>\n",
       "      <td>sprint</td>\n",
       "      <td>mobile</td>\n",
       "      <td>NaN</td>\n",
       "    </tr>\n",
       "    <tr>\n",
       "      <th>136</th>\n",
       "      <td>u100</td>\n",
       "      <td>1561843700814</td>\n",
       "      <td>NaN</td>\n",
       "      <td>NaN</td>\n",
       "      <td>NaN</td>\n",
       "      <td>NaN</td>\n",
       "      <td>enter</td>\n",
       "      <td>e4024</td>\n",
       "      <td>sprint</td>\n",
       "      <td>mobile</td>\n",
       "      <td>NaN</td>\n",
       "    </tr>\n",
       "    <tr>\n",
       "      <th>137</th>\n",
       "      <td>u100</td>\n",
       "      <td>1561843710988</td>\n",
       "      <td>NaN</td>\n",
       "      <td>NaN</td>\n",
       "      <td>NaN</td>\n",
       "      <td>NaN</td>\n",
       "      <td>quit</td>\n",
       "      <td>e4024</td>\n",
       "      <td>sprint</td>\n",
       "      <td>mobile</td>\n",
       "      <td>NaN</td>\n",
       "    </tr>\n",
       "    <tr>\n",
       "      <th>138</th>\n",
       "      <td>u100</td>\n",
       "      <td>1561843711031</td>\n",
       "      <td>NaN</td>\n",
       "      <td>NaN</td>\n",
       "      <td>NaN</td>\n",
       "      <td>NaN</td>\n",
       "      <td>enter</td>\n",
       "      <td>b11564</td>\n",
       "      <td>sprint</td>\n",
       "      <td>mobile</td>\n",
       "      <td>NaN</td>\n",
       "    </tr>\n",
       "    <tr>\n",
       "      <th>139</th>\n",
       "      <td>u100</td>\n",
       "      <td>1561843748548</td>\n",
       "      <td>NaN</td>\n",
       "      <td>NaN</td>\n",
       "      <td>c</td>\n",
       "      <td>NaN</td>\n",
       "      <td>respond</td>\n",
       "      <td>q17327</td>\n",
       "      <td>sprint</td>\n",
       "      <td>mobile</td>\n",
       "      <td>NaN</td>\n",
       "    </tr>\n",
       "    <tr>\n",
       "      <th>140</th>\n",
       "      <td>u100</td>\n",
       "      <td>1561843759216</td>\n",
       "      <td>NaN</td>\n",
       "      <td>NaN</td>\n",
       "      <td>NaN</td>\n",
       "      <td>NaN</td>\n",
       "      <td>submit</td>\n",
       "      <td>b11564</td>\n",
       "      <td>sprint</td>\n",
       "      <td>mobile</td>\n",
       "      <td>NaN</td>\n",
       "    </tr>\n",
       "  </tbody>\n",
       "</table>\n",
       "</div>"
      ],
      "text/plain": [
       "    user_id      timestamp  solving_id question_id user_answer  elapsed_time  \\\n",
       "131    u100  1561843650162         NaN         NaN         NaN           NaN   \n",
       "132    u100  1561843660664         NaN         NaN         NaN           NaN   \n",
       "133    u100  1561843660735         NaN         NaN         NaN           NaN   \n",
       "134    u100  1561843696201         NaN         NaN           c           NaN   \n",
       "135    u100  1561843700760         NaN         NaN         NaN           NaN   \n",
       "136    u100  1561843700814         NaN         NaN         NaN           NaN   \n",
       "137    u100  1561843710988         NaN         NaN         NaN           NaN   \n",
       "138    u100  1561843711031         NaN         NaN         NaN           NaN   \n",
       "139    u100  1561843748548         NaN         NaN           c           NaN   \n",
       "140    u100  1561843759216         NaN         NaN         NaN           NaN   \n",
       "\n",
       "    action_type item_id  source platform  cursor_time  \n",
       "131       enter   e2182  sprint   mobile          NaN  \n",
       "132        quit   e2182  sprint   mobile          NaN  \n",
       "133       enter   b4024  sprint   mobile          NaN  \n",
       "134     respond   q5492  sprint   mobile          NaN  \n",
       "135      submit   b4024  sprint   mobile          NaN  \n",
       "136       enter   e4024  sprint   mobile          NaN  \n",
       "137        quit   e4024  sprint   mobile          NaN  \n",
       "138       enter  b11564  sprint   mobile          NaN  \n",
       "139     respond  q17327  sprint   mobile          NaN  \n",
       "140      submit  b11564  sprint   mobile          NaN  "
      ]
     },
     "execution_count": 113,
     "metadata": {},
     "output_type": "execute_result"
    }
   ],
   "source": [
    "# choose file # from csv_files\n",
    "z = 2\n",
    "\n",
    "# create pathname\n",
    "# create pandas dataframe\n",
    "# extract user_id from filename and assign user_id as value to column[0], 'user_id'\n",
    "one = pd.read_csv(folder_1 + csv_files[z])\n",
    "one.insert(0, 'user_id', csv_files[z].split('.')[0])\n",
    "\n",
    "# add desired columns and fill with '0'\n",
    "one['action_type'] = 0\n",
    "one['item_id'] = 0\n",
    "one['source'] = 0\n",
    "one['platform'] = 0\n",
    "one['cursor_time'] = 0\n",
    "\n",
    "# repeat process for 3 related csv files per user\n",
    "two = pd.read_csv(folder_2 + csv_files[z]) \n",
    "two.insert(0, 'user_id', csv_files[z].split('.')[0])\n",
    "\n",
    "three = pd.read_csv(folder_3 + csv_files[z])\n",
    "three.insert(0, 'user_id', csv_files[z].split('.')[0])\n",
    "\n",
    "four = pd.read_csv(folder_4 + csv_files[z])\n",
    "four.insert(0, 'user_id', csv_files[z].split('.')[0])\n",
    "\n",
    "# concatenate into a 'tall' dataframe\n",
    "df3 = pd.concat([one, two, three, four])\n",
    "df3.tail(10)"
   ]
  },
  {
   "cell_type": "code",
   "execution_count": 99,
   "metadata": {},
   "outputs": [
    {
     "data": {
      "text/html": [
       "<div>\n",
       "<style scoped>\n",
       "    .dataframe tbody tr th:only-of-type {\n",
       "        vertical-align: middle;\n",
       "    }\n",
       "\n",
       "    .dataframe tbody tr th {\n",
       "        vertical-align: top;\n",
       "    }\n",
       "\n",
       "    .dataframe thead th {\n",
       "        text-align: right;\n",
       "    }\n",
       "</style>\n",
       "<table border=\"1\" class=\"dataframe\">\n",
       "  <thead>\n",
       "    <tr style=\"text-align: right;\">\n",
       "      <th></th>\n",
       "      <th>user_id</th>\n",
       "      <th>timestamp</th>\n",
       "      <th>solving_id</th>\n",
       "      <th>question_id</th>\n",
       "      <th>user_answer</th>\n",
       "      <th>elapsed_time</th>\n",
       "      <th>action_type</th>\n",
       "      <th>item_id</th>\n",
       "      <th>source</th>\n",
       "      <th>platform</th>\n",
       "      <th>cursor_time</th>\n",
       "    </tr>\n",
       "  </thead>\n",
       "  <tbody>\n",
       "    <tr>\n",
       "      <th>0</th>\n",
       "      <td>u412749</td>\n",
       "      <td>1547130351335</td>\n",
       "      <td>1.0</td>\n",
       "      <td>q6541</td>\n",
       "      <td>d</td>\n",
       "      <td>33000.0</td>\n",
       "      <td>0</td>\n",
       "      <td>0</td>\n",
       "      <td>0</td>\n",
       "      <td>0</td>\n",
       "      <td>0.0</td>\n",
       "    </tr>\n",
       "    <tr>\n",
       "      <th>1</th>\n",
       "      <td>u412749</td>\n",
       "      <td>1547130367378</td>\n",
       "      <td>2.0</td>\n",
       "      <td>q5129</td>\n",
       "      <td>a</td>\n",
       "      <td>13000.0</td>\n",
       "      <td>0</td>\n",
       "      <td>0</td>\n",
       "      <td>0</td>\n",
       "      <td>0</td>\n",
       "      <td>0.0</td>\n",
       "    </tr>\n",
       "    <tr>\n",
       "      <th>2</th>\n",
       "      <td>u412749</td>\n",
       "      <td>1547130381359</td>\n",
       "      <td>3.0</td>\n",
       "      <td>q5948</td>\n",
       "      <td>d</td>\n",
       "      <td>11000.0</td>\n",
       "      <td>0</td>\n",
       "      <td>0</td>\n",
       "      <td>0</td>\n",
       "      <td>0</td>\n",
       "      <td>0.0</td>\n",
       "    </tr>\n",
       "    <tr>\n",
       "      <th>3</th>\n",
       "      <td>u412749</td>\n",
       "      <td>1547130401150</td>\n",
       "      <td>4.0</td>\n",
       "      <td>q816</td>\n",
       "      <td>c</td>\n",
       "      <td>17000.0</td>\n",
       "      <td>0</td>\n",
       "      <td>0</td>\n",
       "      <td>0</td>\n",
       "      <td>0</td>\n",
       "      <td>0.0</td>\n",
       "    </tr>\n",
       "    <tr>\n",
       "      <th>4</th>\n",
       "      <td>u412749</td>\n",
       "      <td>1547130415471</td>\n",
       "      <td>5.0</td>\n",
       "      <td>q1204</td>\n",
       "      <td>a</td>\n",
       "      <td>12000.0</td>\n",
       "      <td>0</td>\n",
       "      <td>0</td>\n",
       "      <td>0</td>\n",
       "      <td>0</td>\n",
       "      <td>0.0</td>\n",
       "    </tr>\n",
       "    <tr>\n",
       "      <th>...</th>\n",
       "      <td>...</td>\n",
       "      <td>...</td>\n",
       "      <td>...</td>\n",
       "      <td>...</td>\n",
       "      <td>...</td>\n",
       "      <td>...</td>\n",
       "      <td>...</td>\n",
       "      <td>...</td>\n",
       "      <td>...</td>\n",
       "      <td>...</td>\n",
       "      <td>...</td>\n",
       "    </tr>\n",
       "    <tr>\n",
       "      <th>19</th>\n",
       "      <td>u412749</td>\n",
       "      <td>1547130417408</td>\n",
       "      <td>NaN</td>\n",
       "      <td>NaN</td>\n",
       "      <td>NaN</td>\n",
       "      <td>NaN</td>\n",
       "      <td>enter</td>\n",
       "      <td>b1296</td>\n",
       "      <td>diagnosis</td>\n",
       "      <td>mobile</td>\n",
       "      <td>NaN</td>\n",
       "    </tr>\n",
       "    <tr>\n",
       "      <th>20</th>\n",
       "      <td>u412749</td>\n",
       "      <td>1547130417692</td>\n",
       "      <td>NaN</td>\n",
       "      <td>NaN</td>\n",
       "      <td>NaN</td>\n",
       "      <td>NaN</td>\n",
       "      <td>play_audio</td>\n",
       "      <td>b1296</td>\n",
       "      <td>diagnosis</td>\n",
       "      <td>mobile</td>\n",
       "      <td>0.0</td>\n",
       "    </tr>\n",
       "    <tr>\n",
       "      <th>21</th>\n",
       "      <td>u412749</td>\n",
       "      <td>1547130434972</td>\n",
       "      <td>NaN</td>\n",
       "      <td>NaN</td>\n",
       "      <td>c</td>\n",
       "      <td>NaN</td>\n",
       "      <td>respond</td>\n",
       "      <td>q1296</td>\n",
       "      <td>diagnosis</td>\n",
       "      <td>mobile</td>\n",
       "      <td>NaN</td>\n",
       "    </tr>\n",
       "    <tr>\n",
       "      <th>22</th>\n",
       "      <td>u412749</td>\n",
       "      <td>1547130435404</td>\n",
       "      <td>NaN</td>\n",
       "      <td>NaN</td>\n",
       "      <td>NaN</td>\n",
       "      <td>NaN</td>\n",
       "      <td>pause_audio</td>\n",
       "      <td>b1296</td>\n",
       "      <td>diagnosis</td>\n",
       "      <td>mobile</td>\n",
       "      <td>18033.0</td>\n",
       "    </tr>\n",
       "    <tr>\n",
       "      <th>23</th>\n",
       "      <td>u412749</td>\n",
       "      <td>1547130437969</td>\n",
       "      <td>NaN</td>\n",
       "      <td>NaN</td>\n",
       "      <td>NaN</td>\n",
       "      <td>NaN</td>\n",
       "      <td>submit</td>\n",
       "      <td>b1296</td>\n",
       "      <td>diagnosis</td>\n",
       "      <td>mobile</td>\n",
       "      <td>NaN</td>\n",
       "    </tr>\n",
       "  </tbody>\n",
       "</table>\n",
       "<p>65 rows × 11 columns</p>\n",
       "</div>"
      ],
      "text/plain": [
       "    user_id      timestamp  solving_id question_id user_answer  elapsed_time  \\\n",
       "0   u412749  1547130351335         1.0       q6541           d       33000.0   \n",
       "1   u412749  1547130367378         2.0       q5129           a       13000.0   \n",
       "2   u412749  1547130381359         3.0       q5948           d       11000.0   \n",
       "3   u412749  1547130401150         4.0        q816           c       17000.0   \n",
       "4   u412749  1547130415471         5.0       q1204           a       12000.0   \n",
       "..      ...            ...         ...         ...         ...           ...   \n",
       "19  u412749  1547130417408         NaN         NaN         NaN           NaN   \n",
       "20  u412749  1547130417692         NaN         NaN         NaN           NaN   \n",
       "21  u412749  1547130434972         NaN         NaN           c           NaN   \n",
       "22  u412749  1547130435404         NaN         NaN         NaN           NaN   \n",
       "23  u412749  1547130437969         NaN         NaN         NaN           NaN   \n",
       "\n",
       "    action_type item_id     source platform  cursor_time  \n",
       "0             0       0          0        0          0.0  \n",
       "1             0       0          0        0          0.0  \n",
       "2             0       0          0        0          0.0  \n",
       "3             0       0          0        0          0.0  \n",
       "4             0       0          0        0          0.0  \n",
       "..          ...     ...        ...      ...          ...  \n",
       "19        enter   b1296  diagnosis   mobile          NaN  \n",
       "20   play_audio   b1296  diagnosis   mobile          0.0  \n",
       "21      respond   q1296  diagnosis   mobile          NaN  \n",
       "22  pause_audio   b1296  diagnosis   mobile      18033.0  \n",
       "23       submit   b1296  diagnosis   mobile          NaN  \n",
       "\n",
       "[65 rows x 11 columns]"
      ]
     },
     "execution_count": 99,
     "metadata": {},
     "output_type": "execute_result"
    }
   ],
   "source": [
    "\"\"\"one['action_type'] = 0\n",
    "one['item_id'] = 0\n",
    "one['source'] = 0\n",
    "one['platform'] = 0\n",
    "one['cursor_time'] = 0\n",
    "ert = one.append(two)\n",
    "heart = ert.append(three)\n",
    "heart1 = heart.append(four)\n",
    "all_columns = heart1.columns \n",
    "heart1\"\"\""
   ]
  },
  {
   "cell_type": "code",
   "execution_count": 7,
   "metadata": {},
   "outputs": [
    {
     "name": "stdout",
     "output_type": "stream",
     "text": [
      "u10.csv\n"
     ]
    }
   ],
   "source": [
    "i = 0\n",
    "def money(csv):\n",
    "    # create pathname\n",
    "    # create pandas dataframe\n",
    "    # extract user_id from filename and assign user_id as values to column 1\n",
    "    path1 = folder_1 + csv\n",
    "    one = pd.read_csv(path1)\n",
    "    one.insert(0, 'user_id', csv.split('.')[0])\n",
    "\n",
    "    # 2\n",
    "    path2 = folder_2 + csv\n",
    "    two = pd.read_csv(path2) \n",
    "    two.insert(0, 'user_id', csv.split('.')[0])\n",
    "\n",
    "    # 3\n",
    "    path3 = folder_3 + csv\n",
    "    three = pd.read_csv(path3)\n",
    "    three.insert(0, 'user_id', csv.split('.')[0])\n",
    "\n",
    "    # 4\n",
    "    path4 = folder_4 + csv\n",
    "    four = pd.read_csv(path4)\n",
    "    four.insert(0, 'user_id', csv.split('.')[0])\n",
    "    \n",
    "    #i = i + 1\n",
    "    \n",
    "# concatenate 4 dataframes into 1\n",
    "#df10 = pd.concat([one,two,three,four])\n",
    "\n",
    "\n",
    "print(csv_files[1])"
   ]
  },
  {
   "cell_type": "code",
   "execution_count": 12,
   "metadata": {},
   "outputs": [
    {
     "data": {
      "text/plain": [
       "'99999'"
      ]
     },
     "execution_count": 12,
     "metadata": {},
     "output_type": "execute_result"
    }
   ],
   "source": [
    "count = 0\n",
    "for i in csv_files:    \n",
    "    dos = csv_files[count].split('.')[0].split('u')[1]\n",
    "    if count < len(csv_files):\n",
    "        count += 1\n",
    "    \n",
    "dos"
   ]
  },
  {
   "cell_type": "code",
   "execution_count": 13,
   "metadata": {},
   "outputs": [
    {
     "data": {
      "text/html": [
       "<div>\n",
       "<style scoped>\n",
       "    .dataframe tbody tr th:only-of-type {\n",
       "        vertical-align: middle;\n",
       "    }\n",
       "\n",
       "    .dataframe tbody tr th {\n",
       "        vertical-align: top;\n",
       "    }\n",
       "\n",
       "    .dataframe thead th {\n",
       "        text-align: right;\n",
       "    }\n",
       "</style>\n",
       "<table border=\"1\" class=\"dataframe\">\n",
       "  <thead>\n",
       "    <tr style=\"text-align: right;\">\n",
       "      <th></th>\n",
       "      <th>user_id</th>\n",
       "      <th>timestamp</th>\n",
       "      <th>solving_id</th>\n",
       "      <th>question_id</th>\n",
       "      <th>user_answer</th>\n",
       "      <th>elapsed_time</th>\n",
       "      <th>action_type</th>\n",
       "      <th>item_id</th>\n",
       "      <th>source</th>\n",
       "      <th>platform</th>\n",
       "      <th>cursor_time</th>\n",
       "    </tr>\n",
       "  </thead>\n",
       "  <tbody>\n",
       "    <tr>\n",
       "      <th>3990</th>\n",
       "      <td>u1</td>\n",
       "      <td>1569647530053</td>\n",
       "      <td>NaN</td>\n",
       "      <td>NaN</td>\n",
       "      <td>NaN</td>\n",
       "      <td>NaN</td>\n",
       "      <td>play_audio</td>\n",
       "      <td>b8332</td>\n",
       "      <td>my_note</td>\n",
       "      <td>mobile</td>\n",
       "      <td>0.0</td>\n",
       "    </tr>\n",
       "    <tr>\n",
       "      <th>3991</th>\n",
       "      <td>u1</td>\n",
       "      <td>1569647567859</td>\n",
       "      <td>NaN</td>\n",
       "      <td>NaN</td>\n",
       "      <td>NaN</td>\n",
       "      <td>NaN</td>\n",
       "      <td>pause_audio</td>\n",
       "      <td>b8332</td>\n",
       "      <td>my_note</td>\n",
       "      <td>mobile</td>\n",
       "      <td>34853.0</td>\n",
       "    </tr>\n",
       "    <tr>\n",
       "      <th>3992</th>\n",
       "      <td>u1</td>\n",
       "      <td>1569647618094</td>\n",
       "      <td>NaN</td>\n",
       "      <td>NaN</td>\n",
       "      <td>NaN</td>\n",
       "      <td>NaN</td>\n",
       "      <td>play_audio</td>\n",
       "      <td>b8332</td>\n",
       "      <td>my_note</td>\n",
       "      <td>mobile</td>\n",
       "      <td>1045.0</td>\n",
       "    </tr>\n",
       "    <tr>\n",
       "      <th>3993</th>\n",
       "      <td>u1</td>\n",
       "      <td>1569647652076</td>\n",
       "      <td>NaN</td>\n",
       "      <td>NaN</td>\n",
       "      <td>NaN</td>\n",
       "      <td>NaN</td>\n",
       "      <td>pause_audio</td>\n",
       "      <td>b8332</td>\n",
       "      <td>my_note</td>\n",
       "      <td>mobile</td>\n",
       "      <td>34848.0</td>\n",
       "    </tr>\n",
       "    <tr>\n",
       "      <th>3994</th>\n",
       "      <td>u1</td>\n",
       "      <td>1569647680211</td>\n",
       "      <td>NaN</td>\n",
       "      <td>NaN</td>\n",
       "      <td>NaN</td>\n",
       "      <td>NaN</td>\n",
       "      <td>quit</td>\n",
       "      <td>e8332</td>\n",
       "      <td>my_note</td>\n",
       "      <td>mobile</td>\n",
       "      <td>NaN</td>\n",
       "    </tr>\n",
       "  </tbody>\n",
       "</table>\n",
       "</div>"
      ],
      "text/plain": [
       "     user_id      timestamp  solving_id question_id user_answer  elapsed_time  \\\n",
       "3990      u1  1569647530053         NaN         NaN         NaN           NaN   \n",
       "3991      u1  1569647567859         NaN         NaN         NaN           NaN   \n",
       "3992      u1  1569647618094         NaN         NaN         NaN           NaN   \n",
       "3993      u1  1569647652076         NaN         NaN         NaN           NaN   \n",
       "3994      u1  1569647680211         NaN         NaN         NaN           NaN   \n",
       "\n",
       "      action_type item_id   source platform  cursor_time  \n",
       "3990   play_audio   b8332  my_note   mobile          0.0  \n",
       "3991  pause_audio   b8332  my_note   mobile      34853.0  \n",
       "3992   play_audio   b8332  my_note   mobile       1045.0  \n",
       "3993  pause_audio   b8332  my_note   mobile      34848.0  \n",
       "3994         quit   e8332  my_note   mobile          NaN  "
      ]
     },
     "execution_count": 13,
     "metadata": {},
     "output_type": "execute_result"
    }
   ],
   "source": [
    "df1.tail()"
   ]
  },
  {
   "cell_type": "code",
   "execution_count": 117,
   "metadata": {},
   "outputs": [
    {
     "data": {
      "text/plain": [
       "Index(['user_id', 'timestamp', 'solving_id', 'question_id', 'user_answer',\n",
       "       'elapsed_time', 'action_type', 'item_id', 'source', 'platform',\n",
       "       'cursor_time'],\n",
       "      dtype='object')"
      ]
     },
     "execution_count": 117,
     "metadata": {},
     "output_type": "execute_result"
    }
   ],
   "source": [
    "# Column Names\n",
    "df1.columns"
   ]
  },
  {
   "cell_type": "code",
   "execution_count": 115,
   "metadata": {},
   "outputs": [
    {
     "name": "stderr",
     "output_type": "stream",
     "text": [
      "C:\\Users\\Prem\\anaconda3\\lib\\site-packages\\ipykernel_launcher.py:10: SettingWithCopyWarning: \n",
      "A value is trying to be set on a copy of a slice from a DataFrame\n",
      "\n",
      "See the caveats in the documentation: https://pandas.pydata.org/pandas-docs/stable/user_guide/indexing.html#returning-a-view-versus-a-copy\n",
      "  # Remove the CWD from sys.path while we load stuff.\n"
     ]
    },
    {
     "data": {
      "text/html": [
       "<div>\n",
       "<style scoped>\n",
       "    .dataframe tbody tr th:only-of-type {\n",
       "        vertical-align: middle;\n",
       "    }\n",
       "\n",
       "    .dataframe tbody tr th {\n",
       "        vertical-align: top;\n",
       "    }\n",
       "\n",
       "    .dataframe thead th {\n",
       "        text-align: right;\n",
       "    }\n",
       "</style>\n",
       "<table border=\"1\" class=\"dataframe\">\n",
       "  <thead>\n",
       "    <tr style=\"text-align: right;\">\n",
       "      <th></th>\n",
       "      <th>user_id</th>\n",
       "      <th>timestamp</th>\n",
       "      <th>solving_id</th>\n",
       "      <th>question_id</th>\n",
       "      <th>user_answer</th>\n",
       "      <th>elapsed_time</th>\n",
       "      <th>action_type</th>\n",
       "      <th>item_id</th>\n",
       "      <th>source</th>\n",
       "      <th>platform</th>\n",
       "      <th>cursor_time</th>\n",
       "      <th>bundle_id</th>\n",
       "      <th>explanation_id</th>\n",
       "      <th>correct_answer</th>\n",
       "      <th>part</th>\n",
       "      <th>tags</th>\n",
       "      <th>deployed_at</th>\n",
       "      <th>correct</th>\n",
       "    </tr>\n",
       "  </thead>\n",
       "  <tbody>\n",
       "    <tr>\n",
       "      <th>0</th>\n",
       "      <td>u1</td>\n",
       "      <td>1565096190868</td>\n",
       "      <td>1.0</td>\n",
       "      <td>q5012</td>\n",
       "      <td>b</td>\n",
       "      <td>38000.0</td>\n",
       "      <td>NaN</td>\n",
       "      <td>NaN</td>\n",
       "      <td>NaN</td>\n",
       "      <td>NaN</td>\n",
       "      <td>NaN</td>\n",
       "      <td>b3544</td>\n",
       "      <td>e3544</td>\n",
       "      <td>c</td>\n",
       "      <td>5</td>\n",
       "      <td>74</td>\n",
       "      <td>1568688208616</td>\n",
       "      <td>0</td>\n",
       "    </tr>\n",
       "    <tr>\n",
       "      <th>1</th>\n",
       "      <td>u1</td>\n",
       "      <td>1567978902667</td>\n",
       "      <td>273.0</td>\n",
       "      <td>q5012</td>\n",
       "      <td>b</td>\n",
       "      <td>33000.0</td>\n",
       "      <td>NaN</td>\n",
       "      <td>NaN</td>\n",
       "      <td>NaN</td>\n",
       "      <td>NaN</td>\n",
       "      <td>NaN</td>\n",
       "      <td>b3544</td>\n",
       "      <td>e3544</td>\n",
       "      <td>c</td>\n",
       "      <td>5</td>\n",
       "      <td>74</td>\n",
       "      <td>1568688208616</td>\n",
       "      <td>0</td>\n",
       "    </tr>\n",
       "    <tr>\n",
       "      <th>2</th>\n",
       "      <td>u1</td>\n",
       "      <td>1565096221062</td>\n",
       "      <td>2.0</td>\n",
       "      <td>q4706</td>\n",
       "      <td>c</td>\n",
       "      <td>24000.0</td>\n",
       "      <td>NaN</td>\n",
       "      <td>NaN</td>\n",
       "      <td>NaN</td>\n",
       "      <td>NaN</td>\n",
       "      <td>NaN</td>\n",
       "      <td>b3238</td>\n",
       "      <td>e3238</td>\n",
       "      <td>c</td>\n",
       "      <td>5</td>\n",
       "      <td>71</td>\n",
       "      <td>1572413670723</td>\n",
       "      <td>1</td>\n",
       "    </tr>\n",
       "    <tr>\n",
       "      <th>3</th>\n",
       "      <td>u1</td>\n",
       "      <td>1565096293432</td>\n",
       "      <td>3.0</td>\n",
       "      <td>q4366</td>\n",
       "      <td>b</td>\n",
       "      <td>68000.0</td>\n",
       "      <td>NaN</td>\n",
       "      <td>NaN</td>\n",
       "      <td>NaN</td>\n",
       "      <td>NaN</td>\n",
       "      <td>NaN</td>\n",
       "      <td>b2898</td>\n",
       "      <td>e2898</td>\n",
       "      <td>b</td>\n",
       "      <td>5</td>\n",
       "      <td>103</td>\n",
       "      <td>1572413871451</td>\n",
       "      <td>1</td>\n",
       "    </tr>\n",
       "    <tr>\n",
       "      <th>4</th>\n",
       "      <td>u1</td>\n",
       "      <td>1565096339668</td>\n",
       "      <td>4.0</td>\n",
       "      <td>q4829</td>\n",
       "      <td>a</td>\n",
       "      <td>42000.0</td>\n",
       "      <td>NaN</td>\n",
       "      <td>NaN</td>\n",
       "      <td>NaN</td>\n",
       "      <td>NaN</td>\n",
       "      <td>NaN</td>\n",
       "      <td>b3361</td>\n",
       "      <td>e3361</td>\n",
       "      <td>c</td>\n",
       "      <td>5</td>\n",
       "      <td>83</td>\n",
       "      <td>1561368291347</td>\n",
       "      <td>0</td>\n",
       "    </tr>\n",
       "  </tbody>\n",
       "</table>\n",
       "</div>"
      ],
      "text/plain": [
       "  user_id      timestamp  solving_id question_id user_answer  elapsed_time  \\\n",
       "0      u1  1565096190868         1.0       q5012           b       38000.0   \n",
       "1      u1  1567978902667       273.0       q5012           b       33000.0   \n",
       "2      u1  1565096221062         2.0       q4706           c       24000.0   \n",
       "3      u1  1565096293432         3.0       q4366           b       68000.0   \n",
       "4      u1  1565096339668         4.0       q4829           a       42000.0   \n",
       "\n",
       "  action_type item_id source platform  cursor_time bundle_id explanation_id  \\\n",
       "0         NaN     NaN    NaN      NaN          NaN     b3544          e3544   \n",
       "1         NaN     NaN    NaN      NaN          NaN     b3544          e3544   \n",
       "2         NaN     NaN    NaN      NaN          NaN     b3238          e3238   \n",
       "3         NaN     NaN    NaN      NaN          NaN     b2898          e2898   \n",
       "4         NaN     NaN    NaN      NaN          NaN     b3361          e3361   \n",
       "\n",
       "  correct_answer  part tags    deployed_at  correct  \n",
       "0              c     5   74  1568688208616        0  \n",
       "1              c     5   74  1568688208616        0  \n",
       "2              c     5   71  1572413670723        1  \n",
       "3              b     5  103  1572413871451        1  \n",
       "4              c     5   83  1561368291347        0  "
      ]
     },
     "execution_count": 115,
     "metadata": {},
     "output_type": "execute_result"
    }
   ],
   "source": [
    "# Create a new dataframe\n",
    "\n",
    "KTMQt_u1 = pd.merge(left=df1, right=questions_df, left_on='question_id', right_on='question_id')\n",
    "KTMQt_u1['correct'] = 0\n",
    "length = KTMQt_u1['correct'].count()\n",
    "count = 0\n",
    "\n",
    "for i in range(length):\n",
    "    if KTMQt_u1['user_answer'][count] == KTMQt_u1['correct_answer'][count] :\n",
    "        KTMQt_u1['correct'][count] = 1\n",
    "    count+=1\n",
    "    \n",
    "KTMQt_u1.head(5)"
   ]
  },
  {
   "cell_type": "code",
   "execution_count": 125,
   "metadata": {},
   "outputs": [
    {
     "data": {
      "text/plain": [
       "Index(['user_id', 'timestamp', 'solving_id', 'question_id', 'user_answer',\n",
       "       'elapsed_time', 'action_type', 'item_id', 'source', 'platform',\n",
       "       'cursor_time', 'bundle_id', 'explanation_id', 'correct_answer', 'part',\n",
       "       'tags', 'deployed_at', 'correct'],\n",
       "      dtype='object')"
      ]
     },
     "execution_count": 125,
     "metadata": {},
     "output_type": "execute_result"
    }
   ],
   "source": [
    "KTMQt_u1_columns = []\n",
    "KTMQt_u1_columns = KTMQt_u1.columns\n",
    "KTMQt_u1_columns"
   ]
  },
  {
   "cell_type": "code",
   "execution_count": 141,
   "metadata": {},
   "outputs": [
    {
     "name": "stderr",
     "output_type": "stream",
     "text": [
      "C:\\Users\\Prem\\anaconda3\\lib\\site-packages\\ipykernel_launcher.py:5: SettingWithCopyWarning: \n",
      "A value is trying to be set on a copy of a slice from a DataFrame.\n",
      "Try using .loc[row_indexer,col_indexer] = value instead\n",
      "\n",
      "See the caveats in the documentation: https://pandas.pydata.org/pandas-docs/stable/user_guide/indexing.html#returning-a-view-versus-a-copy\n",
      "  \"\"\"\n"
     ]
    }
   ],
   "source": [
    "KTMQt_u1_clean = KTMQt_u1[['user_id','timestamp','solving_id', 'question_id', \n",
    "       'elapsed_time', 'user_answer','correct_answer', 'correct']]\n",
    "\n",
    "# convert 'elapsed_time' milliseconds to seconds \n",
    "KTMQt_u1_clean['elapsed_time'] = KTMQt_u1_clean.loc[:,'elapsed_time'] /1000\n",
    "KTMQt_u1_clean = KTMQt_u1_clean.sort_values(by=['solving_id'])\n"
   ]
  },
  {
   "cell_type": "code",
   "execution_count": 142,
   "metadata": {},
   "outputs": [
    {
     "data": {
      "text/html": [
       "<div>\n",
       "<style scoped>\n",
       "    .dataframe tbody tr th:only-of-type {\n",
       "        vertical-align: middle;\n",
       "    }\n",
       "\n",
       "    .dataframe tbody tr th {\n",
       "        vertical-align: top;\n",
       "    }\n",
       "\n",
       "    .dataframe thead th {\n",
       "        text-align: right;\n",
       "    }\n",
       "</style>\n",
       "<table border=\"1\" class=\"dataframe\">\n",
       "  <thead>\n",
       "    <tr style=\"text-align: right;\">\n",
       "      <th></th>\n",
       "      <th>user_id</th>\n",
       "      <th>timestamp</th>\n",
       "      <th>solving_id</th>\n",
       "      <th>question_id</th>\n",
       "      <th>elapsed_time</th>\n",
       "      <th>user_answer</th>\n",
       "      <th>correct_answer</th>\n",
       "      <th>correct</th>\n",
       "      <th>score</th>\n",
       "    </tr>\n",
       "  </thead>\n",
       "  <tbody>\n",
       "    <tr>\n",
       "      <th>0</th>\n",
       "      <td>u1</td>\n",
       "      <td>1565096190868</td>\n",
       "      <td>1.0</td>\n",
       "      <td>q5012</td>\n",
       "      <td>38.0</td>\n",
       "      <td>b</td>\n",
       "      <td>c</td>\n",
       "      <td>0</td>\n",
       "      <td>0.695933</td>\n",
       "    </tr>\n",
       "    <tr>\n",
       "      <th>2</th>\n",
       "      <td>u1</td>\n",
       "      <td>1565096221062</td>\n",
       "      <td>2.0</td>\n",
       "      <td>q4706</td>\n",
       "      <td>24.0</td>\n",
       "      <td>c</td>\n",
       "      <td>c</td>\n",
       "      <td>1</td>\n",
       "      <td>0.695933</td>\n",
       "    </tr>\n",
       "    <tr>\n",
       "      <th>3</th>\n",
       "      <td>u1</td>\n",
       "      <td>1565096293432</td>\n",
       "      <td>3.0</td>\n",
       "      <td>q4366</td>\n",
       "      <td>68.0</td>\n",
       "      <td>b</td>\n",
       "      <td>b</td>\n",
       "      <td>1</td>\n",
       "      <td>0.695933</td>\n",
       "    </tr>\n",
       "    <tr>\n",
       "      <th>4</th>\n",
       "      <td>u1</td>\n",
       "      <td>1565096339668</td>\n",
       "      <td>4.0</td>\n",
       "      <td>q4829</td>\n",
       "      <td>42.0</td>\n",
       "      <td>a</td>\n",
       "      <td>c</td>\n",
       "      <td>0</td>\n",
       "      <td>0.695933</td>\n",
       "    </tr>\n",
       "    <tr>\n",
       "      <th>6</th>\n",
       "      <td>u1</td>\n",
       "      <td>1565096401774</td>\n",
       "      <td>5.0</td>\n",
       "      <td>q6528</td>\n",
       "      <td>59.0</td>\n",
       "      <td>b</td>\n",
       "      <td>d</td>\n",
       "      <td>0</td>\n",
       "      <td>0.695933</td>\n",
       "    </tr>\n",
       "  </tbody>\n",
       "</table>\n",
       "</div>"
      ],
      "text/plain": [
       "  user_id      timestamp  solving_id question_id  elapsed_time user_answer  \\\n",
       "0      u1  1565096190868         1.0       q5012          38.0           b   \n",
       "2      u1  1565096221062         2.0       q4706          24.0           c   \n",
       "3      u1  1565096293432         3.0       q4366          68.0           b   \n",
       "4      u1  1565096339668         4.0       q4829          42.0           a   \n",
       "6      u1  1565096401774         5.0       q6528          59.0           b   \n",
       "\n",
       "  correct_answer  correct     score  \n",
       "0              c        0  0.695933  \n",
       "2              c        1  0.695933  \n",
       "3              b        1  0.695933  \n",
       "4              c        0  0.695933  \n",
       "6              d        0  0.695933  "
      ]
     },
     "execution_count": 142,
     "metadata": {},
     "output_type": "execute_result"
    }
   ],
   "source": [
    "# create new 'score' column\n",
    "\n",
    "total_u1 = KTMQt_u1_clean['correct'].count()\n",
    "correct_u1 = KTMQt_u1_clean[KTMQt_u1_clean['correct'] == 1].count()\n",
    "score = correct_u1[0]/total_u1\n",
    "#print(score)\n",
    "\n",
    "KTMQt_u1_clean['score'] = score\n",
    "KTMQt_u1_clean.head()"
   ]
  },
  {
   "cell_type": "code",
   "execution_count": 68,
   "metadata": {},
   "outputs": [
    {
     "name": "stdout",
     "output_type": "stream",
     "text": [
      "0.6959334565619224\n"
     ]
    }
   ],
   "source": [
    "total_u1 = KTMQt_u1['correct'].count()\n",
    "correct_u1 = KTMQt_u1[KTMQt_u1['correct'] == 1].count()\n",
    "score = correct_u1[0]/total_u1\n",
    "print(score)"
   ]
  },
  {
   "cell_type": "code",
   "execution_count": 101,
   "metadata": {},
   "outputs": [
    {
     "data": {
      "text/plain": [
       "0         diagnosis\n",
       "1         diagnosis\n",
       "2         diagnosis\n",
       "3         diagnosis\n",
       "4         diagnosis\n",
       "           ...     \n",
       "2769    review_quiz\n",
       "2770    review_quiz\n",
       "2771    review_quiz\n",
       "2772        my_note\n",
       "2773        my_note\n",
       "Name: source, Length: 2774, dtype: object"
      ]
     },
     "execution_count": 101,
     "metadata": {},
     "output_type": "execute_result"
    }
   ],
   "source": [
    "three.source"
   ]
  },
  {
   "cell_type": "code",
   "execution_count": 78,
   "metadata": {},
   "outputs": [
    {
     "data": {
      "text/plain": [
       "671"
      ]
     },
     "execution_count": 78,
     "metadata": {},
     "output_type": "execute_result"
    }
   ],
   "source": [
    "KTMQt_u1['solving_id'].value_counts().count()"
   ]
  },
  {
   "cell_type": "code",
   "execution_count": 83,
   "metadata": {},
   "outputs": [
    {
     "data": {
      "text/plain": [
       "926"
      ]
     },
     "execution_count": 83,
     "metadata": {},
     "output_type": "execute_result"
    }
   ],
   "source": [
    "KTMQt_u1['question_id'].value_counts().count()"
   ]
  },
  {
   "cell_type": "code",
   "execution_count": 96,
   "metadata": {},
   "outputs": [
    {
     "data": {
      "text/plain": [
       "562"
      ]
     },
     "execution_count": 96,
     "metadata": {},
     "output_type": "execute_result"
    }
   ],
   "source": [
    "KTMQt_u1['bundle_id'].value_counts().count()"
   ]
  },
  {
   "cell_type": "code",
   "execution_count": 84,
   "metadata": {},
   "outputs": [
    {
     "data": {
      "text/plain": [
       "49578.44177449168"
      ]
     },
     "execution_count": 84,
     "metadata": {},
     "output_type": "execute_result"
    }
   ],
   "source": [
    "time_sec = KTMQt_u1['elapsed_time'].mean()"
   ]
  },
  {
   "cell_type": "code",
   "execution_count": 90,
   "metadata": {},
   "outputs": [
    {
     "data": {
      "text/plain": [
       "<matplotlib.axes._subplots.AxesSubplot at 0x236434ec5c8>"
      ]
     },
     "execution_count": 90,
     "metadata": {},
     "output_type": "execute_result"
    },
    {
     "data": {
      "image/png": "[encoded data removed]",
      "text/plain": [
       "<Figure size 432x288 with 1 Axes>"
      ]
     },
     "metadata": {
      "needs_background": "light"
     },
     "output_type": "display_data"
    }
   ],
   "source": [
    "sns.scatterplot(x='elapsed_time', y='correct', data=KTMQt_u1)"
   ]
  },
  {
   "cell_type": "code",
   "execution_count": 98,
   "metadata": {},
   "outputs": [
    {
     "data": {
      "text/html": [
       "<div>\n",
       "<style scoped>\n",
       "    .dataframe tbody tr th:only-of-type {\n",
       "        vertical-align: middle;\n",
       "    }\n",
       "\n",
       "    .dataframe tbody tr th {\n",
       "        vertical-align: top;\n",
       "    }\n",
       "\n",
       "    .dataframe thead th {\n",
       "        text-align: right;\n",
       "    }\n",
       "</style>\n",
       "<table border=\"1\" class=\"dataframe\">\n",
       "  <thead>\n",
       "    <tr style=\"text-align: right;\">\n",
       "      <th></th>\n",
       "      <th>user_id</th>\n",
       "      <th>timestamp</th>\n",
       "      <th>action_type</th>\n",
       "      <th>item_id</th>\n",
       "      <th>source</th>\n",
       "      <th>user_answer</th>\n",
       "      <th>platform</th>\n",
       "    </tr>\n",
       "  </thead>\n",
       "  <tbody>\n",
       "    <tr>\n",
       "      <th>0</th>\n",
       "      <td>u1</td>\n",
       "      <td>1565096151269</td>\n",
       "      <td>enter</td>\n",
       "      <td>b3544</td>\n",
       "      <td>diagnosis</td>\n",
       "      <td>NaN</td>\n",
       "      <td>mobile</td>\n",
       "    </tr>\n",
       "    <tr>\n",
       "      <th>1</th>\n",
       "      <td>u1</td>\n",
       "      <td>1565096187972</td>\n",
       "      <td>respond</td>\n",
       "      <td>q5012</td>\n",
       "      <td>diagnosis</td>\n",
       "      <td>b</td>\n",
       "      <td>mobile</td>\n",
       "    </tr>\n",
       "    <tr>\n",
       "      <th>2</th>\n",
       "      <td>u1</td>\n",
       "      <td>1565096194904</td>\n",
       "      <td>submit</td>\n",
       "      <td>b3544</td>\n",
       "      <td>diagnosis</td>\n",
       "      <td>NaN</td>\n",
       "      <td>mobile</td>\n",
       "    </tr>\n",
       "    <tr>\n",
       "      <th>3</th>\n",
       "      <td>u1</td>\n",
       "      <td>1565096195001</td>\n",
       "      <td>enter</td>\n",
       "      <td>b3238</td>\n",
       "      <td>diagnosis</td>\n",
       "      <td>NaN</td>\n",
       "      <td>mobile</td>\n",
       "    </tr>\n",
       "    <tr>\n",
       "      <th>4</th>\n",
       "      <td>u1</td>\n",
       "      <td>1565096218682</td>\n",
       "      <td>respond</td>\n",
       "      <td>q4706</td>\n",
       "      <td>diagnosis</td>\n",
       "      <td>c</td>\n",
       "      <td>mobile</td>\n",
       "    </tr>\n",
       "  </tbody>\n",
       "</table>\n",
       "</div>"
      ],
      "text/plain": [
       "  user_id      timestamp action_type item_id     source user_answer platform\n",
       "0      u1  1565096151269       enter   b3544  diagnosis         NaN   mobile\n",
       "1      u1  1565096187972     respond   q5012  diagnosis           b   mobile\n",
       "2      u1  1565096194904      submit   b3544  diagnosis         NaN   mobile\n",
       "3      u1  1565096195001       enter   b3238  diagnosis         NaN   mobile\n",
       "4      u1  1565096218682     respond   q4706  diagnosis           c   mobile"
      ]
     },
     "execution_count": 98,
     "metadata": {},
     "output_type": "execute_result"
    }
   ],
   "source": [
    "three.head()"
   ]
  },
  {
   "cell_type": "code",
   "execution_count": 70,
   "metadata": {},
   "outputs": [
    {
     "data": {
      "text/plain": [
       "<seaborn.axisgrid.PairGrid at 0x2362f4b4488>"
      ]
     },
     "execution_count": 70,
     "metadata": {},
     "output_type": "execute_result"
    },
    {
     "data": {
      "image/png": "[encoded data removed]",
      "text/plain": [
       "<Figure size 1980x1980 with 132 Axes>"
      ]
     },
     "metadata": {
      "needs_background": "light"
     },
     "output_type": "display_data"
    }
   ],
   "source": [
    "sns.pairplot(KTMQt_u1)"
   ]
  },
  {
   "cell_type": "markdown",
   "metadata": {},
   "source": [
    "<h1>Column Label Metadata</h1> <p>\n",
    "<b> timestamp </b> is the moment the question was given, represented as Unix timestamp in milliseconds. <p>\n",
    "<b> solving_id </b> represents each learning session of students corresponds to each bundle. It is a form of single integer, starting from 1.<p>\n",
    "<b> question_id </b>is the ID of the question that given to student, which is a form of q{integer}. <p>\n",
    "<b> user_answer </b>is the answer that the student submitted, recorded as a character between a and d inclusively.<p>\n",
    "<b> elapsed_time </b> is the time that the students spends on each question in milliseconds."
   ]
  },
  {
   "cell_type": "code",
   "execution_count": 15,
   "metadata": {},
   "outputs": [
    {
     "data": {
      "text/plain": [
       "user_id          object\n",
       "timestamp         int64\n",
       "solving_id      float64\n",
       "question_id      object\n",
       "user_answer      object\n",
       "elapsed_time    float64\n",
       "action_type      object\n",
       "item_id          object\n",
       "source           object\n",
       "platform         object\n",
       "cursor_time     float64\n",
       "dtype: object"
      ]
     },
     "execution_count": 15,
     "metadata": {},
     "output_type": "execute_result"
    }
   ],
   "source": [
    "# Data Types\n",
    "df1.dtypes"
   ]
  },
  {
   "cell_type": "code",
   "execution_count": 16,
   "metadata": {},
   "outputs": [
    {
     "data": {
      "text/html": [
       "<div>\n",
       "<style scoped>\n",
       "    .dataframe tbody tr th:only-of-type {\n",
       "        vertical-align: middle;\n",
       "    }\n",
       "\n",
       "    .dataframe tbody tr th {\n",
       "        vertical-align: top;\n",
       "    }\n",
       "\n",
       "    .dataframe thead th {\n",
       "        text-align: right;\n",
       "    }\n",
       "</style>\n",
       "<table border=\"1\" class=\"dataframe\">\n",
       "  <thead>\n",
       "    <tr style=\"text-align: right;\">\n",
       "      <th></th>\n",
       "      <th>count</th>\n",
       "      <th>mean</th>\n",
       "      <th>std</th>\n",
       "      <th>min</th>\n",
       "      <th>25%</th>\n",
       "      <th>50%</th>\n",
       "      <th>75%</th>\n",
       "      <th>max</th>\n",
       "    </tr>\n",
       "  </thead>\n",
       "  <tbody>\n",
       "    <tr>\n",
       "      <th>timestamp</th>\n",
       "      <td>9467.0</td>\n",
       "      <td>1.568029e+12</td>\n",
       "      <td>1.622956e+09</td>\n",
       "      <td>1.565096e+12</td>\n",
       "      <td>1.566655e+12</td>\n",
       "      <td>1.568800e+12</td>\n",
       "      <td>1.569544e+12</td>\n",
       "      <td>1.569648e+12</td>\n",
       "    </tr>\n",
       "    <tr>\n",
       "      <th>solving_id</th>\n",
       "      <td>1082.0</td>\n",
       "      <td>3.646201e+02</td>\n",
       "      <td>1.807275e+02</td>\n",
       "      <td>1.000000e+00</td>\n",
       "      <td>2.352500e+02</td>\n",
       "      <td>3.675000e+02</td>\n",
       "      <td>5.157500e+02</td>\n",
       "      <td>6.710000e+02</td>\n",
       "    </tr>\n",
       "    <tr>\n",
       "      <th>elapsed_time</th>\n",
       "      <td>1082.0</td>\n",
       "      <td>4.957844e+04</td>\n",
       "      <td>5.839036e+04</td>\n",
       "      <td>6.660000e+02</td>\n",
       "      <td>2.425000e+04</td>\n",
       "      <td>3.675000e+04</td>\n",
       "      <td>5.325000e+04</td>\n",
       "      <td>1.200000e+06</td>\n",
       "    </tr>\n",
       "    <tr>\n",
       "      <th>cursor_time</th>\n",
       "      <td>1220.0</td>\n",
       "      <td>1.846678e+04</td>\n",
       "      <td>4.188368e+04</td>\n",
       "      <td>0.000000e+00</td>\n",
       "      <td>0.000000e+00</td>\n",
       "      <td>1.186600e+04</td>\n",
       "      <td>1.757575e+04</td>\n",
       "      <td>3.898160e+05</td>\n",
       "    </tr>\n",
       "  </tbody>\n",
       "</table>\n",
       "</div>"
      ],
      "text/plain": [
       "               count          mean           std           min           25%  \\\n",
       "timestamp     9467.0  1.568029e+12  1.622956e+09  1.565096e+12  1.566655e+12   \n",
       "solving_id    1082.0  3.646201e+02  1.807275e+02  1.000000e+00  2.352500e+02   \n",
       "elapsed_time  1082.0  4.957844e+04  5.839036e+04  6.660000e+02  2.425000e+04   \n",
       "cursor_time   1220.0  1.846678e+04  4.188368e+04  0.000000e+00  0.000000e+00   \n",
       "\n",
       "                       50%           75%           max  \n",
       "timestamp     1.568800e+12  1.569544e+12  1.569648e+12  \n",
       "solving_id    3.675000e+02  5.157500e+02  6.710000e+02  \n",
       "elapsed_time  3.675000e+04  5.325000e+04  1.200000e+06  \n",
       "cursor_time   1.186600e+04  1.757575e+04  3.898160e+05  "
      ]
     },
     "execution_count": 16,
     "metadata": {},
     "output_type": "execute_result"
    }
   ],
   "source": [
    "# Description of the Columns \n",
    "df1.describe().T"
   ]
  },
  {
   "cell_type": "code",
   "execution_count": 17,
   "metadata": {},
   "outputs": [
    {
     "data": {
      "text/plain": [
       "u1    1.0\n",
       "Name: user_id, dtype: float64"
      ]
     },
     "execution_count": 17,
     "metadata": {},
     "output_type": "execute_result"
    }
   ],
   "source": [
    "df1['user_id'].value_counts(normalize=True)"
   ]
  },
  {
   "cell_type": "code",
   "execution_count": 18,
   "metadata": {},
   "outputs": [
    {
     "data": {
      "text/plain": [
       "1567115277665    0.000634\n",
       "1566219874725    0.000423\n",
       "1568767003631    0.000317\n",
       "1569392463396    0.000317\n",
       "1569590584935    0.000317\n",
       "                   ...   \n",
       "1569285315335    0.000106\n",
       "1565361242900    0.000106\n",
       "1565184506667    0.000106\n",
       "1565310624544    0.000106\n",
       "1566025932980    0.000106\n",
       "Name: timestamp, Length: 5058, dtype: float64"
      ]
     },
     "execution_count": 18,
     "metadata": {},
     "output_type": "execute_result"
    }
   ],
   "source": [
    "df1['timestamp'].value_counts(normalize=True)"
   ]
  },
  {
   "cell_type": "code",
   "execution_count": 19,
   "metadata": {},
   "outputs": [
    {
     "data": {
      "text/plain": [
       "219.0    0.007394\n",
       "271.0    0.004621\n",
       "367.0    0.004621\n",
       "610.0    0.004621\n",
       "270.0    0.004621\n",
       "           ...   \n",
       "303.0    0.000924\n",
       "451.0    0.000924\n",
       "594.0    0.000924\n",
       "599.0    0.000924\n",
       "1.0      0.000924\n",
       "Name: solving_id, Length: 671, dtype: float64"
      ]
     },
     "execution_count": 19,
     "metadata": {},
     "output_type": "execute_result"
    }
   ],
   "source": [
    "df1['solving_id'].value_counts(normalize=True)"
   ]
  },
  {
   "cell_type": "code",
   "execution_count": 20,
   "metadata": {},
   "outputs": [
    {
     "data": {
      "text/plain": [
       "q555     0.004621\n",
       "q698     0.003697\n",
       "q667     0.003697\n",
       "q729     0.003697\n",
       "q243     0.003697\n",
       "           ...   \n",
       "q3788    0.000924\n",
       "q2612    0.000924\n",
       "q8692    0.000924\n",
       "q1738    0.000924\n",
       "q7464    0.000924\n",
       "Name: question_id, Length: 926, dtype: float64"
      ]
     },
     "execution_count": 20,
     "metadata": {},
     "output_type": "execute_result"
    }
   ],
   "source": [
    "df1['question_id'].value_counts(normalize=True)"
   ]
  },
  {
   "cell_type": "code",
   "execution_count": 21,
   "metadata": {},
   "outputs": [
    {
     "data": {
      "text/plain": [
       "b    0.302399\n",
       "a    0.259704\n",
       "c    0.248765\n",
       "d    0.189132\n",
       "Name: user_answer, dtype: float64"
      ]
     },
     "execution_count": 21,
     "metadata": {},
     "output_type": "execute_result"
    }
   ],
   "source": [
    "df1['user_answer'].value_counts(normalize=True)"
   ]
  },
  {
   "cell_type": "code",
   "execution_count": 22,
   "metadata": {},
   "outputs": [
    {
     "data": {
      "text/plain": [
       "26000.0     0.028651\n",
       "19000.0     0.027726\n",
       "23000.0     0.025878\n",
       "20000.0     0.024954\n",
       "21000.0     0.024030\n",
       "              ...   \n",
       "69000.0     0.000924\n",
       "181000.0    0.000924\n",
       "107000.0    0.000924\n",
       "324000.0    0.000924\n",
       "188000.0    0.000924\n",
       "Name: elapsed_time, Length: 206, dtype: float64"
      ]
     },
     "execution_count": 22,
     "metadata": {},
     "output_type": "execute_result"
    }
   ],
   "source": [
    "df1['elapsed_time'].value_counts(normalize=True)"
   ]
  },
  {
   "cell_type": "code",
   "execution_count": 23,
   "metadata": {},
   "outputs": [
    {
     "data": {
      "text/plain": [
       "enter          0.322719\n",
       "respond        0.208945\n",
       "submit         0.184615\n",
       "quit           0.138104\n",
       "pause_audio    0.070006\n",
       "play_audio     0.067621\n",
       "play_video     0.003936\n",
       "pause_video    0.003936\n",
       "pay            0.000119\n",
       "Name: action_type, dtype: float64"
      ]
     },
     "execution_count": 23,
     "metadata": {},
     "output_type": "execute_result"
    }
   ],
   "source": [
    "df1['action_type'].value_counts(normalize=True)"
   ]
  },
  {
   "cell_type": "code",
   "execution_count": 24,
   "metadata": {},
   "outputs": [
    {
     "data": {
      "text/plain": [
       "b668      0.004651\n",
       "q6572     0.004293\n",
       "b1149     0.004055\n",
       "b1452     0.003339\n",
       "b7        0.003339\n",
       "            ...   \n",
       "q17211    0.000358\n",
       "q4559     0.000358\n",
       "q4502     0.000358\n",
       "b56       0.000239\n",
       "p157      0.000119\n",
       "Name: item_id, Length: 1476, dtype: float64"
      ]
     },
     "execution_count": 24,
     "metadata": {},
     "output_type": "execute_result"
    }
   ],
   "source": [
    "df1['item_id'].value_counts(normalize=True)"
   ]
  },
  {
   "cell_type": "code",
   "execution_count": 25,
   "metadata": {},
   "outputs": [
    {
     "data": {
      "text/plain": [
       "sprint            0.845897\n",
       "tutor             0.041269\n",
       "my_note           0.035305\n",
       "adaptive_offer    0.030177\n",
       "review_quiz       0.023616\n",
       "archive           0.014074\n",
       "diagnosis         0.007514\n",
       "review            0.002147\n",
       "Name: source, dtype: float64"
      ]
     },
     "execution_count": 25,
     "metadata": {},
     "output_type": "execute_result"
    }
   ],
   "source": [
    "df1['source'].value_counts(normalize=True)"
   ]
  },
  {
   "cell_type": "code",
   "execution_count": 26,
   "metadata": {},
   "outputs": [
    {
     "data": {
      "text/plain": [
       "mobile    1.0\n",
       "Name: platform, dtype: float64"
      ]
     },
     "execution_count": 26,
     "metadata": {},
     "output_type": "execute_result"
    }
   ],
   "source": [
    "df1['platform'].value_counts(normalize=True)"
   ]
  },
  {
   "cell_type": "code",
   "execution_count": 27,
   "metadata": {},
   "outputs": [
    {
     "data": {
      "text/plain": [
       "0.0        0.409836\n",
       "1045.0     0.040984\n",
       "15768.0    0.004918\n",
       "14738.0    0.003279\n",
       "15257.0    0.003279\n",
       "             ...   \n",
       "40908.0    0.000820\n",
       "28979.0    0.000820\n",
       "21812.0    0.000820\n",
       "21813.0    0.000820\n",
       "41982.0    0.000820\n",
       "Name: cursor_time, Length: 612, dtype: float64"
      ]
     },
     "execution_count": 27,
     "metadata": {},
     "output_type": "execute_result"
    }
   ],
   "source": [
    "df1['cursor_time'].value_counts(normalize=True)"
   ]
  },
  {
   "cell_type": "code",
   "execution_count": 28,
   "metadata": {},
   "outputs": [
    {
     "name": "stdout",
     "output_type": "stream",
     "text": [
      "timestamp: \n",
      "1565096151269\n",
      "1569647680211\n",
      "---\n",
      "elapsed_time: \n",
      "666.0\n",
      "1200000.0\n",
      "---\n",
      "cursor_time: \n",
      "0.0\n",
      "389816.0\n",
      "---\n"
     ]
    }
   ],
   "source": [
    "# range of values\n",
    "\n",
    "print('timestamp: '); print(df1['timestamp'].min()); print(df1['timestamp'].max()), print('---')\n",
    "\n",
    "print('elapsed_time: '); print(df1['elapsed_time'].min()); print(df1['elapsed_time'].max()); print('---')\n",
    "\n",
    "print('cursor_time: '); print(df1['cursor_time'].min()); print(df1['cursor_time'].max()); print('---')"
   ]
  },
  {
   "cell_type": "code",
   "execution_count": 29,
   "metadata": {},
   "outputs": [
    {
     "data": {
      "text/plain": [
       "user_id            0\n",
       "timestamp          0\n",
       "solving_id      8385\n",
       "question_id     8385\n",
       "user_answer     6633\n",
       "elapsed_time    8385\n",
       "action_type     1082\n",
       "item_id         1082\n",
       "source          1083\n",
       "platform        1083\n",
       "cursor_time     8247\n",
       "dtype: int64"
      ]
     },
     "execution_count": 29,
     "metadata": {},
     "output_type": "execute_result"
    }
   ],
   "source": [
    "df1.isnull().sum()"
   ]
  },
  {
   "cell_type": "markdown",
   "metadata": {},
   "source": [
    "Data Cleaning: Clean up the data in order to prepare it for the next steps of\n",
    "your project.\n",
    "\n",
    "NA or missing values<p>\n",
    "Duplicates"
   ]
  },
  {
   "cell_type": "code",
   "execution_count": 30,
   "metadata": {},
   "outputs": [
    {
     "data": {
      "text/html": [
       "<div>\n",
       "<style scoped>\n",
       "    .dataframe tbody tr th:only-of-type {\n",
       "        vertical-align: middle;\n",
       "    }\n",
       "\n",
       "    .dataframe tbody tr th {\n",
       "        vertical-align: top;\n",
       "    }\n",
       "\n",
       "    .dataframe thead th {\n",
       "        text-align: right;\n",
       "    }\n",
       "</style>\n",
       "<table border=\"1\" class=\"dataframe\">\n",
       "  <thead>\n",
       "    <tr style=\"text-align: right;\">\n",
       "      <th></th>\n",
       "      <th>question_id</th>\n",
       "      <th>bundle_id</th>\n",
       "      <th>explanation_id</th>\n",
       "      <th>correct_answer</th>\n",
       "      <th>part</th>\n",
       "      <th>tags</th>\n",
       "      <th>deployed_at</th>\n",
       "    </tr>\n",
       "  </thead>\n",
       "  <tbody>\n",
       "    <tr>\n",
       "      <th>0</th>\n",
       "      <td>q1</td>\n",
       "      <td>b1</td>\n",
       "      <td>e1</td>\n",
       "      <td>b</td>\n",
       "      <td>1</td>\n",
       "      <td>1;2;179;181</td>\n",
       "      <td>1558093217098</td>\n",
       "    </tr>\n",
       "    <tr>\n",
       "      <th>1</th>\n",
       "      <td>q2</td>\n",
       "      <td>b2</td>\n",
       "      <td>e2</td>\n",
       "      <td>a</td>\n",
       "      <td>1</td>\n",
       "      <td>15;2;182</td>\n",
       "      <td>1558093219720</td>\n",
       "    </tr>\n",
       "    <tr>\n",
       "      <th>2</th>\n",
       "      <td>q3</td>\n",
       "      <td>b3</td>\n",
       "      <td>e3</td>\n",
       "      <td>b</td>\n",
       "      <td>1</td>\n",
       "      <td>14;2;179;183</td>\n",
       "      <td>1558093222784</td>\n",
       "    </tr>\n",
       "  </tbody>\n",
       "</table>\n",
       "</div>"
      ],
      "text/plain": [
       "  question_id bundle_id explanation_id correct_answer  part          tags  \\\n",
       "0          q1        b1             e1              b     1   1;2;179;181   \n",
       "1          q2        b2             e2              a     1      15;2;182   \n",
       "2          q3        b3             e3              b     1  14;2;179;183   \n",
       "\n",
       "     deployed_at  \n",
       "0  1558093217098  \n",
       "1  1558093219720  \n",
       "2  1558093222784  "
      ]
     },
     "execution_count": 30,
     "metadata": {},
     "output_type": "execute_result"
    }
   ],
   "source": [
    "# questions\n",
    "path = questions \n",
    "questions_df = pd.read_csv(path)\n",
    "questions_df.head(3)"
   ]
  },
  {
   "cell_type": "code",
   "execution_count": 31,
   "metadata": {},
   "outputs": [],
   "source": [
    "\"\"\"# create a df1.correct column with default = 0\n",
    "\n",
    "    \n",
    "for ui, ur in df1.iterrows():\n",
    "    for qi, qr in questions_df.iterrows():\n",
    "        if (ur.user_answer == qr.correct_answer) and (ur.question_id == qr.question_id):\n",
    "            df1['correct'][ui] = 1\n",
    "    break\"\"\""
   ]
  },
  {
   "cell_type": "code",
   "execution_count": null,
   "metadata": {},
   "outputs": [],
   "source": [
    "\"\"\"df1['correct'] = 0\n",
    "\n",
    "for i in range(100): \n",
    "    for a,b in df1['question_id'].items():\n",
    "        for g,h in questions_df['question_id'].items():\n",
    "            if b == h:\n",
    "                #print(h)\n",
    "                for c,d in df1['user_answer'].items():\n",
    "                    for e,f in questions_df['correct_answer'].items():\n",
    "                        if (d == f): \n",
    "                            df1.iloc[i,11] = 1\n",
    "                            break\"\"\""
   ]
  },
  {
   "cell_type": "code",
   "execution_count": null,
   "metadata": {},
   "outputs": [],
   "source": [
    "\"\"\"df1['correct'] = 0\n",
    "\n",
    "for i in range(100): \n",
    "    for a,b in df1['question_id'].items():\n",
    "        for g,h in questions_df['question_id'].items():\n",
    "            if b == h:\n",
    "                #print(h)\n",
    "                    for e,f in questions_df['correct_answer'].items():\n",
    "                        answer = f\n",
    "                        for c,d in df1['user_answer'].items():\n",
    "                            if d == answer:\n",
    "                                df1.loc[:,'correct'] = 1\"\"\"\n",
    "                    "
   ]
  },
  {
   "cell_type": "code",
   "execution_count": null,
   "metadata": {},
   "outputs": [],
   "source": [
    "#df1.head()\n",
    "#print(df1.iloc[:,11].sum())\n",
    "df1.correct.sum()\n",
    "df1.correct"
   ]
  },
  {
   "cell_type": "code",
   "execution_count": null,
   "metadata": {},
   "outputs": [],
   "source": [
    "\"\"\"from pandas_profiling import ProfileReport\n",
    "prof = ProfileReport(df1)\n",
    "prof.to_notebook_iframe()\n",
    "prof.to_file(output_file='./df1.html')\"\"\""
   ]
  }
 ],
 "metadata": {
  "kernelspec": {
   "display_name": "Python 3",
   "language": "python",
   "name": "python3"
  },
  "language_info": {
   "codemirror_mode": {
    "name": "ipython",
    "version": 3
   },
   "file_extension": ".py",
   "mimetype": "text/x-python",
   "name": "python",
   "nbconvert_exporter": "python",
   "pygments_lexer": "ipython3",
   "version": "3.7.6"
  }
 },
 "nbformat": 4,
 "nbformat_minor": 4
}
