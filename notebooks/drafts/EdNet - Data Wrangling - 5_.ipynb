{
 "cells": [
  {
   "cell_type": "markdown",
   "metadata": {},
   "source": [
    "<h1>EdNet - Optimize Student Performance: Data Wrangling</h1>"
   ]
  },
  {
   "cell_type": "markdown",
   "metadata": {},
   "source": [
    "Project GitHub: https://github.com/premonish/EdNet<p>\n",
    "\n",
    "\n",
    "<b>EdNet is composed of a total of 131,441,538 interactions collected from 784,309 students of Santa since 2017.</b>\n",
    "\n",
    "\"Dataset:\n",
    "As we said, there are four datasets named KT1, KT2, KT3, and KT4 with different extents. Here's common features of these datasets:\n",
    "\n",
    "The whole dataset is divided by students: {user_id}.csv only contains {user_id}'s interactions.\n",
    "The timestamps are different from the real values, which are modified (shifted by fixed values) due to security issues.\n",
    "Download links\n",
    "EdNet-KT1 : bit.ly/ednet_kt1\n",
    "EdNet-KT2 : bit.ly/ednet-kt2\n",
    "EdNet-KT3 : bit.ly/ednet-kt3\n",
    "EdNet-KT4 : bit.ly/ednet-kt4\n",
    "Contents : bit.ly/ednet-content\n",
    "KT1\n",
    "\n",
    "The whole dataset is divided by students: {user_id}.csv only contains {user_id}'s interactions.\"\n",
    "    \n",
    "SOURCE: https://github.com/riiid/ednet.git"
   ]
  },
  {
   "cell_type": "code",
   "execution_count": 1,
   "metadata": {},
   "outputs": [],
   "source": [
    "# I get by with a little help from my friends\n",
    "import matplotlib.pyplot as plt\n",
    "import numpy as np\n",
    "import seaborn as sns\n",
    "import pandas as pd\n",
    "import datetime\n",
    "import glob"
   ]
  },
  {
   "cell_type": "code",
   "execution_count": 2,
   "metadata": {},
   "outputs": [
    {
     "name": "stdout",
     "output_type": "stream",
     "text": [
      "C:\\Users\\Prem\\Desktop\\SPRINGBOARD_MASTER\\EdNet\\data\\raw\n"
     ]
    }
   ],
   "source": [
    "cd ~/Desktop/SPRINGBOARD_MASTER/EdNet/data/raw"
   ]
  },
  {
   "cell_type": "code",
   "execution_count": 3,
   "metadata": {},
   "outputs": [
    {
     "data": {
      "text/html": [
       "<div>\n",
       "<style scoped>\n",
       "    .dataframe tbody tr th:only-of-type {\n",
       "        vertical-align: middle;\n",
       "    }\n",
       "\n",
       "    .dataframe tbody tr th {\n",
       "        vertical-align: top;\n",
       "    }\n",
       "\n",
       "    .dataframe thead th {\n",
       "        text-align: right;\n",
       "    }\n",
       "</style>\n",
       "<table border=\"1\" class=\"dataframe\">\n",
       "  <thead>\n",
       "    <tr style=\"text-align: right;\">\n",
       "      <th></th>\n",
       "      <th>user_id</th>\n",
       "      <th>timestamp</th>\n",
       "      <th>solving_id</th>\n",
       "      <th>question_id</th>\n",
       "      <th>user_answer</th>\n",
       "      <th>elapsed_time</th>\n",
       "    </tr>\n",
       "  </thead>\n",
       "  <tbody>\n",
       "    <tr>\n",
       "      <th>0</th>\n",
       "      <td>u1</td>\n",
       "      <td>1565096190868</td>\n",
       "      <td>1</td>\n",
       "      <td>q5012</td>\n",
       "      <td>b</td>\n",
       "      <td>38000</td>\n",
       "    </tr>\n",
       "    <tr>\n",
       "      <th>1</th>\n",
       "      <td>u1</td>\n",
       "      <td>1565096221062</td>\n",
       "      <td>2</td>\n",
       "      <td>q4706</td>\n",
       "      <td>c</td>\n",
       "      <td>24000</td>\n",
       "    </tr>\n",
       "    <tr>\n",
       "      <th>2</th>\n",
       "      <td>u1</td>\n",
       "      <td>1565096293432</td>\n",
       "      <td>3</td>\n",
       "      <td>q4366</td>\n",
       "      <td>b</td>\n",
       "      <td>68000</td>\n",
       "    </tr>\n",
       "    <tr>\n",
       "      <th>3</th>\n",
       "      <td>u1</td>\n",
       "      <td>1565096339668</td>\n",
       "      <td>4</td>\n",
       "      <td>q4829</td>\n",
       "      <td>a</td>\n",
       "      <td>42000</td>\n",
       "    </tr>\n",
       "    <tr>\n",
       "      <th>4</th>\n",
       "      <td>u1</td>\n",
       "      <td>1565096401774</td>\n",
       "      <td>5</td>\n",
       "      <td>q6528</td>\n",
       "      <td>b</td>\n",
       "      <td>59000</td>\n",
       "    </tr>\n",
       "  </tbody>\n",
       "</table>\n",
       "</div>"
      ],
      "text/plain": [
       "  user_id      timestamp  solving_id question_id user_answer  elapsed_time\n",
       "0      u1  1565096190868           1       q5012           b         38000\n",
       "1      u1  1565096221062           2       q4706           c         24000\n",
       "2      u1  1565096293432           3       q4366           b         68000\n",
       "3      u1  1565096339668           4       q4829           a         42000\n",
       "4      u1  1565096401774           5       q6528           b         59000"
      ]
     },
     "execution_count": 3,
     "metadata": {},
     "output_type": "execute_result"
    }
   ],
   "source": [
    "prefix = '~/Desktop/SPRINGBOARD_MASTER/EdNet/data/raw/EdNet-'\n",
    "folder_1 = prefix + 'KT1/KT1/'\n",
    "folder_2 = prefix + 'KT2/KT2/'\n",
    "folder_3 = prefix + 'KT3/KT3/'\n",
    "folder_4 = prefix + 'KT4/KT4/'\n",
    "questions = prefix + 'Contents/contents/questions.csv'\n",
    "\n",
    "filenames = ['u1.csv']\n",
    "\n",
    "# create pathname\n",
    "# create pandas dataframe\n",
    "# extract user_id from filename and assign user_id as values to column 1\n",
    "path = folder_1 + filenames[0]\n",
    "one = pd.read_csv(path)\n",
    "one.insert(0, 'user_id', filenames[0].split('.')[0])\n",
    "  \n",
    "one.head()"
   ]
  },
  {
   "cell_type": "code",
   "execution_count": 4,
   "metadata": {},
   "outputs": [],
   "source": [
    "# 2\n",
    "path = folder_2 + filenames[0]\n",
    "two = pd.read_csv(path) \n",
    "two.insert(0, 'user_id', filenames[0].split('.')[0])"
   ]
  },
  {
   "cell_type": "code",
   "execution_count": 5,
   "metadata": {},
   "outputs": [],
   "source": [
    "# 3\n",
    "path = folder_3 + filenames[0]\n",
    "three = pd.read_csv(path)\n",
    "three.insert(0, 'user_id', filenames[0].split('.')[0])"
   ]
  },
  {
   "cell_type": "code",
   "execution_count": 6,
   "metadata": {},
   "outputs": [],
   "source": [
    "# 4\n",
    "path = folder_4 + filenames[0]\n",
    "four = pd.read_csv(path)\n",
    "four.insert(0, 'user_id', filenames[0].split('.')[0])"
   ]
  },
  {
   "cell_type": "code",
   "execution_count": 7,
   "metadata": {},
   "outputs": [
    {
     "data": {
      "text/html": [
       "<div>\n",
       "<style scoped>\n",
       "    .dataframe tbody tr th:only-of-type {\n",
       "        vertical-align: middle;\n",
       "    }\n",
       "\n",
       "    .dataframe tbody tr th {\n",
       "        vertical-align: top;\n",
       "    }\n",
       "\n",
       "    .dataframe thead th {\n",
       "        text-align: right;\n",
       "    }\n",
       "</style>\n",
       "<table border=\"1\" class=\"dataframe\">\n",
       "  <thead>\n",
       "    <tr style=\"text-align: right;\">\n",
       "      <th></th>\n",
       "      <th>user_id</th>\n",
       "      <th>timestamp</th>\n",
       "      <th>solving_id</th>\n",
       "      <th>question_id</th>\n",
       "      <th>user_answer</th>\n",
       "      <th>elapsed_time</th>\n",
       "      <th>action_type</th>\n",
       "      <th>item_id</th>\n",
       "      <th>source</th>\n",
       "      <th>platform</th>\n",
       "      <th>cursor_time</th>\n",
       "    </tr>\n",
       "  </thead>\n",
       "  <tbody>\n",
       "    <tr>\n",
       "      <th>0</th>\n",
       "      <td>u1</td>\n",
       "      <td>1565096190868</td>\n",
       "      <td>1.0</td>\n",
       "      <td>q5012</td>\n",
       "      <td>b</td>\n",
       "      <td>38000.0</td>\n",
       "      <td>NaN</td>\n",
       "      <td>NaN</td>\n",
       "      <td>NaN</td>\n",
       "      <td>NaN</td>\n",
       "      <td>NaN</td>\n",
       "    </tr>\n",
       "    <tr>\n",
       "      <th>1</th>\n",
       "      <td>u1</td>\n",
       "      <td>1565096221062</td>\n",
       "      <td>2.0</td>\n",
       "      <td>q4706</td>\n",
       "      <td>c</td>\n",
       "      <td>24000.0</td>\n",
       "      <td>NaN</td>\n",
       "      <td>NaN</td>\n",
       "      <td>NaN</td>\n",
       "      <td>NaN</td>\n",
       "      <td>NaN</td>\n",
       "    </tr>\n",
       "    <tr>\n",
       "      <th>2</th>\n",
       "      <td>u1</td>\n",
       "      <td>1565096293432</td>\n",
       "      <td>3.0</td>\n",
       "      <td>q4366</td>\n",
       "      <td>b</td>\n",
       "      <td>68000.0</td>\n",
       "      <td>NaN</td>\n",
       "      <td>NaN</td>\n",
       "      <td>NaN</td>\n",
       "      <td>NaN</td>\n",
       "      <td>NaN</td>\n",
       "    </tr>\n",
       "  </tbody>\n",
       "</table>\n",
       "</div>"
      ],
      "text/plain": [
       "  user_id      timestamp  solving_id question_id user_answer  elapsed_time  \\\n",
       "0      u1  1565096190868         1.0       q5012           b       38000.0   \n",
       "1      u1  1565096221062         2.0       q4706           c       24000.0   \n",
       "2      u1  1565096293432         3.0       q4366           b       68000.0   \n",
       "\n",
       "  action_type item_id source platform  cursor_time  \n",
       "0         NaN     NaN    NaN      NaN          NaN  \n",
       "1         NaN     NaN    NaN      NaN          NaN  \n",
       "2         NaN     NaN    NaN      NaN          NaN  "
      ]
     },
     "execution_count": 7,
     "metadata": {},
     "output_type": "execute_result"
    }
   ],
   "source": [
    "# concatenate 4 dataframes into 1\n",
    "df1 = pd.concat([one,two,three,four])\n",
    "df1.head(3)"
   ]
  },
  {
   "cell_type": "code",
   "execution_count": 8,
   "metadata": {},
   "outputs": [
    {
     "data": {
      "text/html": [
       "<div>\n",
       "<style scoped>\n",
       "    .dataframe tbody tr th:only-of-type {\n",
       "        vertical-align: middle;\n",
       "    }\n",
       "\n",
       "    .dataframe tbody tr th {\n",
       "        vertical-align: top;\n",
       "    }\n",
       "\n",
       "    .dataframe thead th {\n",
       "        text-align: right;\n",
       "    }\n",
       "</style>\n",
       "<table border=\"1\" class=\"dataframe\">\n",
       "  <thead>\n",
       "    <tr style=\"text-align: right;\">\n",
       "      <th></th>\n",
       "      <th>question_id</th>\n",
       "      <th>bundle_id</th>\n",
       "      <th>explanation_id</th>\n",
       "      <th>correct_answer</th>\n",
       "      <th>part</th>\n",
       "      <th>tags</th>\n",
       "      <th>deployed_at</th>\n",
       "    </tr>\n",
       "  </thead>\n",
       "  <tbody>\n",
       "    <tr>\n",
       "      <th>0</th>\n",
       "      <td>q1</td>\n",
       "      <td>b1</td>\n",
       "      <td>e1</td>\n",
       "      <td>b</td>\n",
       "      <td>1</td>\n",
       "      <td>1;2;179;181</td>\n",
       "      <td>1558093217098</td>\n",
       "    </tr>\n",
       "    <tr>\n",
       "      <th>1</th>\n",
       "      <td>q2</td>\n",
       "      <td>b2</td>\n",
       "      <td>e2</td>\n",
       "      <td>a</td>\n",
       "      <td>1</td>\n",
       "      <td>15;2;182</td>\n",
       "      <td>1558093219720</td>\n",
       "    </tr>\n",
       "    <tr>\n",
       "      <th>2</th>\n",
       "      <td>q3</td>\n",
       "      <td>b3</td>\n",
       "      <td>e3</td>\n",
       "      <td>b</td>\n",
       "      <td>1</td>\n",
       "      <td>14;2;179;183</td>\n",
       "      <td>1558093222784</td>\n",
       "    </tr>\n",
       "  </tbody>\n",
       "</table>\n",
       "</div>"
      ],
      "text/plain": [
       "  question_id bundle_id explanation_id correct_answer  part          tags  \\\n",
       "0          q1        b1             e1              b     1   1;2;179;181   \n",
       "1          q2        b2             e2              a     1      15;2;182   \n",
       "2          q3        b3             e3              b     1  14;2;179;183   \n",
       "\n",
       "     deployed_at  \n",
       "0  1558093217098  \n",
       "1  1558093219720  \n",
       "2  1558093222784  "
      ]
     },
     "execution_count": 8,
     "metadata": {},
     "output_type": "execute_result"
    }
   ],
   "source": [
    "# questions\n",
    "path = questions \n",
    "questions_df = pd.read_csv(path)\n",
    "questions_df.head(3)"
   ]
  },
  {
   "cell_type": "code",
   "execution_count": 9,
   "metadata": {},
   "outputs": [
    {
     "data": {
      "text/plain": [
       "Index(['user_id', 'timestamp', 'solving_id', 'question_id', 'user_answer',\n",
       "       'elapsed_time', 'action_type', 'item_id', 'source', 'platform',\n",
       "       'cursor_time'],\n",
       "      dtype='object')"
      ]
     },
     "execution_count": 9,
     "metadata": {},
     "output_type": "execute_result"
    }
   ],
   "source": [
    "# Column Names\n",
    "df1.columns"
   ]
  },
  {
   "cell_type": "markdown",
   "metadata": {},
   "source": [
    "<h1>Column Label Metadata</h1> <p>\n",
    "<b> timestamp </b> is the moment the question was given, represented as Unix timestamp in milliseconds. <p>\n",
    "<b> solving_id </b> represents each learning session of students corresponds to each bundle. It is a form of single integer, starting from 1.<p>\n",
    "<b> question_id </b>is the ID of the question that given to student, which is a form of q{integer}. <p>\n",
    "<b> user_answer </b>is the answer that the student submitted, recorded as a character between a and d inclusively.<p>\n",
    "<b> elapsed_time </b> is the time that the students spends on each question in milliseconds."
   ]
  },
  {
   "cell_type": "code",
   "execution_count": 10,
   "metadata": {},
   "outputs": [
    {
     "data": {
      "text/plain": [
       "user_id          object\n",
       "timestamp         int64\n",
       "solving_id      float64\n",
       "question_id      object\n",
       "user_answer      object\n",
       "elapsed_time    float64\n",
       "action_type      object\n",
       "item_id          object\n",
       "source           object\n",
       "platform         object\n",
       "cursor_time     float64\n",
       "dtype: object"
      ]
     },
     "execution_count": 10,
     "metadata": {},
     "output_type": "execute_result"
    }
   ],
   "source": [
    "# Data Types\n",
    "df1.dtypes"
   ]
  },
  {
   "cell_type": "code",
   "execution_count": 11,
   "metadata": {},
   "outputs": [
    {
     "data": {
      "text/html": [
       "<div>\n",
       "<style scoped>\n",
       "    .dataframe tbody tr th:only-of-type {\n",
       "        vertical-align: middle;\n",
       "    }\n",
       "\n",
       "    .dataframe tbody tr th {\n",
       "        vertical-align: top;\n",
       "    }\n",
       "\n",
       "    .dataframe thead th {\n",
       "        text-align: right;\n",
       "    }\n",
       "</style>\n",
       "<table border=\"1\" class=\"dataframe\">\n",
       "  <thead>\n",
       "    <tr style=\"text-align: right;\">\n",
       "      <th></th>\n",
       "      <th>count</th>\n",
       "      <th>mean</th>\n",
       "      <th>std</th>\n",
       "      <th>min</th>\n",
       "      <th>25%</th>\n",
       "      <th>50%</th>\n",
       "      <th>75%</th>\n",
       "      <th>max</th>\n",
       "    </tr>\n",
       "  </thead>\n",
       "  <tbody>\n",
       "    <tr>\n",
       "      <th>timestamp</th>\n",
       "      <td>9467.0</td>\n",
       "      <td>1.568029e+12</td>\n",
       "      <td>1.622956e+09</td>\n",
       "      <td>1.565096e+12</td>\n",
       "      <td>1.566655e+12</td>\n",
       "      <td>1.568800e+12</td>\n",
       "      <td>1.569544e+12</td>\n",
       "      <td>1.569648e+12</td>\n",
       "    </tr>\n",
       "    <tr>\n",
       "      <th>solving_id</th>\n",
       "      <td>1082.0</td>\n",
       "      <td>3.646201e+02</td>\n",
       "      <td>1.807275e+02</td>\n",
       "      <td>1.000000e+00</td>\n",
       "      <td>2.352500e+02</td>\n",
       "      <td>3.675000e+02</td>\n",
       "      <td>5.157500e+02</td>\n",
       "      <td>6.710000e+02</td>\n",
       "    </tr>\n",
       "    <tr>\n",
       "      <th>elapsed_time</th>\n",
       "      <td>1082.0</td>\n",
       "      <td>4.957844e+04</td>\n",
       "      <td>5.839036e+04</td>\n",
       "      <td>6.660000e+02</td>\n",
       "      <td>2.425000e+04</td>\n",
       "      <td>3.675000e+04</td>\n",
       "      <td>5.325000e+04</td>\n",
       "      <td>1.200000e+06</td>\n",
       "    </tr>\n",
       "    <tr>\n",
       "      <th>cursor_time</th>\n",
       "      <td>1220.0</td>\n",
       "      <td>1.846678e+04</td>\n",
       "      <td>4.188368e+04</td>\n",
       "      <td>0.000000e+00</td>\n",
       "      <td>0.000000e+00</td>\n",
       "      <td>1.186600e+04</td>\n",
       "      <td>1.757575e+04</td>\n",
       "      <td>3.898160e+05</td>\n",
       "    </tr>\n",
       "  </tbody>\n",
       "</table>\n",
       "</div>"
      ],
      "text/plain": [
       "               count          mean           std           min           25%  \\\n",
       "timestamp     9467.0  1.568029e+12  1.622956e+09  1.565096e+12  1.566655e+12   \n",
       "solving_id    1082.0  3.646201e+02  1.807275e+02  1.000000e+00  2.352500e+02   \n",
       "elapsed_time  1082.0  4.957844e+04  5.839036e+04  6.660000e+02  2.425000e+04   \n",
       "cursor_time   1220.0  1.846678e+04  4.188368e+04  0.000000e+00  0.000000e+00   \n",
       "\n",
       "                       50%           75%           max  \n",
       "timestamp     1.568800e+12  1.569544e+12  1.569648e+12  \n",
       "solving_id    3.675000e+02  5.157500e+02  6.710000e+02  \n",
       "elapsed_time  3.675000e+04  5.325000e+04  1.200000e+06  \n",
       "cursor_time   1.186600e+04  1.757575e+04  3.898160e+05  "
      ]
     },
     "execution_count": 11,
     "metadata": {},
     "output_type": "execute_result"
    }
   ],
   "source": [
    "# Description of the Columns \n",
    "df1.describe().T"
   ]
  },
  {
   "cell_type": "code",
   "execution_count": 12,
   "metadata": {},
   "outputs": [
    {
     "data": {
      "text/plain": [
       "u1    1.0\n",
       "Name: user_id, dtype: float64"
      ]
     },
     "execution_count": 12,
     "metadata": {},
     "output_type": "execute_result"
    }
   ],
   "source": [
    "df1['user_id'].value_counts(normalize=True)"
   ]
  },
  {
   "cell_type": "code",
   "execution_count": 13,
   "metadata": {},
   "outputs": [
    {
     "data": {
      "text/plain": [
       "1567115277665    0.000634\n",
       "1566219874725    0.000423\n",
       "1568767003631    0.000317\n",
       "1569392463396    0.000317\n",
       "1569590584935    0.000317\n",
       "                   ...   \n",
       "1569285315335    0.000106\n",
       "1565361242900    0.000106\n",
       "1565184506667    0.000106\n",
       "1565310624544    0.000106\n",
       "1566025932980    0.000106\n",
       "Name: timestamp, Length: 5058, dtype: float64"
      ]
     },
     "execution_count": 13,
     "metadata": {},
     "output_type": "execute_result"
    }
   ],
   "source": [
    "df1['timestamp'].value_counts(normalize=True)"
   ]
  },
  {
   "cell_type": "code",
   "execution_count": 14,
   "metadata": {},
   "outputs": [
    {
     "data": {
      "text/plain": [
       "219.0    0.007394\n",
       "271.0    0.004621\n",
       "367.0    0.004621\n",
       "610.0    0.004621\n",
       "270.0    0.004621\n",
       "           ...   \n",
       "303.0    0.000924\n",
       "451.0    0.000924\n",
       "594.0    0.000924\n",
       "599.0    0.000924\n",
       "1.0      0.000924\n",
       "Name: solving_id, Length: 671, dtype: float64"
      ]
     },
     "execution_count": 14,
     "metadata": {},
     "output_type": "execute_result"
    }
   ],
   "source": [
    "df1['solving_id'].value_counts(normalize=True)"
   ]
  },
  {
   "cell_type": "code",
   "execution_count": 15,
   "metadata": {},
   "outputs": [
    {
     "data": {
      "text/plain": [
       "q555      0.004621\n",
       "q485      0.003697\n",
       "q243      0.003697\n",
       "q698      0.003697\n",
       "q667      0.003697\n",
       "            ...   \n",
       "q7017     0.000924\n",
       "q11656    0.000924\n",
       "q6565     0.000924\n",
       "q17291    0.000924\n",
       "q6183     0.000924\n",
       "Name: question_id, Length: 926, dtype: float64"
      ]
     },
     "execution_count": 15,
     "metadata": {},
     "output_type": "execute_result"
    }
   ],
   "source": [
    "df1['question_id'].value_counts(normalize=True)"
   ]
  },
  {
   "cell_type": "code",
   "execution_count": 16,
   "metadata": {},
   "outputs": [
    {
     "data": {
      "text/plain": [
       "b    0.302399\n",
       "a    0.259704\n",
       "c    0.248765\n",
       "d    0.189132\n",
       "Name: user_answer, dtype: float64"
      ]
     },
     "execution_count": 16,
     "metadata": {},
     "output_type": "execute_result"
    }
   ],
   "source": [
    "df1['user_answer'].value_counts(normalize=True)"
   ]
  },
  {
   "cell_type": "code",
   "execution_count": 17,
   "metadata": {},
   "outputs": [
    {
     "data": {
      "text/plain": [
       "26000.0     0.028651\n",
       "19000.0     0.027726\n",
       "23000.0     0.025878\n",
       "20000.0     0.024954\n",
       "21000.0     0.024030\n",
       "              ...   \n",
       "69000.0     0.000924\n",
       "181000.0    0.000924\n",
       "107000.0    0.000924\n",
       "324000.0    0.000924\n",
       "188000.0    0.000924\n",
       "Name: elapsed_time, Length: 206, dtype: float64"
      ]
     },
     "execution_count": 17,
     "metadata": {},
     "output_type": "execute_result"
    }
   ],
   "source": [
    "df1['elapsed_time'].value_counts(normalize=True)"
   ]
  },
  {
   "cell_type": "code",
   "execution_count": 18,
   "metadata": {},
   "outputs": [
    {
     "data": {
      "text/plain": [
       "enter          0.322719\n",
       "respond        0.208945\n",
       "submit         0.184615\n",
       "quit           0.138104\n",
       "pause_audio    0.070006\n",
       "play_audio     0.067621\n",
       "pause_video    0.003936\n",
       "play_video     0.003936\n",
       "pay            0.000119\n",
       "Name: action_type, dtype: float64"
      ]
     },
     "execution_count": 18,
     "metadata": {},
     "output_type": "execute_result"
    }
   ],
   "source": [
    "df1['action_type'].value_counts(normalize=True)"
   ]
  },
  {
   "cell_type": "code",
   "execution_count": 19,
   "metadata": {},
   "outputs": [
    {
     "data": {
      "text/plain": [
       "b668     0.004651\n",
       "q6572    0.004293\n",
       "b1149    0.004055\n",
       "b1452    0.003339\n",
       "b7       0.003339\n",
       "           ...   \n",
       "q9672    0.000358\n",
       "q758     0.000358\n",
       "q6183    0.000358\n",
       "b56      0.000239\n",
       "p157     0.000119\n",
       "Name: item_id, Length: 1476, dtype: float64"
      ]
     },
     "execution_count": 19,
     "metadata": {},
     "output_type": "execute_result"
    }
   ],
   "source": [
    "df1['item_id'].value_counts(normalize=True)"
   ]
  },
  {
   "cell_type": "code",
   "execution_count": 20,
   "metadata": {},
   "outputs": [
    {
     "data": {
      "text/plain": [
       "sprint            0.845897\n",
       "tutor             0.041269\n",
       "my_note           0.035305\n",
       "adaptive_offer    0.030177\n",
       "review_quiz       0.023616\n",
       "archive           0.014074\n",
       "diagnosis         0.007514\n",
       "review            0.002147\n",
       "Name: source, dtype: float64"
      ]
     },
     "execution_count": 20,
     "metadata": {},
     "output_type": "execute_result"
    }
   ],
   "source": [
    "df1['source'].value_counts(normalize=True)"
   ]
  },
  {
   "cell_type": "code",
   "execution_count": 21,
   "metadata": {},
   "outputs": [
    {
     "data": {
      "text/plain": [
       "mobile    1.0\n",
       "Name: platform, dtype: float64"
      ]
     },
     "execution_count": 21,
     "metadata": {},
     "output_type": "execute_result"
    }
   ],
   "source": [
    "df1['platform'].value_counts(normalize=True)"
   ]
  },
  {
   "cell_type": "code",
   "execution_count": 22,
   "metadata": {},
   "outputs": [
    {
     "data": {
      "text/plain": [
       "0.0        0.409836\n",
       "1045.0     0.040984\n",
       "15768.0    0.004918\n",
       "14738.0    0.003279\n",
       "15257.0    0.003279\n",
       "             ...   \n",
       "40908.0    0.000820\n",
       "28979.0    0.000820\n",
       "21812.0    0.000820\n",
       "21813.0    0.000820\n",
       "41982.0    0.000820\n",
       "Name: cursor_time, Length: 612, dtype: float64"
      ]
     },
     "execution_count": 22,
     "metadata": {},
     "output_type": "execute_result"
    }
   ],
   "source": [
    "df1['cursor_time'].value_counts(normalize=True)"
   ]
  },
  {
   "cell_type": "code",
   "execution_count": 60,
   "metadata": {},
   "outputs": [
    {
     "name": "stdout",
     "output_type": "stream",
     "text": [
      "timestamp: \n",
      "1565096151269\n",
      "1569647680211\n",
      "---\n",
      "elapsed_time: \n",
      "666.0\n",
      "1200000.0\n",
      "---\n",
      "cursor_time: \n",
      "0.0\n",
      "389816.0\n",
      "---\n"
     ]
    }
   ],
   "source": [
    "# range of values\n",
    "\n",
    "print('timestamp: '); print(df1['timestamp'].min()); print(df1['timestamp'].max()), print('---')\n",
    "\n",
    "print('elapsed_time: '); print(df1['elapsed_time'].min()); print(df1['elapsed_time'].max()); print('---')\n",
    "\n",
    "print('cursor_time: '); print(df1['cursor_time'].min()); print(df1['cursor_time'].max()); print('---')"
   ]
  },
  {
   "cell_type": "code",
   "execution_count": 62,
   "metadata": {},
   "outputs": [
    {
     "data": {
      "text/plain": [
       "user_id         False\n",
       "timestamp       False\n",
       "solving_id      False\n",
       "question_id     False\n",
       "user_answer     False\n",
       "elapsed_time    False\n",
       "action_type     False\n",
       "item_id         False\n",
       "source          False\n",
       "platform        False\n",
       "cursor_time     False\n",
       "dtype: bool"
      ]
     },
     "execution_count": 62,
     "metadata": {},
     "output_type": "execute_result"
    }
   ],
   "source": [
    "df1.isna().all()"
   ]
  },
  {
   "cell_type": "markdown",
   "metadata": {},
   "source": [
    "Data Cleaning: Clean up the data in order to prepare it for the next steps of\n",
    "your project.\n",
    "\n",
    "NA or missing values<p>\n",
    "Duplicates"
   ]
  },
  {
   "cell_type": "code",
   "execution_count": null,
   "metadata": {},
   "outputs": [],
   "source": [
    "\"\"\"from pandas_profiling import ProfileReport\n",
    "prof = ProfileReport(df1)\n",
    "prof.to_notebook_iframe()\n",
    "prof.to_file(output_file='./df1.html')\"\"\""
   ]
  }
 ],
 "metadata": {
  "kernelspec": {
   "display_name": "Python 3",
   "language": "python",
   "name": "python3"
  },
  "language_info": {
   "codemirror_mode": {
    "name": "ipython",
    "version": 3
   },
   "file_extension": ".py",
   "mimetype": "text/x-python",
   "name": "python",
   "nbconvert_exporter": "python",
   "pygments_lexer": "ipython3",
   "version": "3.7.6"
  }
 },
 "nbformat": 4,
 "nbformat_minor": 4
}
