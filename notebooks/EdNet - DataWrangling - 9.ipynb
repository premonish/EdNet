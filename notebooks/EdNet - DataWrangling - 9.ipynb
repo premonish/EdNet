{
 "cells": [
  {
   "cell_type": "markdown",
   "metadata": {},
   "source": [
    "<h1>EdNet - Optimize Student Performance: Data Wrangling</h1>"
   ]
  },
  {
   "cell_type": "markdown",
   "metadata": {},
   "source": [
    "Project GitHub: https://github.com/premonish/EdNet<p>\n",
    "\n",
    "\n",
    "<b>EdNet is composed of a total of 131,441,538 interactions collected from 784,309 students of Santa since 2017.</b>\n",
    "\n",
    "\"Dataset:\n",
    "As we said, there are four datasets named KT1, KT2, KT3, and KT4 with different extents. Here's common features of these datasets:\n",
    "\n",
    "The whole dataset is divided by students: {user_id}.csv only contains {user_id}'s interactions.\n",
    "The timestamps are different from the real values, which are modified (shifted by fixed values) due to security issues.\n",
    "Download links\n",
    "EdNet-KT1 : bit.ly/ednet_kt1\n",
    "EdNet-KT2 : bit.ly/ednet-kt2\n",
    "EdNet-KT3 : bit.ly/ednet-kt3\n",
    "EdNet-KT4 : bit.ly/ednet-kt4\n",
    "Contents : bit.ly/ednet-content\"\n",
    "    \n",
    "SOURCE: https://github.com/riiid/ednet.git"
   ]
  },
  {
   "cell_type": "code",
   "execution_count": 1,
   "metadata": {},
   "outputs": [],
   "source": [
    "# I get by with a little help from my friends\n",
    "import matplotlib.pyplot as plt\n",
    "import numpy as np\n",
    "import pandas as pd\n",
    "import seaborn as sns\n",
    "import datetime\n",
    "import glob"
   ]
  },
  {
   "cell_type": "code",
   "execution_count": 2,
   "metadata": {},
   "outputs": [
    {
     "name": "stdout",
     "output_type": "stream",
     "text": [
      "C:\\Users\\Prem\\Desktop\\SPRINGBOARD_MASTER\\EdNet\\data\\raw\\EdNet-KT4\\KT4\n"
     ]
    }
   ],
   "source": [
    "cd ~/Desktop/SPRINGBOARD_MASTER/EdNet/data/raw/EdNet-KT4/KT4"
   ]
  },
  {
   "cell_type": "code",
   "execution_count": 3,
   "metadata": {},
   "outputs": [],
   "source": [
    "# file locations\n",
    "prefix = '~/Desktop/SPRINGBOARD_MASTER/EdNet/data/raw/EdNet-'\n",
    "folder_1 = prefix + 'KT1/KT1/'\n",
    "folder_2 = prefix + 'KT2/KT2/'\n",
    "folder_3 = prefix + 'KT3/KT3/'\n",
    "folder_4 = prefix + 'KT4/KT4/'\n",
    "questions = prefix + 'Contents/contents/questions.csv'\n",
    "questions_df = pd.read_csv(questions)\n",
    "\n",
    "# create a list of the csv files in current directory\n",
    "csv_files = glob.glob('*.csv')"
   ]
  },
  {
   "cell_type": "code",
   "execution_count": 33,
   "metadata": {},
   "outputs": [
    {
     "data": {
      "text/plain": [
       "297915"
      ]
     },
     "execution_count": 33,
     "metadata": {},
     "output_type": "execute_result"
    }
   ],
   "source": [
    "csv_files[54]\n",
    "len(csv_files)"
   ]
  },
  {
   "cell_type": "code",
   "execution_count": 32,
   "metadata": {},
   "outputs": [
    {
     "data": {
      "text/html": [
       "<div>\n",
       "<style scoped>\n",
       "    .dataframe tbody tr th:only-of-type {\n",
       "        vertical-align: middle;\n",
       "    }\n",
       "\n",
       "    .dataframe tbody tr th {\n",
       "        vertical-align: top;\n",
       "    }\n",
       "\n",
       "    .dataframe thead th {\n",
       "        text-align: right;\n",
       "    }\n",
       "</style>\n",
       "<table border=\"1\" class=\"dataframe\">\n",
       "  <thead>\n",
       "    <tr style=\"text-align: right;\">\n",
       "      <th></th>\n",
       "      <th>user_id</th>\n",
       "      <th>timestamp</th>\n",
       "      <th>solving_id</th>\n",
       "      <th>question_id</th>\n",
       "      <th>user_answer</th>\n",
       "      <th>elapsed_time</th>\n",
       "      <th>action_type</th>\n",
       "      <th>item_id</th>\n",
       "      <th>source</th>\n",
       "      <th>platform</th>\n",
       "      <th>cursor_time</th>\n",
       "    </tr>\n",
       "  </thead>\n",
       "  <tbody>\n",
       "    <tr>\n",
       "      <th>0</th>\n",
       "      <td>u1247</td>\n",
       "      <td>1547539789977</td>\n",
       "      <td>1.0</td>\n",
       "      <td>q6012</td>\n",
       "      <td>a</td>\n",
       "      <td>32000.0</td>\n",
       "      <td>0</td>\n",
       "      <td>0</td>\n",
       "      <td>0</td>\n",
       "      <td>0</td>\n",
       "      <td>0.0</td>\n",
       "    </tr>\n",
       "    <tr>\n",
       "      <th>1</th>\n",
       "      <td>u1247</td>\n",
       "      <td>1547539803362</td>\n",
       "      <td>2.0</td>\n",
       "      <td>q5345</td>\n",
       "      <td>c</td>\n",
       "      <td>10000.0</td>\n",
       "      <td>0</td>\n",
       "      <td>0</td>\n",
       "      <td>0</td>\n",
       "      <td>0</td>\n",
       "      <td>0.0</td>\n",
       "    </tr>\n",
       "    <tr>\n",
       "      <th>2</th>\n",
       "      <td>u1247</td>\n",
       "      <td>1547539817866</td>\n",
       "      <td>3.0</td>\n",
       "      <td>q4025</td>\n",
       "      <td>d</td>\n",
       "      <td>11000.0</td>\n",
       "      <td>0</td>\n",
       "      <td>0</td>\n",
       "      <td>0</td>\n",
       "      <td>0</td>\n",
       "      <td>0.0</td>\n",
       "    </tr>\n",
       "    <tr>\n",
       "      <th>3</th>\n",
       "      <td>u1247</td>\n",
       "      <td>1547539836901</td>\n",
       "      <td>4.0</td>\n",
       "      <td>q3669</td>\n",
       "      <td>b</td>\n",
       "      <td>16000.0</td>\n",
       "      <td>0</td>\n",
       "      <td>0</td>\n",
       "      <td>0</td>\n",
       "      <td>0</td>\n",
       "      <td>0.0</td>\n",
       "    </tr>\n",
       "    <tr>\n",
       "      <th>4</th>\n",
       "      <td>u1247</td>\n",
       "      <td>1547539851513</td>\n",
       "      <td>5.0</td>\n",
       "      <td>q5725</td>\n",
       "      <td>b</td>\n",
       "      <td>11000.0</td>\n",
       "      <td>0</td>\n",
       "      <td>0</td>\n",
       "      <td>0</td>\n",
       "      <td>0</td>\n",
       "      <td>0.0</td>\n",
       "    </tr>\n",
       "    <tr>\n",
       "      <th>5</th>\n",
       "      <td>u1247</td>\n",
       "      <td>1547539871279</td>\n",
       "      <td>6.0</td>\n",
       "      <td>q5265</td>\n",
       "      <td>b</td>\n",
       "      <td>16000.0</td>\n",
       "      <td>0</td>\n",
       "      <td>0</td>\n",
       "      <td>0</td>\n",
       "      <td>0</td>\n",
       "      <td>0.0</td>\n",
       "    </tr>\n",
       "    <tr>\n",
       "      <th>6</th>\n",
       "      <td>u1247</td>\n",
       "      <td>1547539887904</td>\n",
       "      <td>7.0</td>\n",
       "      <td>q5228</td>\n",
       "      <td>a</td>\n",
       "      <td>13000.0</td>\n",
       "      <td>0</td>\n",
       "      <td>0</td>\n",
       "      <td>0</td>\n",
       "      <td>0</td>\n",
       "      <td>0.0</td>\n",
       "    </tr>\n",
       "    <tr>\n",
       "      <th>7</th>\n",
       "      <td>u1247</td>\n",
       "      <td>1547539911349</td>\n",
       "      <td>8.0</td>\n",
       "      <td>q99</td>\n",
       "      <td>a</td>\n",
       "      <td>21000.0</td>\n",
       "      <td>0</td>\n",
       "      <td>0</td>\n",
       "      <td>0</td>\n",
       "      <td>0</td>\n",
       "      <td>0.0</td>\n",
       "    </tr>\n",
       "    <tr>\n",
       "      <th>8</th>\n",
       "      <td>u1247</td>\n",
       "      <td>1547539933654</td>\n",
       "      <td>9.0</td>\n",
       "      <td>q3974</td>\n",
       "      <td>d</td>\n",
       "      <td>20000.0</td>\n",
       "      <td>0</td>\n",
       "      <td>0</td>\n",
       "      <td>0</td>\n",
       "      <td>0</td>\n",
       "      <td>0.0</td>\n",
       "    </tr>\n",
       "    <tr>\n",
       "      <th>9</th>\n",
       "      <td>u1247</td>\n",
       "      <td>1547539958153</td>\n",
       "      <td>10.0</td>\n",
       "      <td>q4135</td>\n",
       "      <td>c</td>\n",
       "      <td>22000.0</td>\n",
       "      <td>0</td>\n",
       "      <td>0</td>\n",
       "      <td>0</td>\n",
       "      <td>0</td>\n",
       "      <td>0.0</td>\n",
       "    </tr>\n",
       "  </tbody>\n",
       "</table>\n",
       "</div>"
      ],
      "text/plain": [
       "  user_id      timestamp  solving_id question_id user_answer  elapsed_time  \\\n",
       "0   u1247  1547539789977         1.0       q6012           a       32000.0   \n",
       "1   u1247  1547539803362         2.0       q5345           c       10000.0   \n",
       "2   u1247  1547539817866         3.0       q4025           d       11000.0   \n",
       "3   u1247  1547539836901         4.0       q3669           b       16000.0   \n",
       "4   u1247  1547539851513         5.0       q5725           b       11000.0   \n",
       "5   u1247  1547539871279         6.0       q5265           b       16000.0   \n",
       "6   u1247  1547539887904         7.0       q5228           a       13000.0   \n",
       "7   u1247  1547539911349         8.0         q99           a       21000.0   \n",
       "8   u1247  1547539933654         9.0       q3974           d       20000.0   \n",
       "9   u1247  1547539958153        10.0       q4135           c       22000.0   \n",
       "\n",
       "  action_type item_id source platform  cursor_time  \n",
       "0           0       0      0        0          0.0  \n",
       "1           0       0      0        0          0.0  \n",
       "2           0       0      0        0          0.0  \n",
       "3           0       0      0        0          0.0  \n",
       "4           0       0      0        0          0.0  \n",
       "5           0       0      0        0          0.0  \n",
       "6           0       0      0        0          0.0  \n",
       "7           0       0      0        0          0.0  \n",
       "8           0       0      0        0          0.0  \n",
       "9           0       0      0        0          0.0  "
      ]
     },
     "execution_count": 32,
     "metadata": {},
     "output_type": "execute_result"
    }
   ],
   "source": [
    "# choose file # from csv_files\n",
    "z = 1555\n",
    "\n",
    "# create pathname\n",
    "# create pandas dataframe\n",
    "# extract user_id from filename and assign user_id as value to column[0], 'user_id'\n",
    "one = pd.read_csv(folder_1 + csv_files[z])\n",
    "one.insert(0, 'user_id', csv_files[z].split('.')[0])\n",
    "\n",
    "# add desired columns and fill with '0'\n",
    "one['action_type'] = 0\n",
    "one['item_id'] = 0\n",
    "one['source'] = 0\n",
    "one['platform'] = 0\n",
    "one['cursor_time'] = 0\n",
    "\n",
    "# repeat process for 3 related csv files per user \n",
    "two = pd.read_csv(folder_2 + csv_files[z]) \n",
    "two.insert(0, 'user_id', csv_files[z].split('.')[0])\n",
    "\n",
    "three = pd.read_csv(folder_3 + csv_files[z])\n",
    "three.insert(0, 'user_id', csv_files[z].split('.')[0])\n",
    "\n",
    "four = pd.read_csv(folder_4 + csv_files[z])\n",
    "four.insert(0, 'user_id', csv_files[z].split('.')[0])\n",
    "\n",
    "# concatenate into a 'tall' dataframe\n",
    "df1 = pd.concat([one, two, three, four])\n",
    "df1.tail(10)"
   ]
  },
  {
   "cell_type": "code",
   "execution_count": 6,
   "metadata": {},
   "outputs": [
    {
     "name": "stderr",
     "output_type": "stream",
     "text": [
      "C:\\Users\\Prem\\anaconda3\\lib\\site-packages\\ipykernel_launcher.py:12: SettingWithCopyWarning: \n",
      "A value is trying to be set on a copy of a slice from a DataFrame\n",
      "\n",
      "See the caveats in the documentation: https://pandas.pydata.org/pandas-docs/stable/user_guide/indexing.html#returning-a-view-versus-a-copy\n",
      "  if sys.path[0] == '':\n"
     ]
    },
    {
     "data": {
      "text/html": [
       "<div>\n",
       "<style scoped>\n",
       "    .dataframe tbody tr th:only-of-type {\n",
       "        vertical-align: middle;\n",
       "    }\n",
       "\n",
       "    .dataframe tbody tr th {\n",
       "        vertical-align: top;\n",
       "    }\n",
       "\n",
       "    .dataframe thead th {\n",
       "        text-align: right;\n",
       "    }\n",
       "</style>\n",
       "<table border=\"1\" class=\"dataframe\">\n",
       "  <thead>\n",
       "    <tr style=\"text-align: right;\">\n",
       "      <th></th>\n",
       "      <th>user_id</th>\n",
       "      <th>timestamp</th>\n",
       "      <th>solving_id</th>\n",
       "      <th>question_id</th>\n",
       "      <th>user_answer</th>\n",
       "      <th>elapsed_time</th>\n",
       "      <th>action_type</th>\n",
       "      <th>item_id</th>\n",
       "      <th>source</th>\n",
       "      <th>platform</th>\n",
       "      <th>cursor_time</th>\n",
       "      <th>bundle_id</th>\n",
       "      <th>explanation_id</th>\n",
       "      <th>correct_answer</th>\n",
       "      <th>part</th>\n",
       "      <th>tags</th>\n",
       "      <th>deployed_at</th>\n",
       "      <th>correct</th>\n",
       "    </tr>\n",
       "  </thead>\n",
       "  <tbody>\n",
       "    <tr>\n",
       "      <th>3827</th>\n",
       "      <td>u1247</td>\n",
       "      <td>1574700714000</td>\n",
       "      <td>2524.0</td>\n",
       "      <td>q17895</td>\n",
       "      <td>a</td>\n",
       "      <td>23000.0</td>\n",
       "      <td>0</td>\n",
       "      <td>0</td>\n",
       "      <td>0</td>\n",
       "      <td>0</td>\n",
       "      <td>0.0</td>\n",
       "      <td>b11958</td>\n",
       "      <td>e11958</td>\n",
       "      <td>b</td>\n",
       "      <td>2</td>\n",
       "      <td>36;37;184;183</td>\n",
       "      <td>1571733870113</td>\n",
       "      <td>0</td>\n",
       "    </tr>\n",
       "    <tr>\n",
       "      <th>3828</th>\n",
       "      <td>u1247</td>\n",
       "      <td>1574700849000</td>\n",
       "      <td>2525.0</td>\n",
       "      <td>q17862</td>\n",
       "      <td>c</td>\n",
       "      <td>19000.0</td>\n",
       "      <td>0</td>\n",
       "      <td>0</td>\n",
       "      <td>0</td>\n",
       "      <td>0</td>\n",
       "      <td>0.0</td>\n",
       "      <td>b11925</td>\n",
       "      <td>e11925</td>\n",
       "      <td>c</td>\n",
       "      <td>2</td>\n",
       "      <td>24;43;182;183</td>\n",
       "      <td>1571733790575</td>\n",
       "      <td>1</td>\n",
       "    </tr>\n",
       "    <tr>\n",
       "      <th>3829</th>\n",
       "      <td>u1247</td>\n",
       "      <td>1574700969000</td>\n",
       "      <td>2526.0</td>\n",
       "      <td>q17852</td>\n",
       "      <td>a</td>\n",
       "      <td>19000.0</td>\n",
       "      <td>0</td>\n",
       "      <td>0</td>\n",
       "      <td>0</td>\n",
       "      <td>0</td>\n",
       "      <td>0.0</td>\n",
       "      <td>b11915</td>\n",
       "      <td>e11915</td>\n",
       "      <td>a</td>\n",
       "      <td>2</td>\n",
       "      <td>24;33;181;184</td>\n",
       "      <td>1571733747305</td>\n",
       "      <td>1</td>\n",
       "    </tr>\n",
       "    <tr>\n",
       "      <th>3830</th>\n",
       "      <td>u1247</td>\n",
       "      <td>1574701003000</td>\n",
       "      <td>2527.0</td>\n",
       "      <td>q18063</td>\n",
       "      <td>a</td>\n",
       "      <td>19000.0</td>\n",
       "      <td>0</td>\n",
       "      <td>0</td>\n",
       "      <td>0</td>\n",
       "      <td>0</td>\n",
       "      <td>0.0</td>\n",
       "      <td>b12126</td>\n",
       "      <td>e12126</td>\n",
       "      <td>a</td>\n",
       "      <td>2</td>\n",
       "      <td>24;26;184;181</td>\n",
       "      <td>1571733729144</td>\n",
       "      <td>1</td>\n",
       "    </tr>\n",
       "    <tr>\n",
       "      <th>3831</th>\n",
       "      <td>u1247</td>\n",
       "      <td>1574701033000</td>\n",
       "      <td>2528.0</td>\n",
       "      <td>q17928</td>\n",
       "      <td>c</td>\n",
       "      <td>20000.0</td>\n",
       "      <td>0</td>\n",
       "      <td>0</td>\n",
       "      <td>0</td>\n",
       "      <td>0</td>\n",
       "      <td>0.0</td>\n",
       "      <td>b11991</td>\n",
       "      <td>e11991</td>\n",
       "      <td>c</td>\n",
       "      <td>2</td>\n",
       "      <td>44;45;183;184</td>\n",
       "      <td>1571733936297</td>\n",
       "      <td>1</td>\n",
       "    </tr>\n",
       "  </tbody>\n",
       "</table>\n",
       "</div>"
      ],
      "text/plain": [
       "     user_id      timestamp  solving_id question_id user_answer  elapsed_time  \\\n",
       "3827   u1247  1574700714000      2524.0      q17895           a       23000.0   \n",
       "3828   u1247  1574700849000      2525.0      q17862           c       19000.0   \n",
       "3829   u1247  1574700969000      2526.0      q17852           a       19000.0   \n",
       "3830   u1247  1574701003000      2527.0      q18063           a       19000.0   \n",
       "3831   u1247  1574701033000      2528.0      q17928           c       20000.0   \n",
       "\n",
       "     action_type item_id source platform  cursor_time bundle_id  \\\n",
       "3827           0       0      0        0          0.0    b11958   \n",
       "3828           0       0      0        0          0.0    b11925   \n",
       "3829           0       0      0        0          0.0    b11915   \n",
       "3830           0       0      0        0          0.0    b12126   \n",
       "3831           0       0      0        0          0.0    b11991   \n",
       "\n",
       "     explanation_id correct_answer  part           tags    deployed_at  \\\n",
       "3827         e11958              b     2  36;37;184;183  1571733870113   \n",
       "3828         e11925              c     2  24;43;182;183  1571733790575   \n",
       "3829         e11915              a     2  24;33;181;184  1571733747305   \n",
       "3830         e12126              a     2  24;26;184;181  1571733729144   \n",
       "3831         e11991              c     2  44;45;183;184  1571733936297   \n",
       "\n",
       "      correct  \n",
       "3827        0  \n",
       "3828        1  \n",
       "3829        1  \n",
       "3830        1  \n",
       "3831        1  "
      ]
     },
     "execution_count": 6,
     "metadata": {},
     "output_type": "execute_result"
    }
   ],
   "source": [
    "# inner join dataframes on 'question_id' columns\n",
    "KTMQt_u1 = pd.merge(left=df1, right=questions_df, left_on='question_id', right_on='question_id')\n",
    "\n",
    "# create a 'correct' column\n",
    "KTMQt_u1['correct'] = 0\n",
    "\n",
    "# loop - if user answers == correct answer, then KTMQt_u1['correct'][_]= 1\n",
    "length_df = KTMQt_u1['user_id'].count()\n",
    "count = 0\n",
    "for i in range(length_df):\n",
    "    if KTMQt_u1['user_answer'][count] == KTMQt_u1['correct_answer'][count] :\n",
    "        KTMQt_u1['correct'][count] = 1\n",
    "    count+=1\n",
    "    \n",
    "KTMQt_u1.tail(5)"
   ]
  },
  {
   "cell_type": "code",
   "execution_count": 7,
   "metadata": {},
   "outputs": [
    {
     "data": {
      "text/plain": [
       "0.7395615866388309"
      ]
     },
     "execution_count": 7,
     "metadata": {},
     "output_type": "execute_result"
    }
   ],
   "source": [
    "# create new 'score' column\n",
    "total_u1 = KTMQt_u1['correct'].count()\n",
    "correct_u1 = KTMQt_u1[KTMQt_u1['correct'] == 1].count()\n",
    "score = correct_u1[0]/total_u1\n",
    "\n",
    "#print(score)\n",
    "KTMQt_u1['score'] = score\n",
    "score"
   ]
  },
  {
   "cell_type": "code",
   "execution_count": 8,
   "metadata": {},
   "outputs": [
    {
     "name": "stdout",
     "output_type": "stream",
     "text": [
      "C:\\Users\\Prem\\Desktop\\SPRINGBOARD_MASTER\\EdNet\\data\\processed\n"
     ]
    }
   ],
   "source": [
    "cd ~/Desktop/SPRINGBOARD_MASTER/EdNet/data/processed"
   ]
  },
  {
   "cell_type": "code",
   "execution_count": 9,
   "metadata": {},
   "outputs": [],
   "source": [
    "# create a csv of the new dataframe\n",
    "output = '_'+ str(z) + '.csv'\n",
    "KTMQt_u1.to_csv(output) "
   ]
  },
  {
   "cell_type": "code",
   "execution_count": 10,
   "metadata": {},
   "outputs": [
    {
     "data": {
      "text/plain": [
       "2528"
      ]
     },
     "execution_count": 10,
     "metadata": {},
     "output_type": "execute_result"
    }
   ],
   "source": [
    "KTMQt_u1['solving_id'].value_counts().count()"
   ]
  },
  {
   "cell_type": "code",
   "execution_count": 11,
   "metadata": {},
   "outputs": [
    {
     "data": {
      "text/plain": [
       "3440"
      ]
     },
     "execution_count": 11,
     "metadata": {},
     "output_type": "execute_result"
    }
   ],
   "source": [
    "KTMQt_u1['question_id'].value_counts().count()"
   ]
  },
  {
   "cell_type": "code",
   "execution_count": 12,
   "metadata": {},
   "outputs": [
    {
     "data": {
      "text/plain": [
       "2260"
      ]
     },
     "execution_count": 12,
     "metadata": {},
     "output_type": "execute_result"
    }
   ],
   "source": [
    "KTMQt_u1['bundle_id'].value_counts().count()"
   ]
  },
  {
   "cell_type": "code",
   "execution_count": 13,
   "metadata": {},
   "outputs": [],
   "source": [
    "time_sec = KTMQt_u1['elapsed_time'].mean()"
   ]
  },
  {
   "cell_type": "code",
   "execution_count": 14,
   "metadata": {},
   "outputs": [
    {
     "data": {
      "text/plain": [
       "<matplotlib.axes._subplots.AxesSubplot at 0x25be9d19a08>"
      ]
     },
     "execution_count": 14,
     "metadata": {},
     "output_type": "execute_result"
    },
    {
     "data": {
      "image/png": "[encoded data removed]",
      "text/plain": [
       "<Figure size 432x288 with 1 Axes>"
      ]
     },
     "metadata": {
      "needs_background": "light"
     },
     "output_type": "display_data"
    }
   ],
   "source": [
    "sns.scatterplot(x='elapsed_time', y='correct', data=KTMQt_u1)"
   ]
  },
  {
   "cell_type": "code",
   "execution_count": 15,
   "metadata": {},
   "outputs": [],
   "source": [
    "#sns.pairplot(KTMQt_u1)"
   ]
  },
  {
   "cell_type": "markdown",
   "metadata": {},
   "source": [
    "<h1>Column Label Metadata</h1> <p>\n",
    "<b> timestamp </b> is the moment the question was given, represented as Unix timestamp in milliseconds. <p>\n",
    "<b> solving_id </b> represents each learning session of students corresponds to each bundle. It is a form of single integer, starting from 1.<p>\n",
    "<b> question_id </b>is the ID of the question that given to student, which is a form of q{integer}. <p>\n",
    "<b> user_answer </b>is the answer that the student submitted, recorded as a character between a and d inclusively.<p>\n",
    "<b> elapsed_time </b> is the time that the students spends on each question in milliseconds."
   ]
  },
  {
   "cell_type": "code",
   "execution_count": 16,
   "metadata": {},
   "outputs": [
    {
     "data": {
      "text/plain": [
       "user_id            object\n",
       "timestamp           int64\n",
       "solving_id        float64\n",
       "question_id        object\n",
       "user_answer        object\n",
       "elapsed_time      float64\n",
       "action_type        object\n",
       "item_id            object\n",
       "source             object\n",
       "platform           object\n",
       "cursor_time       float64\n",
       "bundle_id          object\n",
       "explanation_id     object\n",
       "correct_answer     object\n",
       "part                int64\n",
       "tags               object\n",
       "deployed_at         int64\n",
       "correct             int64\n",
       "score             float64\n",
       "dtype: object"
      ]
     },
     "execution_count": 16,
     "metadata": {},
     "output_type": "execute_result"
    }
   ],
   "source": [
    "# Data Types\n",
    "KTMQt_u1.dtypes"
   ]
  },
  {
   "cell_type": "code",
   "execution_count": 17,
   "metadata": {},
   "outputs": [
    {
     "data": {
      "text/html": [
       "<div>\n",
       "<style scoped>\n",
       "    .dataframe tbody tr th:only-of-type {\n",
       "        vertical-align: middle;\n",
       "    }\n",
       "\n",
       "    .dataframe tbody tr th {\n",
       "        vertical-align: top;\n",
       "    }\n",
       "\n",
       "    .dataframe thead th {\n",
       "        text-align: right;\n",
       "    }\n",
       "</style>\n",
       "<table border=\"1\" class=\"dataframe\">\n",
       "  <thead>\n",
       "    <tr style=\"text-align: right;\">\n",
       "      <th></th>\n",
       "      <th>count</th>\n",
       "      <th>mean</th>\n",
       "      <th>std</th>\n",
       "      <th>min</th>\n",
       "      <th>25%</th>\n",
       "      <th>50%</th>\n",
       "      <th>75%</th>\n",
       "      <th>max</th>\n",
       "    </tr>\n",
       "  </thead>\n",
       "  <tbody>\n",
       "    <tr>\n",
       "      <th>timestamp</th>\n",
       "      <td>3832.0</td>\n",
       "      <td>1.558805e+12</td>\n",
       "      <td>6.080532e+09</td>\n",
       "      <td>1.547540e+12</td>\n",
       "      <td>1.555577e+12</td>\n",
       "      <td>1.559116e+12</td>\n",
       "      <td>1.561862e+12</td>\n",
       "      <td>1.574701e+12</td>\n",
       "    </tr>\n",
       "    <tr>\n",
       "      <th>solving_id</th>\n",
       "      <td>3832.0</td>\n",
       "      <td>1.226017e+03</td>\n",
       "      <td>7.149452e+02</td>\n",
       "      <td>1.000000e+00</td>\n",
       "      <td>5.997500e+02</td>\n",
       "      <td>1.201000e+03</td>\n",
       "      <td>1.846250e+03</td>\n",
       "      <td>2.528000e+03</td>\n",
       "    </tr>\n",
       "    <tr>\n",
       "      <th>elapsed_time</th>\n",
       "      <td>3832.0</td>\n",
       "      <td>2.360903e+04</td>\n",
       "      <td>1.217725e+04</td>\n",
       "      <td>6.660000e+02</td>\n",
       "      <td>1.600000e+04</td>\n",
       "      <td>2.175000e+04</td>\n",
       "      <td>2.775000e+04</td>\n",
       "      <td>1.510000e+05</td>\n",
       "    </tr>\n",
       "    <tr>\n",
       "      <th>cursor_time</th>\n",
       "      <td>3832.0</td>\n",
       "      <td>0.000000e+00</td>\n",
       "      <td>0.000000e+00</td>\n",
       "      <td>0.000000e+00</td>\n",
       "      <td>0.000000e+00</td>\n",
       "      <td>0.000000e+00</td>\n",
       "      <td>0.000000e+00</td>\n",
       "      <td>0.000000e+00</td>\n",
       "    </tr>\n",
       "    <tr>\n",
       "      <th>part</th>\n",
       "      <td>3832.0</td>\n",
       "      <td>4.533403e+00</td>\n",
       "      <td>1.772769e+00</td>\n",
       "      <td>1.000000e+00</td>\n",
       "      <td>3.000000e+00</td>\n",
       "      <td>5.000000e+00</td>\n",
       "      <td>6.000000e+00</td>\n",
       "      <td>7.000000e+00</td>\n",
       "    </tr>\n",
       "    <tr>\n",
       "      <th>deployed_at</th>\n",
       "      <td>3832.0</td>\n",
       "      <td>1.475817e+12</td>\n",
       "      <td>3.358857e+11</td>\n",
       "      <td>-1.000000e+00</td>\n",
       "      <td>1.523424e+12</td>\n",
       "      <td>1.561367e+12</td>\n",
       "      <td>1.568636e+12</td>\n",
       "      <td>1.574066e+12</td>\n",
       "    </tr>\n",
       "    <tr>\n",
       "      <th>correct</th>\n",
       "      <td>3832.0</td>\n",
       "      <td>7.395616e-01</td>\n",
       "      <td>4.389311e-01</td>\n",
       "      <td>0.000000e+00</td>\n",
       "      <td>0.000000e+00</td>\n",
       "      <td>1.000000e+00</td>\n",
       "      <td>1.000000e+00</td>\n",
       "      <td>1.000000e+00</td>\n",
       "    </tr>\n",
       "    <tr>\n",
       "      <th>score</th>\n",
       "      <td>3832.0</td>\n",
       "      <td>7.395616e-01</td>\n",
       "      <td>1.443478e-15</td>\n",
       "      <td>7.395616e-01</td>\n",
       "      <td>7.395616e-01</td>\n",
       "      <td>7.395616e-01</td>\n",
       "      <td>7.395616e-01</td>\n",
       "      <td>7.395616e-01</td>\n",
       "    </tr>\n",
       "  </tbody>\n",
       "</table>\n",
       "</div>"
      ],
      "text/plain": [
       "               count          mean           std           min           25%  \\\n",
       "timestamp     3832.0  1.558805e+12  6.080532e+09  1.547540e+12  1.555577e+12   \n",
       "solving_id    3832.0  1.226017e+03  7.149452e+02  1.000000e+00  5.997500e+02   \n",
       "elapsed_time  3832.0  2.360903e+04  1.217725e+04  6.660000e+02  1.600000e+04   \n",
       "cursor_time   3832.0  0.000000e+00  0.000000e+00  0.000000e+00  0.000000e+00   \n",
       "part          3832.0  4.533403e+00  1.772769e+00  1.000000e+00  3.000000e+00   \n",
       "deployed_at   3832.0  1.475817e+12  3.358857e+11 -1.000000e+00  1.523424e+12   \n",
       "correct       3832.0  7.395616e-01  4.389311e-01  0.000000e+00  0.000000e+00   \n",
       "score         3832.0  7.395616e-01  1.443478e-15  7.395616e-01  7.395616e-01   \n",
       "\n",
       "                       50%           75%           max  \n",
       "timestamp     1.559116e+12  1.561862e+12  1.574701e+12  \n",
       "solving_id    1.201000e+03  1.846250e+03  2.528000e+03  \n",
       "elapsed_time  2.175000e+04  2.775000e+04  1.510000e+05  \n",
       "cursor_time   0.000000e+00  0.000000e+00  0.000000e+00  \n",
       "part          5.000000e+00  6.000000e+00  7.000000e+00  \n",
       "deployed_at   1.561367e+12  1.568636e+12  1.574066e+12  \n",
       "correct       1.000000e+00  1.000000e+00  1.000000e+00  \n",
       "score         7.395616e-01  7.395616e-01  7.395616e-01  "
      ]
     },
     "execution_count": 17,
     "metadata": {},
     "output_type": "execute_result"
    }
   ],
   "source": [
    "# Description of the Columns \n",
    "KTMQt_u1.describe().T"
   ]
  },
  {
   "cell_type": "code",
   "execution_count": 18,
   "metadata": {},
   "outputs": [
    {
     "data": {
      "text/plain": [
       "u1247    1.0\n",
       "Name: user_id, dtype: float64"
      ]
     },
     "execution_count": 18,
     "metadata": {},
     "output_type": "execute_result"
    }
   ],
   "source": [
    "KTMQt_u1['user_id'].value_counts(normalize=True)"
   ]
  },
  {
   "cell_type": "code",
   "execution_count": 19,
   "metadata": {},
   "outputs": [
    {
     "data": {
      "text/plain": [
       "1574573336000    0.000783\n",
       "1574609865000    0.000783\n",
       "1574573639000    0.000783\n",
       "1574609951000    0.000783\n",
       "1574609295000    0.000783\n",
       "                   ...   \n",
       "1560666452314    0.000261\n",
       "1558791193990    0.000261\n",
       "1553675367812    0.000261\n",
       "1562314204570    0.000261\n",
       "1560661182645    0.000261\n",
       "Name: timestamp, Length: 3775, dtype: float64"
      ]
     },
     "execution_count": 19,
     "metadata": {},
     "output_type": "execute_result"
    }
   ],
   "source": [
    "KTMQt_u1['timestamp'].value_counts(normalize=True)"
   ]
  },
  {
   "cell_type": "code",
   "execution_count": 20,
   "metadata": {},
   "outputs": [
    {
     "data": {
      "text/plain": [
       "468.0     0.002088\n",
       "403.0     0.002088\n",
       "1860.0    0.001566\n",
       "153.0     0.001305\n",
       "1150.0    0.001305\n",
       "            ...   \n",
       "2178.0    0.000261\n",
       "2189.0    0.000261\n",
       "2187.0    0.000261\n",
       "2433.0    0.000261\n",
       "1.0       0.000261\n",
       "Name: solving_id, Length: 2528, dtype: float64"
      ]
     },
     "execution_count": 20,
     "metadata": {},
     "output_type": "execute_result"
    }
   ],
   "source": [
    "KTMQt_u1['solving_id'].value_counts(normalize=True)"
   ]
  },
  {
   "cell_type": "code",
   "execution_count": 21,
   "metadata": {},
   "outputs": [
    {
     "data": {
      "text/plain": [
       "q1316     0.001305\n",
       "q6206     0.001044\n",
       "q877      0.001044\n",
       "q526      0.001044\n",
       "q6760     0.001044\n",
       "            ...   \n",
       "q11087    0.000261\n",
       "q6235     0.000261\n",
       "q1707     0.000261\n",
       "q5404     0.000261\n",
       "q8074     0.000261\n",
       "Name: question_id, Length: 3440, dtype: float64"
      ]
     },
     "execution_count": 21,
     "metadata": {},
     "output_type": "execute_result"
    }
   ],
   "source": [
    "KTMQt_u1['question_id'].value_counts(normalize=True)"
   ]
  },
  {
   "cell_type": "code",
   "execution_count": 22,
   "metadata": {},
   "outputs": [
    {
     "data": {
      "text/plain": [
       "b    0.279489\n",
       "c    0.271138\n",
       "a    0.244259\n",
       "d    0.205115\n",
       "Name: user_answer, dtype: float64"
      ]
     },
     "execution_count": 22,
     "metadata": {},
     "output_type": "execute_result"
    }
   ],
   "source": [
    "KTMQt_u1['user_answer'].value_counts(normalize=True)"
   ]
  },
  {
   "cell_type": "code",
   "execution_count": 23,
   "metadata": {},
   "outputs": [],
   "source": [
    "# KTMQt_u1['elapsed_time'].value_counts(normalize=True)"
   ]
  },
  {
   "cell_type": "code",
   "execution_count": 24,
   "metadata": {},
   "outputs": [
    {
     "data": {
      "text/plain": [
       "0    1.0\n",
       "Name: action_type, dtype: float64"
      ]
     },
     "execution_count": 24,
     "metadata": {},
     "output_type": "execute_result"
    }
   ],
   "source": [
    "KTMQt_u1['action_type'].value_counts(normalize=True)"
   ]
  },
  {
   "cell_type": "code",
   "execution_count": 25,
   "metadata": {},
   "outputs": [
    {
     "data": {
      "text/plain": [
       "0    1.0\n",
       "Name: item_id, dtype: float64"
      ]
     },
     "execution_count": 25,
     "metadata": {},
     "output_type": "execute_result"
    }
   ],
   "source": [
    "KTMQt_u1['item_id'].value_counts(normalize=True)"
   ]
  },
  {
   "cell_type": "code",
   "execution_count": 26,
   "metadata": {},
   "outputs": [
    {
     "data": {
      "text/plain": [
       "0    1.0\n",
       "Name: source, dtype: float64"
      ]
     },
     "execution_count": 26,
     "metadata": {},
     "output_type": "execute_result"
    }
   ],
   "source": [
    "KTMQt_u1['source'].value_counts(normalize=True)"
   ]
  },
  {
   "cell_type": "code",
   "execution_count": 27,
   "metadata": {},
   "outputs": [
    {
     "data": {
      "text/plain": [
       "0    1.0\n",
       "Name: platform, dtype: float64"
      ]
     },
     "execution_count": 27,
     "metadata": {},
     "output_type": "execute_result"
    }
   ],
   "source": [
    "KTMQt_u1['platform'].value_counts(normalize=True)"
   ]
  },
  {
   "cell_type": "code",
   "execution_count": 28,
   "metadata": {},
   "outputs": [
    {
     "data": {
      "text/plain": [
       "0.0    1.0\n",
       "Name: cursor_time, dtype: float64"
      ]
     },
     "execution_count": 28,
     "metadata": {},
     "output_type": "execute_result"
    }
   ],
   "source": [
    "KTMQt_u1['cursor_time'].value_counts(normalize=True)"
   ]
  },
  {
   "cell_type": "code",
   "execution_count": 29,
   "metadata": {},
   "outputs": [
    {
     "name": "stdout",
     "output_type": "stream",
     "text": [
      "timestamp: \n",
      "1547507898390\n",
      "1574701033000\n",
      "---\n",
      "elapsed_time: \n",
      "666.0\n",
      "151000.0\n",
      "---\n",
      "cursor_time: \n",
      "0.0\n",
      "420884.0\n",
      "---\n"
     ]
    }
   ],
   "source": [
    "# range of values\n",
    "print('timestamp: '); print(df1['timestamp'].min()); print(df1['timestamp'].max()), print('---')\n",
    "\n",
    "print('elapsed_time: '); print(df1['elapsed_time'].min()); print(df1['elapsed_time'].max()); print('---')\n",
    "\n",
    "print('cursor_time: '); print(df1['cursor_time'].min()); print(df1['cursor_time'].max()); print('---')"
   ]
  },
  {
   "cell_type": "code",
   "execution_count": 30,
   "metadata": {},
   "outputs": [
    {
     "data": {
      "text/plain": [
       "user_id           0\n",
       "timestamp         0\n",
       "solving_id        0\n",
       "question_id       0\n",
       "user_answer       0\n",
       "elapsed_time      0\n",
       "action_type       0\n",
       "item_id           0\n",
       "source            0\n",
       "platform          0\n",
       "cursor_time       0\n",
       "bundle_id         0\n",
       "explanation_id    0\n",
       "correct_answer    0\n",
       "part              0\n",
       "tags              0\n",
       "deployed_at       0\n",
       "correct           0\n",
       "score             0\n",
       "dtype: int64"
      ]
     },
     "execution_count": 30,
     "metadata": {},
     "output_type": "execute_result"
    }
   ],
   "source": [
    "KTMQt_u1.isnull().sum()"
   ]
  },
  {
   "cell_type": "code",
   "execution_count": 31,
   "metadata": {},
   "outputs": [],
   "source": [
    "from pandas_profiling import ProfileReport\n",
    "prof = ProfileReport(KTMQt_u1)\n",
    "# prof.to_notebook_iframe()\n",
    "# prof.to_file(output_file='./KTMQt_u1.html')"
   ]
  }
 ],
 "metadata": {
  "kernelspec": {
   "display_name": "Python 3",
   "language": "python",
   "name": "python3"
  },
  "language_info": {
   "codemirror_mode": {
    "name": "ipython",
    "version": 3
   },
   "file_extension": ".py",
   "mimetype": "text/x-python",
   "name": "python",
   "nbconvert_exporter": "python",
   "pygments_lexer": "ipython3",
   "version": "3.7.6"
  }
 },
 "nbformat": 4,
 "nbformat_minor": 4
}
