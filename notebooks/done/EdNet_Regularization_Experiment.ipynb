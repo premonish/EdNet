{
  "nbformat": 4,
  "nbformat_minor": 0,
  "metadata": {
    "kernelspec": {
      "display_name": "Python 3",
      "language": "python",
      "name": "python3"
    },
    "language_info": {
      "codemirror_mode": {
        "name": "ipython",
        "version": 3
      },
      "file_extension": ".py",
      "mimetype": "text/x-python",
      "name": "python",
      "nbconvert_exporter": "python",
      "pygments_lexer": "ipython3",
      "version": "3.7.6"
    },
    "colab": {
      "name": "EdNet_Regularization-Experiment.ipynb",
      "provenance": []
    }
  },
  "cells": [
    {
      "cell_type": "markdown",
      "metadata": {
        "id": "Ge7MjnAXDZP8"
      },
      "source": [
        "# EdNet - PREDICT STUDENT PERFORMANCE\n",
        "\"EdNet is the dataset of all student-system interactions collected over 2 years by Santa, a multi-platform AI tutoring service with more than 780K users in Korea available through Android, iOS and web.\" https://github.com/riiid/ednet<p>\n",
        "<b>OBJECTIVE:</b> Predict likelihood that a student will choose a correct answer based on their previous data. <p>\n",
        "<b>METHOD:</b> Compare many machine learning logistic regression algorithms to determine the most performant model for the students."
      ]
    },
    {
      "cell_type": "code",
      "metadata": {
        "id": "RZvAK9MYDZP9"
      },
      "source": [
        "# I get by with a little help from my friends\n",
        "import numpy as np\n",
        "import pandas as pd\n",
        "import glob\n",
        "import warnings\n",
        "warnings.filterwarnings('ignore')"
      ],
      "execution_count": 1,
      "outputs": []
    },
    {
      "cell_type": "code",
      "metadata": {
        "id": "kPa7pYP9DZQC"
      },
      "source": [
        "#cd ~/Desktop/SPRINGBOARD_MASTER/EdNet/data/raw/EdNet-KT1/KT1_1"
      ],
      "execution_count": 2,
      "outputs": []
    },
    {
      "cell_type": "code",
      "metadata": {
        "id": "PuGUJGriUfZ2",
        "outputId": "f4815bb9-9cb6-4c5b-9e45-8951bfe0be70",
        "colab": {
          "base_uri": "https://localhost:8080/",
          "height": 55
        }
      },
      "source": [
        "from google.colab import drive\n",
        "drive.mount('/content/gdrive')"
      ],
      "execution_count": 3,
      "outputs": [
        {
          "output_type": "stream",
          "text": [
            "Drive already mounted at /content/gdrive; to attempt to forcibly remount, call drive.mount(\"/content/gdrive\", force_remount=True).\n"
          ],
          "name": "stdout"
        }
      ]
    },
    {
      "cell_type": "code",
      "metadata": {
        "id": "MEuF6oysDZQJ",
        "outputId": "656e3e86-7618-4826-8594-bdf178d225f7",
        "colab": {
          "base_uri": "https://localhost:8080/",
          "height": 105
        }
      },
      "source": [
        "\"\"\"# save file locations as variables for fast access\n",
        "prefix = '~/Desktop/SPRINGBOARD_MASTER/EdNet/data/raw/EdNet-'\n",
        "folder_1 = prefix + 'KT1/KT1_1/'\n",
        "folder_2 = prefix + 'KT2/KT2/'\n",
        "folder_3 = prefix + 'KT3/KT3/'\n",
        "folder_4 = prefix + 'KT4/KT4/'\n",
        "questions = prefix + 'Contents/contents/questions.csv'\n",
        "\n",
        "# read in Answer Key as 'questions_df' csv file\n",
        "questions_df = pd.read_csv(questions)\n",
        "\n",
        "# create a list of the csv files in current directory\n",
        "csv_files = glob.glob('*.csv')\"\"\""
      ],
      "execution_count": 4,
      "outputs": [
        {
          "output_type": "execute_result",
          "data": {
            "application/vnd.google.colaboratory.intrinsic+json": {
              "type": "string"
            },
            "text/plain": [
              "\"# save file locations as variables for fast access\\nprefix = '~/Desktop/SPRINGBOARD_MASTER/EdNet/data/raw/EdNet-'\\nfolder_1 = prefix + 'KT1/KT1_1/'\\nfolder_2 = prefix + 'KT2/KT2/'\\nfolder_3 = prefix + 'KT3/KT3/'\\nfolder_4 = prefix + 'KT4/KT4/'\\nquestions = prefix + 'Contents/contents/questions.csv'\\n\\n# read in Answer Key as 'questions_df' csv file\\nquestions_df = pd.read_csv(questions)\\n\\n# create a list of the csv files in current directory\\ncsv_files = glob.glob('*.csv')\""
            ]
          },
          "metadata": {
            "tags": []
          },
          "execution_count": 4
        }
      ]
    },
    {
      "cell_type": "code",
      "metadata": {
        "id": "IlcVNNcwDZQO",
        "outputId": "7cf67a46-2577-4ec4-8dd9-2f451a049c49",
        "colab": {
          "base_uri": "https://localhost:8080/",
          "height": 35
        }
      },
      "source": [
        "\"\"\"extension = 'csv'\n",
        "all_filenames = [i for i in glob.glob('*.{}'.format(extension))]\"\"\""
      ],
      "execution_count": 5,
      "outputs": [
        {
          "output_type": "execute_result",
          "data": {
            "application/vnd.google.colaboratory.intrinsic+json": {
              "type": "string"
            },
            "text/plain": [
              "\"extension = 'csv'\\nall_filenames = [i for i in glob.glob('*.{}'.format(extension))]\""
            ]
          },
          "metadata": {
            "tags": []
          },
          "execution_count": 5
        }
      ]
    },
    {
      "cell_type": "code",
      "metadata": {
        "id": "2TIczN4uDZQS"
      },
      "source": [
        "#combined_csv = pd.concat([pd.read_csv(f) for f in all_filenames ])"
      ],
      "execution_count": 6,
      "outputs": []
    },
    {
      "cell_type": "code",
      "metadata": {
        "id": "Rw9Ewn0pDZQY"
      },
      "source": [
        "#combined_csv.to_csv( \"ednet_KT1.csv\", index=False, encoding='utf-8-sig')"
      ],
      "execution_count": 7,
      "outputs": []
    },
    {
      "cell_type": "code",
      "metadata": {
        "id": "M695CvVtDZQc",
        "outputId": "8491fde9-5e41-4c23-dee2-98a1b9d7e6bd",
        "colab": {
          "base_uri": "https://localhost:8080/",
          "height": 35
        }
      },
      "source": [
        "df = pd.read_csv('/content/gdrive/My Drive/ednet_KT1.csv')\n",
        "df.shape"
      ],
      "execution_count": 8,
      "outputs": [
        {
          "output_type": "execute_result",
          "data": {
            "text/plain": [
              "(4734092, 5)"
            ]
          },
          "metadata": {
            "tags": []
          },
          "execution_count": 8
        }
      ]
    },
    {
      "cell_type": "code",
      "metadata": {
        "id": "KGaz6dQ2DZQj",
        "outputId": "cb99b314-7edf-4a2b-bb92-e7e2e726436e",
        "colab": {
          "base_uri": "https://localhost:8080/",
          "height": 35
        }
      },
      "source": [
        "\"\"\"# count of csv files in current directory\n",
        "print(len(csv_files))\"\"\""
      ],
      "execution_count": 9,
      "outputs": [
        {
          "output_type": "execute_result",
          "data": {
            "application/vnd.google.colaboratory.intrinsic+json": {
              "type": "string"
            },
            "text/plain": [
              "'# count of csv files in current directory\\nprint(len(csv_files))'"
            ]
          },
          "metadata": {
            "tags": []
          },
          "execution_count": 9
        }
      ]
    },
    {
      "cell_type": "markdown",
      "metadata": {
        "id": "b14wdr65DZQn"
      },
      "source": [
        "# DATA WRANGLING & CLEANING\n",
        "1. data import, read csv files as pandas dataframes\n",
        "2. extract user_id from filename and assign user_id as value to column[0], 'user_id'\n",
        "3. convert unix timestamps to datetime\n",
        "4. drop duplicate timestamp rows\n",
        "5. clean up some values by slicing unhelpful leading letters and convert into integers\n",
        "6. export as a cleaned up csv"
      ]
    },
    {
      "cell_type": "code",
      "metadata": {
        "id": "vYDd0WspDZQo",
        "outputId": "9c1bc680-b6bc-4dd3-da70-4fb761e8c3cf",
        "colab": {
          "base_uri": "https://localhost:8080/",
          "height": 202
        }
      },
      "source": [
        "df.head()"
      ],
      "execution_count": 10,
      "outputs": [
        {
          "output_type": "execute_result",
          "data": {
            "text/html": [
              "<div>\n",
              "<style scoped>\n",
              "    .dataframe tbody tr th:only-of-type {\n",
              "        vertical-align: middle;\n",
              "    }\n",
              "\n",
              "    .dataframe tbody tr th {\n",
              "        vertical-align: top;\n",
              "    }\n",
              "\n",
              "    .dataframe thead th {\n",
              "        text-align: right;\n",
              "    }\n",
              "</style>\n",
              "<table border=\"1\" class=\"dataframe\">\n",
              "  <thead>\n",
              "    <tr style=\"text-align: right;\">\n",
              "      <th></th>\n",
              "      <th>timestamp</th>\n",
              "      <th>solving_id</th>\n",
              "      <th>question_id</th>\n",
              "      <th>user_answer</th>\n",
              "      <th>elapsed_time</th>\n",
              "    </tr>\n",
              "  </thead>\n",
              "  <tbody>\n",
              "    <tr>\n",
              "      <th>0</th>\n",
              "      <td>1515947027887</td>\n",
              "      <td>1</td>\n",
              "      <td>q8098</td>\n",
              "      <td>b</td>\n",
              "      <td>21000</td>\n",
              "    </tr>\n",
              "    <tr>\n",
              "      <th>1</th>\n",
              "      <td>1515947053370</td>\n",
              "      <td>2</td>\n",
              "      <td>q8074</td>\n",
              "      <td>d</td>\n",
              "      <td>23000</td>\n",
              "    </tr>\n",
              "    <tr>\n",
              "      <th>2</th>\n",
              "      <td>1515947073884</td>\n",
              "      <td>3</td>\n",
              "      <td>q176</td>\n",
              "      <td>b</td>\n",
              "      <td>18000</td>\n",
              "    </tr>\n",
              "    <tr>\n",
              "      <th>3</th>\n",
              "      <td>1515947094677</td>\n",
              "      <td>4</td>\n",
              "      <td>q1279</td>\n",
              "      <td>c</td>\n",
              "      <td>18000</td>\n",
              "    </tr>\n",
              "    <tr>\n",
              "      <th>4</th>\n",
              "      <td>1515947174253</td>\n",
              "      <td>5</td>\n",
              "      <td>q2067</td>\n",
              "      <td>d</td>\n",
              "      <td>25666</td>\n",
              "    </tr>\n",
              "  </tbody>\n",
              "</table>\n",
              "</div>"
            ],
            "text/plain": [
              "       timestamp  solving_id question_id user_answer  elapsed_time\n",
              "0  1515947027887           1       q8098           b         21000\n",
              "1  1515947053370           2       q8074           d         23000\n",
              "2  1515947073884           3        q176           b         18000\n",
              "3  1515947094677           4       q1279           c         18000\n",
              "4  1515947174253           5       q2067           d         25666"
            ]
          },
          "metadata": {
            "tags": []
          },
          "execution_count": 10
        }
      ]
    },
    {
      "cell_type": "code",
      "metadata": {
        "scrolled": true,
        "id": "NOZi3tt9DZQt",
        "outputId": "937acba2-5692-45c7-8c25-6b89c1da0197",
        "colab": {
          "base_uri": "https://localhost:8080/",
          "height": 35
        }
      },
      "source": [
        "# user number = z\n",
        "z = 1850\n",
        "\n",
        "# loop: create pandas dataframe\n",
        "for i in range(1):\n",
        "        #df = pd.read_csv('ednet_KT1.csv')\n",
        "        #df = pd.read_csv(folder_1 + csv_files[z])\n",
        "        #df = pd.read_csv(folder_1 + csv_files[z], parse_dates=True, index_col=\"timestamp\")\n",
        "        #df.insert(0, 'user_id', 'ednet_KT1')\n",
        "        \n",
        "        # convert timestamp column to datetime\n",
        "        df.timestamp = pd.to_datetime(df['timestamp'], unit='ms')\n",
        "        \n",
        "        # drop_duplicates\n",
        "        df = df.drop_duplicates(subset=['timestamp'], keep='last')\n",
        "        \n",
        "        # convert 'elapsed_time' from ms to seconds\n",
        "        df.elapsed_time = df.elapsed_time.div(1000)\n",
        "        \n",
        "        # cleanup values by slicing the leading letter\n",
        "        #df.user_id = df.user_id.str.split('u')[1][1]\n",
        "        #df.user_id = df.user_id.astype('int64')\n",
        "        \n",
        "        #df = df.drop('user_id')\n",
        "        \n",
        "        df.question_id = df.question_id.str.slice(start=1)\n",
        "        \n",
        "        \n",
        "        # EXPORT csv create a csv of the new dataframe\n",
        "        output = 'ednet_KT1_sample.csv'\n",
        "        df.to_csv(output , index=False)\n",
        "        \n",
        "        z+=1\n",
        "\n",
        "df.shape"
      ],
      "execution_count": 11,
      "outputs": [
        {
          "output_type": "execute_result",
          "data": {
            "text/plain": [
              "(4639692, 5)"
            ]
          },
          "metadata": {
            "tags": []
          },
          "execution_count": 11
        }
      ]
    },
    {
      "cell_type": "code",
      "metadata": {
        "id": "TmQgI7exDZQ1",
        "outputId": "b1f9d9c9-a672-4e84-8b9c-0d0e2c7fa9ad",
        "colab": {
          "base_uri": "https://localhost:8080/",
          "height": 191
        }
      },
      "source": [
        "\"\"\"# loop: create pandas dataframe\n",
        "for i in range(1):\n",
        "        df2 = pd.read_csv(folder_1 + csv_files[z])\n",
        "        df2.insert(0, 'user_id', csv_files[z].split('.')[0])\n",
        "        \n",
        "        # convert timestamp column to datetime\n",
        "        df2.timestamp = pd.to_datetime(df['timestamp'], unit='ms')\n",
        "        \n",
        "        # drop_duplicates\n",
        "        df2 = df2.drop_duplicates(subset=['timestamp'], keep='last')\n",
        "        \n",
        "        # convert 'elapsed_time' from ms to seconds\n",
        "        df2.elapsed_time = df2.elapsed_time.div(1000)\n",
        "        \n",
        "        # cleanup values by slicing the leading letter\n",
        "        df2.user_id = df2.user_id.str.split('u')[1][1]\n",
        "        df2.user_id = df2.user_id.astype('int64')\n",
        "        df2.question_id = df2.question_id.str.slice(start=1)\n",
        "        \n",
        "        #df.question_id = df.question_id.fillna(0).astype(int)\n",
        "\n",
        "        # EXPORT csv create a csv of the new dataframe\n",
        "        output = '_KT1_'+ str(csv_files[z])\n",
        "        df2.to_csv(output, index=False)\n",
        "        \n",
        "        z+=1\n",
        "\n",
        "df2.head()\"\"\""
      ],
      "execution_count": 12,
      "outputs": [
        {
          "output_type": "execute_result",
          "data": {
            "application/vnd.google.colaboratory.intrinsic+json": {
              "type": "string"
            },
            "text/plain": [
              "\"# loop: create pandas dataframe\\nfor i in range(1):\\n        df2 = pd.read_csv(folder_1 + csv_files[z])\\n        df2.insert(0, 'user_id', csv_files[z].split('.')[0])\\n        \\n        # convert timestamp column to datetime\\n        df2.timestamp = pd.to_datetime(df['timestamp'], unit='ms')\\n        \\n        # drop_duplicates\\n        df2 = df2.drop_duplicates(subset=['timestamp'], keep='last')\\n        \\n        # convert 'elapsed_time' from ms to seconds\\n        df2.elapsed_time = df2.elapsed_time.div(1000)\\n        \\n        # cleanup values by slicing the leading letter\\n        df2.user_id = df2.user_id.str.split('u')[1][1]\\n        df2.user_id = df2.user_id.astype('int64')\\n        df2.question_id = df2.question_id.str.slice(start=1)\\n        \\n        #df.question_id = df.question_id.fillna(0).astype(int)\\n\\n        # EXPORT csv create a csv of the new dataframe\\n        output = '_KT1_'+ str(csv_files[z])\\n        df2.to_csv(output, index=False)\\n        \\n        z+=1\\n\\ndf2.head()\""
            ]
          },
          "metadata": {
            "tags": []
          },
          "execution_count": 12
        }
      ]
    },
    {
      "cell_type": "code",
      "metadata": {
        "id": "3auYmlKrDZQ7",
        "outputId": "ef5ada4c-b909-465b-b9c1-4d6cec1d4bd0",
        "colab": {
          "base_uri": "https://localhost:8080/",
          "height": 174
        }
      },
      "source": [
        "\"\"\"# loop: create pandas dataframe\n",
        "for idx, file in enumerate(csv_files):\n",
        "        z = idx + z\n",
        "        df = pd.read_csv(folder_1 + csv_files[z])\n",
        "        df.insert(0, 'user_id', csv_files[z].split('.')[0])\n",
        "        \n",
        "        # convert timestamp column to datetime\n",
        "        df.timestamp = pd.to_datetime(df['timestamp'], unit='ms')\n",
        "        \n",
        "        # drop_duplicates\n",
        "        df = df.drop_duplicates(subset=['timestamp'], keep='last')\n",
        "        \n",
        "        # convert 'elapsed_time' from ms to seconds\n",
        "        df.elapsed_time = df.elapsed_time.div(1000)\n",
        "        \n",
        "        # cleanup values by slicing the leading letter\n",
        "        df.user_id = df.user_id.str.split('u')[1][1]\n",
        "        df.user_id = df.user_id.astype('int64')\n",
        "        df.question_id = df.question_id.str.slice(start=1)\n",
        "        \n",
        "        #df.question_id = df.question_id.fillna(0).astype(int)\n",
        "\n",
        "        # EXPORT csv create a csv of the new dataframe\n",
        "        output =  '_KT1_'+ str(csv_files[z])\n",
        "        df.to_csv(output, index=False)\n",
        "        \n",
        "        z+=1\n",
        "\n",
        "print(output)\"\"\""
      ],
      "execution_count": 13,
      "outputs": [
        {
          "output_type": "execute_result",
          "data": {
            "application/vnd.google.colaboratory.intrinsic+json": {
              "type": "string"
            },
            "text/plain": [
              "\"# loop: create pandas dataframe\\nfor idx, file in enumerate(csv_files):\\n        z = idx + z\\n        df = pd.read_csv(folder_1 + csv_files[z])\\n        df.insert(0, 'user_id', csv_files[z].split('.')[0])\\n        \\n        # convert timestamp column to datetime\\n        df.timestamp = pd.to_datetime(df['timestamp'], unit='ms')\\n        \\n        # drop_duplicates\\n        df = df.drop_duplicates(subset=['timestamp'], keep='last')\\n        \\n        # convert 'elapsed_time' from ms to seconds\\n        df.elapsed_time = df.elapsed_time.div(1000)\\n        \\n        # cleanup values by slicing the leading letter\\n        df.user_id = df.user_id.str.split('u')[1][1]\\n        df.user_id = df.user_id.astype('int64')\\n        df.question_id = df.question_id.str.slice(start=1)\\n        \\n        #df.question_id = df.question_id.fillna(0).astype(int)\\n\\n        # EXPORT csv create a csv of the new dataframe\\n        output =  '_KT1_'+ str(csv_files[z])\\n        df.to_csv(output, index=False)\\n        \\n        z+=1\\n\\nprint(output)\""
            ]
          },
          "metadata": {
            "tags": []
          },
          "execution_count": 13
        }
      ]
    },
    {
      "cell_type": "markdown",
      "metadata": {
        "id": "_QyQGJpWDZRA"
      },
      "source": [
        "# EXPLORATORY DATA ANALYSIS\n",
        "1. check for null values\n",
        "2. clean up as needed"
      ]
    },
    {
      "cell_type": "code",
      "metadata": {
        "id": "llHJV-5NDZRB",
        "outputId": "afc3cb2b-bcf8-481a-c7c6-15e3ca09c9d0",
        "colab": {
          "base_uri": "https://localhost:8080/",
          "height": 361
        }
      },
      "source": [
        "# plot Non-Null Values per column\n",
        "#hey = '_KT1_u' + str(df.iloc[:,0].values[0])\n",
        "newb = pd.read_csv('https://raw.githubusercontent.com/premonish/EdNet/master/data/processed/ednet_KT1_sample.csv')\n",
        "\n",
        "newlist = []\n",
        "for i in range(newb.shape[1]):\n",
        "    newlist.append(newb.iloc[:,i].notnull().sum())\n",
        "print(newlist)\n",
        "\n",
        "import matplotlib.pyplot as plt\n",
        "plt.bar(newb.columns, newlist)\n",
        "plt.xticks(rotation=45, ha=\"right\")\n",
        "plt.title('Non-Null Values')"
      ],
      "execution_count": 14,
      "outputs": [
        {
          "output_type": "stream",
          "text": [
            "[77103, 77103, 77103, 75965, 77103]\n"
          ],
          "name": "stdout"
        },
        {
          "output_type": "execute_result",
          "data": {
            "text/plain": [
              "Text(0.5, 1.0, 'Non-Null Values')"
            ]
          },
          "metadata": {
            "tags": []
          },
          "execution_count": 14
        },
        {
          "output_type": "display_data",
          "data": {
            "image/png": "[encoded data removed]",
            "text/plain": [
              "<Figure size 432x288 with 1 Axes>"
            ]
          },
          "metadata": {
            "tags": [],
            "needs_background": "light"
          }
        }
      ]
    },
    {
      "cell_type": "markdown",
      "metadata": {
        "id": "OSIGNA6qDZRF"
      },
      "source": [
        "# DATA CLEANING, SPLITTING & MERGING\n",
        "1. clean up unneeded leading letters in values\n",
        "2. split the 'tags' column n times and make a separate column for each tag\n",
        "3. left inner join student dataframe and answer key dataframe on the 'question_id' column \n",
        "4. grade the student against answer key and record in a binary 'correct' column \n",
        "5. remove duplicate 'timestamp' rows"
      ]
    },
    {
      "cell_type": "code",
      "metadata": {
        "id": "cqllg7d4DZRG",
        "outputId": "356c779c-5bea-478a-ac2b-28e77b4ad21e",
        "colab": {
          "base_uri": "https://localhost:8080/",
          "height": 202
        }
      },
      "source": [
        "# clean 'question_df' dataframe AKA: Answer Key\n",
        "questions_df = pd.read_csv('https://raw.githubusercontent.com/premonish/EdNet/master/data/questions.csv')\n",
        "questions_df.question_id = questions_df.question_id.str.slice(start=1)\n",
        "questions_df.bundle_id = questions_df.bundle_id.str.slice(start=1)\n",
        "questions_df.explanation_id = questions_df.explanation_id.str.slice(start=1)\n",
        "questions_df.deployed_at = pd.to_datetime(questions_df.deployed_at, unit='ms')\n",
        "dfq = questions_df[['question_id', 'correct_answer', 'bundle_id', 'part', 'tags', 'deployed_at']]\n",
        "dfq.head()"
      ],
      "execution_count": 15,
      "outputs": [
        {
          "output_type": "execute_result",
          "data": {
            "text/html": [
              "<div>\n",
              "<style scoped>\n",
              "    .dataframe tbody tr th:only-of-type {\n",
              "        vertical-align: middle;\n",
              "    }\n",
              "\n",
              "    .dataframe tbody tr th {\n",
              "        vertical-align: top;\n",
              "    }\n",
              "\n",
              "    .dataframe thead th {\n",
              "        text-align: right;\n",
              "    }\n",
              "</style>\n",
              "<table border=\"1\" class=\"dataframe\">\n",
              "  <thead>\n",
              "    <tr style=\"text-align: right;\">\n",
              "      <th></th>\n",
              "      <th>question_id</th>\n",
              "      <th>correct_answer</th>\n",
              "      <th>bundle_id</th>\n",
              "      <th>part</th>\n",
              "      <th>tags</th>\n",
              "      <th>deployed_at</th>\n",
              "    </tr>\n",
              "  </thead>\n",
              "  <tbody>\n",
              "    <tr>\n",
              "      <th>0</th>\n",
              "      <td>1</td>\n",
              "      <td>b</td>\n",
              "      <td>1</td>\n",
              "      <td>1</td>\n",
              "      <td>1;2;179;181</td>\n",
              "      <td>2019-05-17 11:40:17.098</td>\n",
              "    </tr>\n",
              "    <tr>\n",
              "      <th>1</th>\n",
              "      <td>2</td>\n",
              "      <td>a</td>\n",
              "      <td>2</td>\n",
              "      <td>1</td>\n",
              "      <td>15;2;182</td>\n",
              "      <td>2019-05-17 11:40:19.720</td>\n",
              "    </tr>\n",
              "    <tr>\n",
              "      <th>2</th>\n",
              "      <td>3</td>\n",
              "      <td>b</td>\n",
              "      <td>3</td>\n",
              "      <td>1</td>\n",
              "      <td>14;2;179;183</td>\n",
              "      <td>2019-05-17 11:40:22.784</td>\n",
              "    </tr>\n",
              "    <tr>\n",
              "      <th>3</th>\n",
              "      <td>4</td>\n",
              "      <td>b</td>\n",
              "      <td>4</td>\n",
              "      <td>1</td>\n",
              "      <td>9;2;179;184</td>\n",
              "      <td>2019-05-17 11:40:25.357</td>\n",
              "    </tr>\n",
              "    <tr>\n",
              "      <th>4</th>\n",
              "      <td>5</td>\n",
              "      <td>c</td>\n",
              "      <td>5</td>\n",
              "      <td>1</td>\n",
              "      <td>8;2;179;181</td>\n",
              "      <td>2019-05-17 11:40:28.439</td>\n",
              "    </tr>\n",
              "  </tbody>\n",
              "</table>\n",
              "</div>"
            ],
            "text/plain": [
              "  question_id correct_answer  ...          tags             deployed_at\n",
              "0           1              b  ...   1;2;179;181 2019-05-17 11:40:17.098\n",
              "1           2              a  ...      15;2;182 2019-05-17 11:40:19.720\n",
              "2           3              b  ...  14;2;179;183 2019-05-17 11:40:22.784\n",
              "3           4              b  ...   9;2;179;184 2019-05-17 11:40:25.357\n",
              "4           5              c  ...   8;2;179;181 2019-05-17 11:40:28.439\n",
              "\n",
              "[5 rows x 6 columns]"
            ]
          },
          "metadata": {
            "tags": []
          },
          "execution_count": 15
        }
      ]
    },
    {
      "cell_type": "code",
      "metadata": {
        "id": "IVPEzQZWDZRK"
      },
      "source": [
        "# new data frame with split value columns \n",
        "new = dfq['tags'].str.split(\";\", n = 8, expand = True) \n",
        "  \n",
        "# make a separate column for each tag\n",
        "dfq['tag1']= new[0] \n",
        "dfq['tag2']= new[1] \n",
        "dfq['tag3']= new[2]\n",
        "dfq['tag4']= new[3]\n",
        "dfq['tag5']= new[4]\n",
        "dfq['tag6']= new[5]\n",
        "dfq['tag7']= new[6]\n",
        "#dfq['tag8']= new[7]"
      ],
      "execution_count": 16,
      "outputs": []
    },
    {
      "cell_type": "code",
      "metadata": {
        "id": "C8StWU8uDZRM",
        "outputId": "819c6663-664f-4bd4-95c6-015bb3e5f670",
        "colab": {
          "base_uri": "https://localhost:8080/",
          "height": 309
        }
      },
      "source": [
        "dfq.head()"
      ],
      "execution_count": 17,
      "outputs": [
        {
          "output_type": "execute_result",
          "data": {
            "text/html": [
              "<div>\n",
              "<style scoped>\n",
              "    .dataframe tbody tr th:only-of-type {\n",
              "        vertical-align: middle;\n",
              "    }\n",
              "\n",
              "    .dataframe tbody tr th {\n",
              "        vertical-align: top;\n",
              "    }\n",
              "\n",
              "    .dataframe thead th {\n",
              "        text-align: right;\n",
              "    }\n",
              "</style>\n",
              "<table border=\"1\" class=\"dataframe\">\n",
              "  <thead>\n",
              "    <tr style=\"text-align: right;\">\n",
              "      <th></th>\n",
              "      <th>question_id</th>\n",
              "      <th>correct_answer</th>\n",
              "      <th>bundle_id</th>\n",
              "      <th>part</th>\n",
              "      <th>tags</th>\n",
              "      <th>deployed_at</th>\n",
              "      <th>tag1</th>\n",
              "      <th>tag2</th>\n",
              "      <th>tag3</th>\n",
              "      <th>tag4</th>\n",
              "      <th>tag5</th>\n",
              "      <th>tag6</th>\n",
              "      <th>tag7</th>\n",
              "    </tr>\n",
              "  </thead>\n",
              "  <tbody>\n",
              "    <tr>\n",
              "      <th>0</th>\n",
              "      <td>1</td>\n",
              "      <td>b</td>\n",
              "      <td>1</td>\n",
              "      <td>1</td>\n",
              "      <td>1;2;179;181</td>\n",
              "      <td>2019-05-17 11:40:17.098</td>\n",
              "      <td>1</td>\n",
              "      <td>2</td>\n",
              "      <td>179</td>\n",
              "      <td>181</td>\n",
              "      <td>None</td>\n",
              "      <td>None</td>\n",
              "      <td>None</td>\n",
              "    </tr>\n",
              "    <tr>\n",
              "      <th>1</th>\n",
              "      <td>2</td>\n",
              "      <td>a</td>\n",
              "      <td>2</td>\n",
              "      <td>1</td>\n",
              "      <td>15;2;182</td>\n",
              "      <td>2019-05-17 11:40:19.720</td>\n",
              "      <td>15</td>\n",
              "      <td>2</td>\n",
              "      <td>182</td>\n",
              "      <td>None</td>\n",
              "      <td>None</td>\n",
              "      <td>None</td>\n",
              "      <td>None</td>\n",
              "    </tr>\n",
              "    <tr>\n",
              "      <th>2</th>\n",
              "      <td>3</td>\n",
              "      <td>b</td>\n",
              "      <td>3</td>\n",
              "      <td>1</td>\n",
              "      <td>14;2;179;183</td>\n",
              "      <td>2019-05-17 11:40:22.784</td>\n",
              "      <td>14</td>\n",
              "      <td>2</td>\n",
              "      <td>179</td>\n",
              "      <td>183</td>\n",
              "      <td>None</td>\n",
              "      <td>None</td>\n",
              "      <td>None</td>\n",
              "    </tr>\n",
              "    <tr>\n",
              "      <th>3</th>\n",
              "      <td>4</td>\n",
              "      <td>b</td>\n",
              "      <td>4</td>\n",
              "      <td>1</td>\n",
              "      <td>9;2;179;184</td>\n",
              "      <td>2019-05-17 11:40:25.357</td>\n",
              "      <td>9</td>\n",
              "      <td>2</td>\n",
              "      <td>179</td>\n",
              "      <td>184</td>\n",
              "      <td>None</td>\n",
              "      <td>None</td>\n",
              "      <td>None</td>\n",
              "    </tr>\n",
              "    <tr>\n",
              "      <th>4</th>\n",
              "      <td>5</td>\n",
              "      <td>c</td>\n",
              "      <td>5</td>\n",
              "      <td>1</td>\n",
              "      <td>8;2;179;181</td>\n",
              "      <td>2019-05-17 11:40:28.439</td>\n",
              "      <td>8</td>\n",
              "      <td>2</td>\n",
              "      <td>179</td>\n",
              "      <td>181</td>\n",
              "      <td>None</td>\n",
              "      <td>None</td>\n",
              "      <td>None</td>\n",
              "    </tr>\n",
              "  </tbody>\n",
              "</table>\n",
              "</div>"
            ],
            "text/plain": [
              "  question_id correct_answer bundle_id  part  ...  tag4  tag5  tag6  tag7\n",
              "0           1              b         1     1  ...   181  None  None  None\n",
              "1           2              a         2     1  ...  None  None  None  None\n",
              "2           3              b         3     1  ...   183  None  None  None\n",
              "3           4              b         4     1  ...   184  None  None  None\n",
              "4           5              c         5     1  ...   181  None  None  None\n",
              "\n",
              "[5 rows x 13 columns]"
            ]
          },
          "metadata": {
            "tags": []
          },
          "execution_count": 17
        }
      ]
    },
    {
      "cell_type": "code",
      "metadata": {
        "id": "dS8WpUufDZRV"
      },
      "source": [
        "# subset df for notnull question_id rows only (only work with rows that have questions)\n",
        "df2 = df[df['question_id'].notnull()]"
      ],
      "execution_count": 18,
      "outputs": []
    },
    {
      "cell_type": "code",
      "metadata": {
        "id": "U8_vWNKtDZRY"
      },
      "source": [
        "# left join student dataframe and answer key dataframe on the 'question_id' column \n",
        "dfm = pd.merge(df2, dfq,  how='left', left_on=['question_id'], right_on = ['question_id'])"
      ],
      "execution_count": 19,
      "outputs": []
    },
    {
      "cell_type": "code",
      "metadata": {
        "id": "bCshEntaDZRb"
      },
      "source": [
        "# create a 'correct' column\n",
        "dfm['correct'] = 0\n",
        "# dfm['correct'] = np.nan\n",
        "\n",
        "# loop - if user answers == correct answer, then dfq['correct'][_]= 1\n",
        "length_df = dfm.shape[0]\n",
        "count = 0\n",
        "for i in range(length_df):\n",
        "    if dfm['user_answer'][count] == dfm['correct_answer'][count]:\n",
        "        dfm['correct'][count] = 1\n",
        "    #if dfm['user_answer'][count] != dfm['correct_answer'][count]:\n",
        "    #    dfm['correct'][count] = 0\n",
        "    count+=1"
      ],
      "execution_count": 20,
      "outputs": []
    },
    {
      "cell_type": "code",
      "metadata": {
        "id": "sihaiTMDDZRf",
        "outputId": "8ebabdfd-a610-46a7-eca8-08abe84ea0b2",
        "colab": {
          "base_uri": "https://localhost:8080/",
          "height": 309
        }
      },
      "source": [
        "# inspect new merged dataframe\n",
        "dfm.head()"
      ],
      "execution_count": 21,
      "outputs": [
        {
          "output_type": "execute_result",
          "data": {
            "text/html": [
              "<div>\n",
              "<style scoped>\n",
              "    .dataframe tbody tr th:only-of-type {\n",
              "        vertical-align: middle;\n",
              "    }\n",
              "\n",
              "    .dataframe tbody tr th {\n",
              "        vertical-align: top;\n",
              "    }\n",
              "\n",
              "    .dataframe thead th {\n",
              "        text-align: right;\n",
              "    }\n",
              "</style>\n",
              "<table border=\"1\" class=\"dataframe\">\n",
              "  <thead>\n",
              "    <tr style=\"text-align: right;\">\n",
              "      <th></th>\n",
              "      <th>timestamp</th>\n",
              "      <th>solving_id</th>\n",
              "      <th>question_id</th>\n",
              "      <th>user_answer</th>\n",
              "      <th>elapsed_time</th>\n",
              "      <th>correct_answer</th>\n",
              "      <th>bundle_id</th>\n",
              "      <th>part</th>\n",
              "      <th>tags</th>\n",
              "      <th>deployed_at</th>\n",
              "      <th>tag1</th>\n",
              "      <th>tag2</th>\n",
              "      <th>tag3</th>\n",
              "      <th>tag4</th>\n",
              "      <th>tag5</th>\n",
              "      <th>tag6</th>\n",
              "      <th>tag7</th>\n",
              "      <th>correct</th>\n",
              "    </tr>\n",
              "  </thead>\n",
              "  <tbody>\n",
              "    <tr>\n",
              "      <th>0</th>\n",
              "      <td>2018-01-14 16:23:47.887</td>\n",
              "      <td>1</td>\n",
              "      <td>8098</td>\n",
              "      <td>b</td>\n",
              "      <td>21.000</td>\n",
              "      <td>b</td>\n",
              "      <td>5569</td>\n",
              "      <td>1</td>\n",
              "      <td>5;2;182</td>\n",
              "      <td>2017-12-29 15:06:23.093</td>\n",
              "      <td>5</td>\n",
              "      <td>2</td>\n",
              "      <td>182</td>\n",
              "      <td>None</td>\n",
              "      <td>None</td>\n",
              "      <td>None</td>\n",
              "      <td>None</td>\n",
              "      <td>1</td>\n",
              "    </tr>\n",
              "    <tr>\n",
              "      <th>1</th>\n",
              "      <td>2018-01-14 16:24:13.370</td>\n",
              "      <td>2</td>\n",
              "      <td>8074</td>\n",
              "      <td>d</td>\n",
              "      <td>23.000</td>\n",
              "      <td>c</td>\n",
              "      <td>5545</td>\n",
              "      <td>1</td>\n",
              "      <td>11;7;183</td>\n",
              "      <td>2018-05-18 08:57:02.552</td>\n",
              "      <td>11</td>\n",
              "      <td>7</td>\n",
              "      <td>183</td>\n",
              "      <td>None</td>\n",
              "      <td>None</td>\n",
              "      <td>None</td>\n",
              "      <td>None</td>\n",
              "      <td>0</td>\n",
              "    </tr>\n",
              "    <tr>\n",
              "      <th>2</th>\n",
              "      <td>2018-01-14 16:24:33.884</td>\n",
              "      <td>3</td>\n",
              "      <td>176</td>\n",
              "      <td>b</td>\n",
              "      <td>18.000</td>\n",
              "      <td>d</td>\n",
              "      <td>176</td>\n",
              "      <td>1</td>\n",
              "      <td>6;7;183</td>\n",
              "      <td>2017-12-29 14:53:43.800</td>\n",
              "      <td>6</td>\n",
              "      <td>7</td>\n",
              "      <td>183</td>\n",
              "      <td>None</td>\n",
              "      <td>None</td>\n",
              "      <td>None</td>\n",
              "      <td>None</td>\n",
              "      <td>0</td>\n",
              "    </tr>\n",
              "    <tr>\n",
              "      <th>3</th>\n",
              "      <td>2018-01-14 16:24:54.677</td>\n",
              "      <td>4</td>\n",
              "      <td>1279</td>\n",
              "      <td>c</td>\n",
              "      <td>18.000</td>\n",
              "      <td>c</td>\n",
              "      <td>1279</td>\n",
              "      <td>2</td>\n",
              "      <td>24;26;182;184</td>\n",
              "      <td>2019-10-17 02:58:38.714</td>\n",
              "      <td>24</td>\n",
              "      <td>26</td>\n",
              "      <td>182</td>\n",
              "      <td>184</td>\n",
              "      <td>None</td>\n",
              "      <td>None</td>\n",
              "      <td>None</td>\n",
              "      <td>1</td>\n",
              "    </tr>\n",
              "    <tr>\n",
              "      <th>4</th>\n",
              "      <td>2018-01-14 16:26:14.253</td>\n",
              "      <td>5</td>\n",
              "      <td>2067</td>\n",
              "      <td>d</td>\n",
              "      <td>25.666</td>\n",
              "      <td>b</td>\n",
              "      <td>1623</td>\n",
              "      <td>3</td>\n",
              "      <td>52;183;184</td>\n",
              "      <td>2019-03-12 02:28:10.338</td>\n",
              "      <td>52</td>\n",
              "      <td>183</td>\n",
              "      <td>184</td>\n",
              "      <td>None</td>\n",
              "      <td>None</td>\n",
              "      <td>None</td>\n",
              "      <td>None</td>\n",
              "      <td>0</td>\n",
              "    </tr>\n",
              "  </tbody>\n",
              "</table>\n",
              "</div>"
            ],
            "text/plain": [
              "                timestamp  solving_id question_id  ...  tag6  tag7 correct\n",
              "0 2018-01-14 16:23:47.887           1        8098  ...  None  None       1\n",
              "1 2018-01-14 16:24:13.370           2        8074  ...  None  None       0\n",
              "2 2018-01-14 16:24:33.884           3         176  ...  None  None       0\n",
              "3 2018-01-14 16:24:54.677           4        1279  ...  None  None       1\n",
              "4 2018-01-14 16:26:14.253           5        2067  ...  None  None       0\n",
              "\n",
              "[5 rows x 18 columns]"
            ]
          },
          "metadata": {
            "tags": []
          },
          "execution_count": 21
        }
      ]
    },
    {
      "cell_type": "code",
      "metadata": {
        "id": "tD-RdfHODZRi"
      },
      "source": [
        "# organize columns into logical groups\n",
        "dfm = dfm[['question_id','solving_id','bundle_id','correct','part',\\\n",
        "           'timestamp','deployed_at','elapsed_time','tag1','tag2','tag3','tag4','tag5','tag6','tag7']]"
      ],
      "execution_count": 22,
      "outputs": []
    },
    {
      "cell_type": "code",
      "metadata": {
        "id": "ZX8i_PXKDZRl",
        "outputId": "b5fa67b5-6568-48fe-c1e3-198983bd7b26",
        "colab": {
          "base_uri": "https://localhost:8080/",
          "height": 309
        }
      },
      "source": [
        "# inspect again\n",
        "dfm.head()"
      ],
      "execution_count": 23,
      "outputs": [
        {
          "output_type": "execute_result",
          "data": {
            "text/html": [
              "<div>\n",
              "<style scoped>\n",
              "    .dataframe tbody tr th:only-of-type {\n",
              "        vertical-align: middle;\n",
              "    }\n",
              "\n",
              "    .dataframe tbody tr th {\n",
              "        vertical-align: top;\n",
              "    }\n",
              "\n",
              "    .dataframe thead th {\n",
              "        text-align: right;\n",
              "    }\n",
              "</style>\n",
              "<table border=\"1\" class=\"dataframe\">\n",
              "  <thead>\n",
              "    <tr style=\"text-align: right;\">\n",
              "      <th></th>\n",
              "      <th>question_id</th>\n",
              "      <th>solving_id</th>\n",
              "      <th>bundle_id</th>\n",
              "      <th>correct</th>\n",
              "      <th>part</th>\n",
              "      <th>timestamp</th>\n",
              "      <th>deployed_at</th>\n",
              "      <th>elapsed_time</th>\n",
              "      <th>tag1</th>\n",
              "      <th>tag2</th>\n",
              "      <th>tag3</th>\n",
              "      <th>tag4</th>\n",
              "      <th>tag5</th>\n",
              "      <th>tag6</th>\n",
              "      <th>tag7</th>\n",
              "    </tr>\n",
              "  </thead>\n",
              "  <tbody>\n",
              "    <tr>\n",
              "      <th>0</th>\n",
              "      <td>8098</td>\n",
              "      <td>1</td>\n",
              "      <td>5569</td>\n",
              "      <td>1</td>\n",
              "      <td>1</td>\n",
              "      <td>2018-01-14 16:23:47.887</td>\n",
              "      <td>2017-12-29 15:06:23.093</td>\n",
              "      <td>21.000</td>\n",
              "      <td>5</td>\n",
              "      <td>2</td>\n",
              "      <td>182</td>\n",
              "      <td>None</td>\n",
              "      <td>None</td>\n",
              "      <td>None</td>\n",
              "      <td>None</td>\n",
              "    </tr>\n",
              "    <tr>\n",
              "      <th>1</th>\n",
              "      <td>8074</td>\n",
              "      <td>2</td>\n",
              "      <td>5545</td>\n",
              "      <td>0</td>\n",
              "      <td>1</td>\n",
              "      <td>2018-01-14 16:24:13.370</td>\n",
              "      <td>2018-05-18 08:57:02.552</td>\n",
              "      <td>23.000</td>\n",
              "      <td>11</td>\n",
              "      <td>7</td>\n",
              "      <td>183</td>\n",
              "      <td>None</td>\n",
              "      <td>None</td>\n",
              "      <td>None</td>\n",
              "      <td>None</td>\n",
              "    </tr>\n",
              "    <tr>\n",
              "      <th>2</th>\n",
              "      <td>176</td>\n",
              "      <td>3</td>\n",
              "      <td>176</td>\n",
              "      <td>0</td>\n",
              "      <td>1</td>\n",
              "      <td>2018-01-14 16:24:33.884</td>\n",
              "      <td>2017-12-29 14:53:43.800</td>\n",
              "      <td>18.000</td>\n",
              "      <td>6</td>\n",
              "      <td>7</td>\n",
              "      <td>183</td>\n",
              "      <td>None</td>\n",
              "      <td>None</td>\n",
              "      <td>None</td>\n",
              "      <td>None</td>\n",
              "    </tr>\n",
              "    <tr>\n",
              "      <th>3</th>\n",
              "      <td>1279</td>\n",
              "      <td>4</td>\n",
              "      <td>1279</td>\n",
              "      <td>1</td>\n",
              "      <td>2</td>\n",
              "      <td>2018-01-14 16:24:54.677</td>\n",
              "      <td>2019-10-17 02:58:38.714</td>\n",
              "      <td>18.000</td>\n",
              "      <td>24</td>\n",
              "      <td>26</td>\n",
              "      <td>182</td>\n",
              "      <td>184</td>\n",
              "      <td>None</td>\n",
              "      <td>None</td>\n",
              "      <td>None</td>\n",
              "    </tr>\n",
              "    <tr>\n",
              "      <th>4</th>\n",
              "      <td>2067</td>\n",
              "      <td>5</td>\n",
              "      <td>1623</td>\n",
              "      <td>0</td>\n",
              "      <td>3</td>\n",
              "      <td>2018-01-14 16:26:14.253</td>\n",
              "      <td>2019-03-12 02:28:10.338</td>\n",
              "      <td>25.666</td>\n",
              "      <td>52</td>\n",
              "      <td>183</td>\n",
              "      <td>184</td>\n",
              "      <td>None</td>\n",
              "      <td>None</td>\n",
              "      <td>None</td>\n",
              "      <td>None</td>\n",
              "    </tr>\n",
              "  </tbody>\n",
              "</table>\n",
              "</div>"
            ],
            "text/plain": [
              "  question_id  solving_id bundle_id  correct  part  ... tag3  tag4  tag5  tag6  tag7\n",
              "0        8098           1      5569        1     1  ...  182  None  None  None  None\n",
              "1        8074           2      5545        0     1  ...  183  None  None  None  None\n",
              "2         176           3       176        0     1  ...  183  None  None  None  None\n",
              "3        1279           4      1279        1     2  ...  182   184  None  None  None\n",
              "4        2067           5      1623        0     3  ...  184  None  None  None  None\n",
              "\n",
              "[5 rows x 15 columns]"
            ]
          },
          "metadata": {
            "tags": []
          },
          "execution_count": 23
        }
      ]
    },
    {
      "cell_type": "markdown",
      "metadata": {
        "id": "TECdB1ZgDZRp"
      },
      "source": [
        "# PREPROCESSING\n",
        "1. clean up any null values\n",
        "2. coerce datatypes\n",
        "3. split data into TRAIN & TEST sets"
      ]
    },
    {
      "cell_type": "code",
      "metadata": {
        "id": "7Lnnx4ZfDZRp",
        "outputId": "6c1e423b-8d76-4279-cb8d-55c38ac18380",
        "colab": {
          "base_uri": "https://localhost:8080/",
          "height": 381
        }
      },
      "source": [
        "# plot non-null values\n",
        "newlist = []\n",
        "for i in range(dfm.shape[1]):\n",
        "    newlist.append(dfm.iloc[:,i].notnull().sum())\n",
        "print(newlist)\n",
        "\n",
        "import matplotlib.pyplot as plt\n",
        "plt.bar(dfm.columns, newlist)\n",
        "plt.xticks(rotation=45, ha=\"right\")\n",
        "plt.title('Non-Null Values')"
      ],
      "execution_count": 24,
      "outputs": [
        {
          "output_type": "stream",
          "text": [
            "[4639692, 4639692, 4639692, 4639692, 4639692, 4639692, 4639692, 4639692, 4639692, 2439935, 2326156, 1181500, 379046, 62553, 24185]\n"
          ],
          "name": "stdout"
        },
        {
          "output_type": "execute_result",
          "data": {
            "text/plain": [
              "Text(0.5, 1.0, 'Non-Null Values')"
            ]
          },
          "metadata": {
            "tags": []
          },
          "execution_count": 24
        },
        {
          "output_type": "display_data",
          "data": {
            "image/png": "[encoded data removed]",
            "text/plain": [
              "<Figure size 432x288 with 1 Axes>"
            ]
          },
          "metadata": {
            "tags": [],
            "needs_background": "light"
          }
        }
      ]
    },
    {
      "cell_type": "code",
      "metadata": {
        "id": "RmMF8KrPDZRv"
      },
      "source": [
        "# convert tag columns: object --> integer\n",
        "dfm.tag1 = dfm.tag1.fillna(0).astype(int)\n",
        "dfm.tag2 = dfm.tag2.fillna(0).astype(int)\n",
        "dfm.tag3 = dfm.tag3.fillna(0).astype(int)\n",
        "dfm.tag4 = dfm.tag4.fillna(0).astype(int)\n",
        "dfm.tag5 = dfm.tag5.fillna(0).astype(int)\n",
        "dfm.tag6 = dfm.tag6.fillna(0).astype(int)\n",
        "dfm.tag7 = dfm.tag7.fillna(0).astype(int)\n",
        "\n",
        "# convert correct, question_id, andbundle_id tags to integers\n",
        "dfm.question_id = dfm.question_id.astype(int)\n",
        "dfm.bundle_id = dfm.bundle_id.astype(int)\n",
        "dfm.correct = dfm.correct.astype(int)"
      ],
      "execution_count": 25,
      "outputs": []
    },
    {
      "cell_type": "code",
      "metadata": {
        "id": "Z7VN-E0hDZR0",
        "outputId": "b118c71e-bdd6-4aff-e198-e2ae621040fd",
        "colab": {
          "base_uri": "https://localhost:8080/",
          "height": 295
        }
      },
      "source": [
        "# inspect datatypes\n",
        "dfm.dtypes"
      ],
      "execution_count": 26,
      "outputs": [
        {
          "output_type": "execute_result",
          "data": {
            "text/plain": [
              "question_id              int64\n",
              "solving_id               int64\n",
              "bundle_id                int64\n",
              "correct                  int64\n",
              "part                     int64\n",
              "timestamp       datetime64[ns]\n",
              "deployed_at     datetime64[ns]\n",
              "elapsed_time           float64\n",
              "tag1                     int64\n",
              "tag2                     int64\n",
              "tag3                     int64\n",
              "tag4                     int64\n",
              "tag5                     int64\n",
              "tag6                     int64\n",
              "tag7                     int64\n",
              "dtype: object"
            ]
          },
          "metadata": {
            "tags": []
          },
          "execution_count": 26
        }
      ]
    },
    {
      "cell_type": "code",
      "metadata": {
        "id": "od37sX86DZR3",
        "outputId": "d3abfdce-11ed-4a60-c795-174d31a7b119",
        "colab": {
          "base_uri": "https://localhost:8080/",
          "height": 87
        }
      },
      "source": [
        "# drop rows with repeated 'timestamp' & inspect value counts\n",
        "dfm = dfm.drop_duplicates(subset='timestamp')\n",
        "dfm.timestamp.value_counts().head(3)"
      ],
      "execution_count": 27,
      "outputs": [
        {
          "output_type": "execute_result",
          "data": {
            "text/plain": [
              "2019-03-20 03:18:44.079    1\n",
              "2018-06-21 08:34:01.843    1\n",
              "2019-01-11 09:54:25.167    1\n",
              "Name: timestamp, dtype: int64"
            ]
          },
          "metadata": {
            "tags": []
          },
          "execution_count": 27
        }
      ]
    },
    {
      "cell_type": "code",
      "metadata": {
        "id": "reBWK0F3DZR6",
        "outputId": "6ddadbef-e07e-4220-f196-e2f031b4f1dd",
        "colab": {
          "base_uri": "https://localhost:8080/",
          "height": 309
        }
      },
      "source": [
        "# inspect again\n",
        "dfm.head()"
      ],
      "execution_count": 28,
      "outputs": [
        {
          "output_type": "execute_result",
          "data": {
            "text/html": [
              "<div>\n",
              "<style scoped>\n",
              "    .dataframe tbody tr th:only-of-type {\n",
              "        vertical-align: middle;\n",
              "    }\n",
              "\n",
              "    .dataframe tbody tr th {\n",
              "        vertical-align: top;\n",
              "    }\n",
              "\n",
              "    .dataframe thead th {\n",
              "        text-align: right;\n",
              "    }\n",
              "</style>\n",
              "<table border=\"1\" class=\"dataframe\">\n",
              "  <thead>\n",
              "    <tr style=\"text-align: right;\">\n",
              "      <th></th>\n",
              "      <th>question_id</th>\n",
              "      <th>solving_id</th>\n",
              "      <th>bundle_id</th>\n",
              "      <th>correct</th>\n",
              "      <th>part</th>\n",
              "      <th>timestamp</th>\n",
              "      <th>deployed_at</th>\n",
              "      <th>elapsed_time</th>\n",
              "      <th>tag1</th>\n",
              "      <th>tag2</th>\n",
              "      <th>tag3</th>\n",
              "      <th>tag4</th>\n",
              "      <th>tag5</th>\n",
              "      <th>tag6</th>\n",
              "      <th>tag7</th>\n",
              "    </tr>\n",
              "  </thead>\n",
              "  <tbody>\n",
              "    <tr>\n",
              "      <th>0</th>\n",
              "      <td>8098</td>\n",
              "      <td>1</td>\n",
              "      <td>5569</td>\n",
              "      <td>1</td>\n",
              "      <td>1</td>\n",
              "      <td>2018-01-14 16:23:47.887</td>\n",
              "      <td>2017-12-29 15:06:23.093</td>\n",
              "      <td>21.000</td>\n",
              "      <td>5</td>\n",
              "      <td>2</td>\n",
              "      <td>182</td>\n",
              "      <td>0</td>\n",
              "      <td>0</td>\n",
              "      <td>0</td>\n",
              "      <td>0</td>\n",
              "    </tr>\n",
              "    <tr>\n",
              "      <th>1</th>\n",
              "      <td>8074</td>\n",
              "      <td>2</td>\n",
              "      <td>5545</td>\n",
              "      <td>0</td>\n",
              "      <td>1</td>\n",
              "      <td>2018-01-14 16:24:13.370</td>\n",
              "      <td>2018-05-18 08:57:02.552</td>\n",
              "      <td>23.000</td>\n",
              "      <td>11</td>\n",
              "      <td>7</td>\n",
              "      <td>183</td>\n",
              "      <td>0</td>\n",
              "      <td>0</td>\n",
              "      <td>0</td>\n",
              "      <td>0</td>\n",
              "    </tr>\n",
              "    <tr>\n",
              "      <th>2</th>\n",
              "      <td>176</td>\n",
              "      <td>3</td>\n",
              "      <td>176</td>\n",
              "      <td>0</td>\n",
              "      <td>1</td>\n",
              "      <td>2018-01-14 16:24:33.884</td>\n",
              "      <td>2017-12-29 14:53:43.800</td>\n",
              "      <td>18.000</td>\n",
              "      <td>6</td>\n",
              "      <td>7</td>\n",
              "      <td>183</td>\n",
              "      <td>0</td>\n",
              "      <td>0</td>\n",
              "      <td>0</td>\n",
              "      <td>0</td>\n",
              "    </tr>\n",
              "    <tr>\n",
              "      <th>3</th>\n",
              "      <td>1279</td>\n",
              "      <td>4</td>\n",
              "      <td>1279</td>\n",
              "      <td>1</td>\n",
              "      <td>2</td>\n",
              "      <td>2018-01-14 16:24:54.677</td>\n",
              "      <td>2019-10-17 02:58:38.714</td>\n",
              "      <td>18.000</td>\n",
              "      <td>24</td>\n",
              "      <td>26</td>\n",
              "      <td>182</td>\n",
              "      <td>184</td>\n",
              "      <td>0</td>\n",
              "      <td>0</td>\n",
              "      <td>0</td>\n",
              "    </tr>\n",
              "    <tr>\n",
              "      <th>4</th>\n",
              "      <td>2067</td>\n",
              "      <td>5</td>\n",
              "      <td>1623</td>\n",
              "      <td>0</td>\n",
              "      <td>3</td>\n",
              "      <td>2018-01-14 16:26:14.253</td>\n",
              "      <td>2019-03-12 02:28:10.338</td>\n",
              "      <td>25.666</td>\n",
              "      <td>52</td>\n",
              "      <td>183</td>\n",
              "      <td>184</td>\n",
              "      <td>0</td>\n",
              "      <td>0</td>\n",
              "      <td>0</td>\n",
              "      <td>0</td>\n",
              "    </tr>\n",
              "  </tbody>\n",
              "</table>\n",
              "</div>"
            ],
            "text/plain": [
              "   question_id  solving_id  bundle_id  correct  ...  tag4 tag5 tag6  tag7\n",
              "0         8098           1       5569        1  ...     0    0    0     0\n",
              "1         8074           2       5545        0  ...     0    0    0     0\n",
              "2          176           3        176        0  ...     0    0    0     0\n",
              "3         1279           4       1279        1  ...   184    0    0     0\n",
              "4         2067           5       1623        0  ...     0    0    0     0\n",
              "\n",
              "[5 rows x 15 columns]"
            ]
          },
          "metadata": {
            "tags": []
          },
          "execution_count": 28
        }
      ]
    },
    {
      "cell_type": "code",
      "metadata": {
        "id": "EmuMmVSyDZR9"
      },
      "source": [
        "# list to store to scores\n",
        "scores = []\n",
        "algo = []\n",
        "roc_auc_scores = []"
      ],
      "execution_count": 29,
      "outputs": []
    },
    {
      "cell_type": "code",
      "metadata": {
        "id": "2m21OhloDZSB",
        "outputId": "f873107a-21fa-4354-e12b-b77069f8237e",
        "colab": {
          "base_uri": "https://localhost:8080/",
          "height": 87
        }
      },
      "source": [
        "\"\"\"# Standardize the magnitude of numeric features using scaler\n",
        "from sklearn.preprocessing import StandardScaler\n",
        "data = dfm[['user_id', 'question_id', 'solving_id', 'bundle_id', 'correct', 'part','elapsed_time', 'tag1', 'tag2', 'tag3', \\\n",
        "            'tag4', 'tag5', 'tag6', 'tag7']]\n",
        "scaler = StandardScaler()\n",
        "#data = scaler.fit(data)\n",
        "#print(scaler.mean_)\n",
        "#print(scaler.transform(data))\"\"\""
      ],
      "execution_count": 30,
      "outputs": [
        {
          "output_type": "execute_result",
          "data": {
            "application/vnd.google.colaboratory.intrinsic+json": {
              "type": "string"
            },
            "text/plain": [
              "\"# Standardize the magnitude of numeric features using scaler\\nfrom sklearn.preprocessing import StandardScaler\\ndata = dfm[['user_id', 'question_id', 'solving_id', 'bundle_id', 'correct', 'part','elapsed_time', 'tag1', 'tag2', 'tag3',             'tag4', 'tag5', 'tag6', 'tag7']]\\nscaler = StandardScaler()\\n#data = scaler.fit(data)\\n#print(scaler.mean_)\\n#print(scaler.transform(data))\""
            ]
          },
          "metadata": {
            "tags": []
          },
          "execution_count": 30
        }
      ]
    },
    {
      "cell_type": "code",
      "metadata": {
        "id": "TMELbDP2DZSE"
      },
      "source": [
        "#Split data into testing and training datasets\n",
        "import numpy as np\n",
        "from sklearn.model_selection import train_test_split\n",
        "X = dfm[['question_id', 'solving_id', 'bundle_id', 'part','elapsed_time', 'tag1', 'tag2', 'tag3', 'tag4', 'tag5', 'tag6', 'tag7']]\n",
        "y = dfm.correct\n",
        "\n",
        "X_train, X_test, y_train, y_test = train_test_split(\n",
        "    X, y, test_size=0.33, random_state=42)"
      ],
      "execution_count": 31,
      "outputs": []
    },
    {
      "cell_type": "markdown",
      "metadata": {
        "id": "QqaDp1phDZSI"
      },
      "source": [
        "# REGULARIZATION\n",
        "1. Test Lasso, Ridge, Elastic Net\n",
        "2. Choose the most effective Regularization method"
      ]
    },
    {
      "cell_type": "code",
      "metadata": {
        "id": "fzzd1NSlDZSJ",
        "outputId": "fe14bb2d-ac1f-4750-eebe-c1ecb4721d6d",
        "colab": {
          "base_uri": "https://localhost:8080/",
          "height": 69
        }
      },
      "source": [
        "# explicitly import each regularization module & instantiate\n",
        "from sklearn.linear_model import LogisticRegression\n",
        "from sklearn.linear_model import Lasso\n",
        "from sklearn.linear_model import Ridge\n",
        "from sklearn.linear_model import ElasticNet\n",
        "lr = LogisticRegression()\n",
        "lr_lasso = Lasso()\n",
        "lr_ridge = Ridge()\n",
        "lr_elastic = ElasticNet()\n",
        "lr.fit(X_train, y_train)\n",
        "lr_lasso.fit(X_train, y_train)\n",
        "lr_ridge.fit(X_train, y_train)\n",
        "lr_elastic.fit(X_train, y_train)"
      ],
      "execution_count": 32,
      "outputs": [
        {
          "output_type": "execute_result",
          "data": {
            "text/plain": [
              "ElasticNet(alpha=1.0, copy_X=True, fit_intercept=True, l1_ratio=0.5,\n",
              "           max_iter=1000, normalize=False, positive=False, precompute=False,\n",
              "           random_state=None, selection='cyclic', tol=0.0001, warm_start=False)"
            ]
          },
          "metadata": {
            "tags": []
          },
          "execution_count": 32
        }
      ]
    },
    {
      "cell_type": "code",
      "metadata": {
        "id": "4e0XGY39DZSM",
        "outputId": "a8c73993-204b-438d-a4b0-a5fdc81b2267",
        "colab": {
          "base_uri": "https://localhost:8080/",
          "height": 121
        }
      },
      "source": [
        "print(\"R-squared Values:\")\n",
        "print('-----------------')\n",
        "print(\"R2 Regression =\", np.round(lr.score(X_test, y_test)*100,4))\n",
        "print(\"R2 Lasso Regression =\", np.round(abs(lr_lasso.score(X_test, y_test))*100,4))\n",
        "print(\"R2 Ridge Regression =\",np.round(abs(lr_ridge.score(X_test, y_test))*100,4))\n",
        "print(\"R2 Elastic Net Regression =\",np.round(abs(lr_elastic.score(X_test, y_test))*100,4))"
      ],
      "execution_count": 33,
      "outputs": [
        {
          "output_type": "stream",
          "text": [
            "R-squared Values:\n",
            "-----------------\n",
            "R2 Regression = 71.7241\n",
            "R2 Lasso Regression = 0.6196\n",
            "R2 Ridge Regression = 1.0733\n",
            "R2 Elastic Net Regression = 0.744\n"
          ],
          "name": "stdout"
        }
      ]
    },
    {
      "cell_type": "code",
      "metadata": {
        "id": "p7pEiJvdDZSR"
      },
      "source": [
        "pred_lr = lr.predict(X_test)\n",
        "pred_lasso = lr_lasso.predict(X_test)\n",
        "pred_ridge = lr_ridge.predict(X_test)\n",
        "pred_elastic = lr_elastic.predict(X_test)"
      ],
      "execution_count": 34,
      "outputs": []
    },
    {
      "cell_type": "code",
      "metadata": {
        "id": "9J6OBSphDZSV",
        "outputId": "76174a7b-7cee-4150-8aa1-543bbffc7040",
        "colab": {
          "base_uri": "https://localhost:8080/",
          "height": 121
        }
      },
      "source": [
        "# print loss function\n",
        "from sklearn import metrics\n",
        "print('Mean Squared Error (MSE):')\n",
        "print('------------------------')\n",
        "print('MSE Regression =', np.round(metrics.mean_squared_error(y_test, pred_lr),4))\n",
        "print('MSE Lasso Regression =', np.round(metrics.mean_squared_error(y_test, pred_lasso),4))\n",
        "print('MSE Ridge Regression =', np.round(metrics.mean_squared_error(y_test, pred_ridge),4))\n",
        "print('MSE Elastic Net Regression =', np.round(metrics.mean_squared_error(y_test, pred_elastic),4))"
      ],
      "execution_count": 35,
      "outputs": [
        {
          "output_type": "stream",
          "text": [
            "Mean Squared Error (MSE):\n",
            "------------------------\n",
            "MSE Regression = 0.2828\n",
            "MSE Lasso Regression = 0.2015\n",
            "MSE Ridge Regression = 0.2005\n",
            "MSE Elastic Net Regression = 0.2012\n"
          ],
          "name": "stdout"
        }
      ]
    },
    {
      "cell_type": "markdown",
      "metadata": {
        "id": "pFGlhnKTDZSX"
      },
      "source": [
        "# MODELLING\n",
        "1. Test and compare the predictive performance of various machine learning algorithms\n",
        "2. Determine the best performing model"
      ]
    },
    {
      "cell_type": "code",
      "metadata": {
        "id": "w_WihN80DZSY",
        "outputId": "6f6afa15-d7c2-4fa7-a613-2f50931beada",
        "colab": {
          "base_uri": "https://localhost:8080/",
          "height": 35
        }
      },
      "source": [
        "from sklearn.linear_model import LogisticRegression\n",
        "lr = LogisticRegression()\n",
        "lr.fit(X_train, y_train)\n",
        "y_pred = lr.predict(X_test)\n",
        "lr_proba = lr.predict_proba(X_test)[:, 1]\n",
        "scores.append(lr.score(X_test, y_test))\n",
        "algo.append('LogisticRegression')\n",
        "print(lr.score(X_test, y_test))"
      ],
      "execution_count": 36,
      "outputs": [
        {
          "output_type": "stream",
          "text": [
            "0.7172410144608546\n"
          ],
          "name": "stdout"
        }
      ]
    },
    {
      "cell_type": "code",
      "metadata": {
        "id": "-01FLoJyDZSb",
        "outputId": "d0cdcbc6-b619-48c1-ee4f-5cb9a6988bda",
        "colab": {
          "base_uri": "https://localhost:8080/",
          "height": 35
        }
      },
      "source": [
        "# Calculate roc auc\n",
        "from sklearn.metrics import roc_auc_score\n",
        "\n",
        "lr_roc_auc_score = roc_auc_score(y_test, lr_proba)\n",
        "roc_auc_scores.append(lr_roc_auc_score)\n",
        "lr_roc_auc_score"
      ],
      "execution_count": 37,
      "outputs": [
        {
          "output_type": "execute_result",
          "data": {
            "text/plain": [
              "0.5637892673086055"
            ]
          },
          "metadata": {
            "tags": []
          },
          "execution_count": 37
        }
      ]
    },
    {
      "cell_type": "code",
      "metadata": {
        "id": "ZCrCvMh9DZSg",
        "outputId": "3f313ec8-5ec8-4ef4-ebf6-2489fb10f946",
        "colab": {
          "base_uri": "https://localhost:8080/",
          "height": 35
        }
      },
      "source": [
        "# Naive Bayes\n",
        "from sklearn.naive_bayes import GaussianNB\n",
        "nb = GaussianNB()\n",
        "nb.fit(X_train, y_train)\n",
        "y_pred = nb.predict(X_test)\n",
        "nb_proba = nb.predict_proba(X_test)[:, 1]\n",
        "nb.score(X_test, y_test)\n",
        "scores.append(nb.score(X_test, y_test))\n",
        "algo.append('GaussianNB')\n",
        "print(nb.score(X_test, y_test))"
      ],
      "execution_count": 38,
      "outputs": [
        {
          "output_type": "stream",
          "text": [
            "0.7165957263377483\n"
          ],
          "name": "stdout"
        }
      ]
    },
    {
      "cell_type": "code",
      "metadata": {
        "id": "PdD6hhBCDZSm",
        "outputId": "1a62a044-e01c-4b6c-d7d1-0165e1d76eb4",
        "colab": {
          "base_uri": "https://localhost:8080/",
          "height": 35
        }
      },
      "source": [
        "nb_roc_auc_score = roc_auc_score(y_test, nb_proba)\n",
        "roc_auc_scores.append(nb_roc_auc_score)\n",
        "nb_roc_auc_score"
      ],
      "execution_count": 39,
      "outputs": [
        {
          "output_type": "execute_result",
          "data": {
            "text/plain": [
              "0.56808171398142"
            ]
          },
          "metadata": {
            "tags": []
          },
          "execution_count": 39
        }
      ]
    },
    {
      "cell_type": "code",
      "metadata": {
        "id": "StZ-trB_DZSq",
        "outputId": "32f64e7c-0a9f-4eb1-e9c3-a24ec029da71",
        "colab": {
          "base_uri": "https://localhost:8080/",
          "height": 35
        }
      },
      "source": [
        "# Stochastic gradient descent\n",
        "from sklearn.linear_model import SGDClassifier\n",
        "sgd = SGDClassifier(loss='modified_huber', shuffle=True, random_state=42)\n",
        "sgd.fit(X_train, y_train)\n",
        "y_pred = sgd.predict(X_test)\n",
        "sgd_proba = sgd.predict_proba(X_test)[:, 1]\n",
        "sgd.score(X_test, y_test)\n",
        "scores.append(sgd.score(X_test, y_test))\n",
        "algo.append('SGDClassifier')\n",
        "print(sgd.score(X_test, y_test))"
      ],
      "execution_count": 40,
      "outputs": [
        {
          "output_type": "stream",
          "text": [
            "0.6257936292819732\n"
          ],
          "name": "stdout"
        }
      ]
    },
    {
      "cell_type": "code",
      "metadata": {
        "id": "NvmD2Y9HDZSw",
        "outputId": "ef260232-f402-4b78-b492-5540a9fc985c",
        "colab": {
          "base_uri": "https://localhost:8080/",
          "height": 35
        }
      },
      "source": [
        "sgd_roc_auc_score = roc_auc_score(y_test, sgd_proba)\n",
        "roc_auc_scores.append(sgd_roc_auc_score)\n",
        "sgd_roc_auc_score"
      ],
      "execution_count": 41,
      "outputs": [
        {
          "output_type": "execute_result",
          "data": {
            "text/plain": [
              "0.4758111670442268"
            ]
          },
          "metadata": {
            "tags": []
          },
          "execution_count": 41
        }
      ]
    },
    {
      "cell_type": "code",
      "metadata": {
        "id": "zfVHTrTKDZS9",
        "outputId": "437318cb-9b2f-4da1-dac1-4115c670459e",
        "colab": {
          "base_uri": "https://localhost:8080/",
          "height": 35
        }
      },
      "source": [
        "# KNeighborsClassifier\n",
        "from sklearn.neighbors import KNeighborsClassifier\n",
        "knn = KNeighborsClassifier(n_neighbors=2)\n",
        "knn.fit(X_train, y_train)\n",
        "y_pred = knn.predict(X_test)\n",
        "knn_proba = knn.predict_proba(X_test)[:, 1]\n",
        "knn.score(X_test, y_test)\n",
        "scores.append(knn.score(X_test, y_test))\n",
        "algo.append('KNeighborsClassifier')\n",
        "print(knn.score(X_test, y_test))"
      ],
      "execution_count": 42,
      "outputs": [
        {
          "output_type": "stream",
          "text": [
            "0.5594994183916259\n"
          ],
          "name": "stdout"
        }
      ]
    },
    {
      "cell_type": "code",
      "metadata": {
        "id": "YM2eQ1GPDZTB",
        "outputId": "fdc94679-d8f0-4325-f6db-c2ce78b3a170",
        "colab": {
          "base_uri": "https://localhost:8080/",
          "height": 35
        }
      },
      "source": [
        "knn_roc_auc_score = roc_auc_score(y_test, knn_proba)\n",
        "roc_auc_scores.append(knn_roc_auc_score)\n",
        "knn_roc_auc_score"
      ],
      "execution_count": 43,
      "outputs": [
        {
          "output_type": "execute_result",
          "data": {
            "text/plain": [
              "0.5622225739231561"
            ]
          },
          "metadata": {
            "tags": []
          },
          "execution_count": 43
        }
      ]
    },
    {
      "cell_type": "code",
      "metadata": {
        "id": "3hOETXn9DZTI",
        "outputId": "6e5074e5-2ea8-4b95-999f-3988b1b9dc91",
        "colab": {
          "base_uri": "https://localhost:8080/",
          "height": 35
        }
      },
      "source": [
        "# RandomForestClassifier\n",
        "from sklearn.ensemble import RandomForestClassifier\n",
        "rfm = RandomForestClassifier(n_estimators=70, oob_score=True, n_jobs=1, \\\n",
        "                            random_state=42, max_features = None, min_samples_leaf = 30)\n",
        "rfm.fit(X_train, y_train)\n",
        "y_pred = rfm.predict(X_test)\n",
        "rfm_proba = rfm.predict_proba(X_test)[:, 1]\n",
        "rfm.score(X_test, y_test)\n",
        "scores.append(rfm.score(X_test, y_test))\n",
        "algo.append('RandomForestClassifier')\n",
        "print(rfm.score(X_test, y_test))"
      ],
      "execution_count": 44,
      "outputs": [
        {
          "output_type": "stream",
          "text": [
            "0.7314771938326653\n"
          ],
          "name": "stdout"
        }
      ]
    },
    {
      "cell_type": "code",
      "metadata": {
        "id": "jtgqS9LKDZTP",
        "outputId": "1744f904-9038-4dff-c15d-40808fe55c63",
        "colab": {
          "base_uri": "https://localhost:8080/",
          "height": 35
        }
      },
      "source": [
        "rfm_roc_auc_score = roc_auc_score(y_test, rfm_proba)\n",
        "roc_auc_scores.append(rfm_roc_auc_score)\n",
        "rfm_roc_auc_score"
      ],
      "execution_count": 45,
      "outputs": [
        {
          "output_type": "execute_result",
          "data": {
            "text/plain": [
              "0.7108415470577669"
            ]
          },
          "metadata": {
            "tags": []
          },
          "execution_count": 45
        }
      ]
    },
    {
      "cell_type": "code",
      "metadata": {
        "id": "gX_NMn6JDZTY",
        "outputId": "ed7ef69f-a574-436e-bfc6-3ea3d6a0d24c",
        "colab": {
          "base_uri": "https://localhost:8080/",
          "height": 70
        }
      },
      "source": [
        "\"\"\"from sklearn.svm import SVC\n",
        "svm = SVC(kernel='linear', C=0.025, random_state=42)\n",
        "svm.fit(X_train, y_train)\n",
        "y_pred = svm.predict(X_test)\n",
        "#svm_proba = svm.predict_proba(X_test)[:, 1]\n",
        "svm.score(X_test, y_test)\n",
        "scores.append(svm.score(X_test, y_test))\n",
        "algo.append('SVC')\n",
        "print(svm.score(X_test, y_test))\"\"\""
      ],
      "execution_count": 46,
      "outputs": [
        {
          "output_type": "execute_result",
          "data": {
            "application/vnd.google.colaboratory.intrinsic+json": {
              "type": "string"
            },
            "text/plain": [
              "\"from sklearn.svm import SVC\\nsvm = SVC(kernel='linear', C=0.025, random_state=42)\\nsvm.fit(X_train, y_train)\\ny_pred = svm.predict(X_test)\\n#svm_proba = svm.predict_proba(X_test)[:, 1]\\nsvm.score(X_test, y_test)\\nscores.append(svm.score(X_test, y_test))\\nalgo.append('SVC')\\nprint(svm.score(X_test, y_test))\""
            ]
          },
          "metadata": {
            "tags": []
          },
          "execution_count": 46
        }
      ]
    },
    {
      "cell_type": "code",
      "metadata": {
        "id": "WbB33TcZDZTb",
        "outputId": "c1efe1d2-7d2c-4baf-98e7-e6aaa87b2830",
        "colab": {
          "base_uri": "https://localhost:8080/",
          "height": 35
        }
      },
      "source": [
        "\"\"\"#svm_roc_auc_score = roc_auc_score(y_test, svm_proba)\n",
        "roc_auc_scores.append(0.000000000)\n",
        "#svm_roc_auc_score\"\"\""
      ],
      "execution_count": 47,
      "outputs": [
        {
          "output_type": "execute_result",
          "data": {
            "application/vnd.google.colaboratory.intrinsic+json": {
              "type": "string"
            },
            "text/plain": [
              "'#svm_roc_auc_score = roc_auc_score(y_test, svm_proba)\\nroc_auc_scores.append(0.000000000)\\n#svm_roc_auc_score'"
            ]
          },
          "metadata": {
            "tags": []
          },
          "execution_count": 47
        }
      ]
    },
    {
      "cell_type": "code",
      "metadata": {
        "id": "RoDdisGfDZTi",
        "outputId": "d8e4cccf-697a-4d45-8e91-5ce77765f173",
        "colab": {
          "base_uri": "https://localhost:8080/",
          "height": 69
        }
      },
      "source": [
        "print(scores)\n",
        "print(algo)\n",
        "print(roc_auc_scores)"
      ],
      "execution_count": 48,
      "outputs": [
        {
          "output_type": "stream",
          "text": [
            "[0.7172410144608546, 0.7165957263377483, 0.6257936292819732, 0.5594994183916259, 0.7314771938326653]\n",
            "['LogisticRegression', 'GaussianNB', 'SGDClassifier', 'KNeighborsClassifier', 'RandomForestClassifier']\n",
            "[0.5637892673086055, 0.56808171398142, 0.4758111670442268, 0.5622225739231561, 0.7108415470577669]\n"
          ],
          "name": "stdout"
        }
      ]
    },
    {
      "cell_type": "code",
      "metadata": {
        "id": "lm3ZHS0EDZTm",
        "outputId": "16a0ae4e-76a0-4d95-d3f5-0f1ea97d3867",
        "colab": {
          "base_uri": "https://localhost:8080/",
          "height": 35
        }
      },
      "source": [
        "max1 = max(roc_auc_scores)\n",
        "idx = roc_auc_scores.index(max1)\n",
        "print(algo[idx],'has the highest AUC =', max1)"
      ],
      "execution_count": 49,
      "outputs": [
        {
          "output_type": "stream",
          "text": [
            "RandomForestClassifier has the highest AUC = 0.7108415470577669\n"
          ],
          "name": "stdout"
        }
      ]
    },
    {
      "cell_type": "code",
      "metadata": {
        "id": "0o4nTzmTDZTq",
        "outputId": "21c2720a-acdc-48fc-9082-48ae35e5fac4",
        "colab": {
          "base_uri": "https://localhost:8080/",
          "height": 549
        }
      },
      "source": [
        "#fig, ax = plt.subplots()\n",
        "plt.figure(figsize=(10,7))\n",
        "plt.bar(algo, scores)\n",
        "plt.ylabel(\"Score\")\n",
        "plt.xlabel(\"Algorithm\")\n",
        "plt.title('Algorithm Scores for User ' +str(z)+ ' | Max: '+str(round(max(scores),5)))\n",
        "plt.xticks(rotation=40, ha=\"right\" )"
      ],
      "execution_count": 50,
      "outputs": [
        {
          "output_type": "execute_result",
          "data": {
            "text/plain": [
              "([0, 1, 2, 3, 4], <a list of 5 Text major ticklabel objects>)"
            ]
          },
          "metadata": {
            "tags": []
          },
          "execution_count": 50
        },
        {
          "output_type": "display_data",
          "data": {
            "image/png": "[encoded data removed]",
            "text/plain": [
              "<Figure size 720x504 with 1 Axes>"
            ]
          },
          "metadata": {
            "tags": [],
            "needs_background": "light"
          }
        }
      ]
    },
    {
      "cell_type": "code",
      "metadata": {
        "id": "xEh4gArBDZTy",
        "outputId": "aaf1d310-4731-4a07-a8dd-c6cfc7738673",
        "colab": {
          "base_uri": "https://localhost:8080/",
          "height": 53
        }
      },
      "source": [
        "\"\"\"import seaborn as sns\n",
        "#plt.plot(dfm.correct, dfm.tag1)\n",
        "ax = sns.regplot(y=dfm.correct, x=dfm.elapsed_time, color=\"r\")\"\"\""
      ],
      "execution_count": 51,
      "outputs": [
        {
          "output_type": "execute_result",
          "data": {
            "application/vnd.google.colaboratory.intrinsic+json": {
              "type": "string"
            },
            "text/plain": [
              "'import seaborn as sns\\n#plt.plot(dfm.correct, dfm.tag1)\\nax = sns.regplot(y=dfm.correct, x=dfm.elapsed_time, color=\"r\")'"
            ]
          },
          "metadata": {
            "tags": []
          },
          "execution_count": 51
        }
      ]
    },
    {
      "cell_type": "code",
      "metadata": {
        "id": "L01ZLCDeDZT4",
        "outputId": "ac5338b0-1b9c-4d06-c64a-48ebdc66ceb0",
        "colab": {
          "base_uri": "https://localhost:8080/",
          "height": 53
        }
      },
      "source": [
        "\"\"\"# EDA\n",
        "from pandas_profiling import ProfileReport\n",
        "profile = ProfileReport(dfm, title=\"Pandas Profiling Report\")\n",
        "\n",
        "profile.to_widgets()\n",
        "profile.to_notebook_iframe()\"\"\""
      ],
      "execution_count": 52,
      "outputs": [
        {
          "output_type": "execute_result",
          "data": {
            "application/vnd.google.colaboratory.intrinsic+json": {
              "type": "string"
            },
            "text/plain": [
              "'# EDA\\nfrom pandas_profiling import ProfileReport\\nprofile = ProfileReport(dfm, title=\"Pandas Profiling Report\")\\n\\nprofile.to_widgets()\\nprofile.to_notebook_iframe()'"
            ]
          },
          "metadata": {
            "tags": []
          },
          "execution_count": 52
        }
      ]
    },
    {
      "cell_type": "code",
      "metadata": {
        "id": "yXrK1GfuDZUH",
        "outputId": "7e8cdfa5-6626-446c-9cc0-2ca3bfca0b03",
        "colab": {
          "base_uri": "https://localhost:8080/",
          "height": 35
        }
      },
      "source": [
        "\"\"\"# best performing model per student\n",
        "perform = { z : round(max(scores),5) }\n",
        "perform\"\"\""
      ],
      "execution_count": 53,
      "outputs": [
        {
          "output_type": "execute_result",
          "data": {
            "application/vnd.google.colaboratory.intrinsic+json": {
              "type": "string"
            },
            "text/plain": [
              "'# best performing model per student\\nperform = { z : round(max(scores),5) }\\nperform'"
            ]
          },
          "metadata": {
            "tags": []
          },
          "execution_count": 53
        }
      ]
    }
  ]
}