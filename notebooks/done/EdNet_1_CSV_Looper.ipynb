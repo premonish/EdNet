{
 "cells": [
  {
   "cell_type": "markdown",
   "metadata": {},
   "source": [
    "<b>EdNet - Optimize Student Performance: Data Wrangling</b><p>\n",
    "EdNet contains data from 700,000+ students (users).<p>\n",
    "Each user has 4 related csv files (KT1,KT2, KT3, KT4). <p>\n",
    "First, merge the 4 csv files into a single tall dataframe. <p>\n",
    "Then, save the new dataframe preceeded by an underscore '_' , denoting that it has been processed."
   ]
  },
  {
   "cell_type": "code",
   "execution_count": 1,
   "metadata": {},
   "outputs": [],
   "source": [
    "# I get by with a little help from my friends\n",
    "import numpy as np\n",
    "import pandas as pd\n",
    "import glob"
   ]
  },
  {
   "cell_type": "code",
   "execution_count": 2,
   "metadata": {},
   "outputs": [
    {
     "name": "stdout",
     "output_type": "stream",
     "text": [
      "C:\\Users\\Prem\\Desktop\\SPRINGBOARD_MASTER\\EdNet\\data\\raw\\EdNet-KT4\\KT4\n"
     ]
    }
   ],
   "source": [
    "cd ~/Desktop/SPRINGBOARD_MASTER/EdNet/data/raw/EdNet-KT4/KT4"
   ]
  },
  {
   "cell_type": "code",
   "execution_count": 3,
   "metadata": {},
   "outputs": [],
   "source": [
    "# file locations\n",
    "prefix = '~/Desktop/SPRINGBOARD_MASTER/EdNet/data/raw/EdNet-'\n",
    "folder_1 = prefix + 'KT1/KT1/'\n",
    "folder_2 = prefix + 'KT2/KT2/'\n",
    "folder_3 = prefix + 'KT3/KT3/'\n",
    "folder_4 = prefix + 'KT4/KT4/'\n",
    "questions = prefix + 'Contents/contents/questions.csv'\n",
    "questions_df = pd.read_csv(questions)\n",
    "\n",
    "# create a list of the csv files in current directory\n",
    "csv_files = glob.glob('*.csv')"
   ]
  },
  {
   "cell_type": "code",
   "execution_count": 4,
   "metadata": {},
   "outputs": [
    {
     "name": "stdout",
     "output_type": "stream",
     "text": [
      "298047\n"
     ]
    }
   ],
   "source": [
    "# count of csv files in current directory\n",
    "print(len(csv_files))"
   ]
  },
  {
   "cell_type": "code",
   "execution_count": 5,
   "metadata": {
    "scrolled": true
   },
   "outputs": [
    {
     "data": {
      "text/html": [
       "<div>\n",
       "<style scoped>\n",
       "    .dataframe tbody tr th:only-of-type {\n",
       "        vertical-align: middle;\n",
       "    }\n",
       "\n",
       "    .dataframe tbody tr th {\n",
       "        vertical-align: top;\n",
       "    }\n",
       "\n",
       "    .dataframe thead th {\n",
       "        text-align: right;\n",
       "    }\n",
       "</style>\n",
       "<table border=\"1\" class=\"dataframe\">\n",
       "  <thead>\n",
       "    <tr style=\"text-align: right;\">\n",
       "      <th></th>\n",
       "      <th>user_id</th>\n",
       "      <th>timestamp</th>\n",
       "      <th>solving_id</th>\n",
       "      <th>question_id</th>\n",
       "      <th>user_answer</th>\n",
       "      <th>elapsed_time</th>\n",
       "      <th>action_type</th>\n",
       "      <th>item_id</th>\n",
       "      <th>source</th>\n",
       "      <th>platform</th>\n",
       "      <th>cursor_time</th>\n",
       "    </tr>\n",
       "  </thead>\n",
       "  <tbody>\n",
       "    <tr>\n",
       "      <th>0</th>\n",
       "      <td>11976</td>\n",
       "      <td>2019-07-19 09:29:58.985</td>\n",
       "      <td>1.0</td>\n",
       "      <td>5955</td>\n",
       "      <td>NaN</td>\n",
       "      <td>25.0</td>\n",
       "      <td>NaN</td>\n",
       "      <td>NaN</td>\n",
       "      <td>NaN</td>\n",
       "      <td>NaN</td>\n",
       "      <td>NaN</td>\n",
       "    </tr>\n",
       "    <tr>\n",
       "      <th>1</th>\n",
       "      <td>11976</td>\n",
       "      <td>2019-07-19 09:30:23.571</td>\n",
       "      <td>2.0</td>\n",
       "      <td>1184</td>\n",
       "      <td>NaN</td>\n",
       "      <td>17.0</td>\n",
       "      <td>NaN</td>\n",
       "      <td>NaN</td>\n",
       "      <td>NaN</td>\n",
       "      <td>NaN</td>\n",
       "      <td>NaN</td>\n",
       "    </tr>\n",
       "    <tr>\n",
       "      <th>2</th>\n",
       "      <td>11976</td>\n",
       "      <td>2019-07-19 09:31:03.518</td>\n",
       "      <td>3.0</td>\n",
       "      <td>5200</td>\n",
       "      <td>NaN</td>\n",
       "      <td>36.0</td>\n",
       "      <td>NaN</td>\n",
       "      <td>NaN</td>\n",
       "      <td>NaN</td>\n",
       "      <td>NaN</td>\n",
       "      <td>NaN</td>\n",
       "    </tr>\n",
       "    <tr>\n",
       "      <th>3</th>\n",
       "      <td>11976</td>\n",
       "      <td>2019-07-19 09:31:30.086</td>\n",
       "      <td>4.0</td>\n",
       "      <td>5365</td>\n",
       "      <td>NaN</td>\n",
       "      <td>22.0</td>\n",
       "      <td>NaN</td>\n",
       "      <td>NaN</td>\n",
       "      <td>NaN</td>\n",
       "      <td>NaN</td>\n",
       "      <td>NaN</td>\n",
       "    </tr>\n",
       "    <tr>\n",
       "      <th>4</th>\n",
       "      <td>11976</td>\n",
       "      <td>2019-07-19 09:31:56.490</td>\n",
       "      <td>5.0</td>\n",
       "      <td>5296</td>\n",
       "      <td>NaN</td>\n",
       "      <td>23.0</td>\n",
       "      <td>NaN</td>\n",
       "      <td>NaN</td>\n",
       "      <td>NaN</td>\n",
       "      <td>NaN</td>\n",
       "      <td>NaN</td>\n",
       "    </tr>\n",
       "  </tbody>\n",
       "</table>\n",
       "</div>"
      ],
      "text/plain": [
       "   user_id               timestamp  solving_id question_id user_answer  \\\n",
       "0    11976 2019-07-19 09:29:58.985         1.0        5955         NaN   \n",
       "1    11976 2019-07-19 09:30:23.571         2.0        1184         NaN   \n",
       "2    11976 2019-07-19 09:31:03.518         3.0        5200         NaN   \n",
       "3    11976 2019-07-19 09:31:30.086         4.0        5365         NaN   \n",
       "4    11976 2019-07-19 09:31:56.490         5.0        5296         NaN   \n",
       "\n",
       "   elapsed_time action_type item_id source platform  cursor_time  \n",
       "0          25.0         NaN     NaN    NaN      NaN          NaN  \n",
       "1          17.0         NaN     NaN    NaN      NaN          NaN  \n",
       "2          36.0         NaN     NaN    NaN      NaN          NaN  \n",
       "3          22.0         NaN     NaN    NaN      NaN          NaN  \n",
       "4          23.0         NaN     NaN    NaN      NaN          NaN  "
      ]
     },
     "execution_count": 5,
     "metadata": {},
     "output_type": "execute_result"
    }
   ],
   "source": [
    "# loop: create pandas dataframe\n",
    "# extract user_id from filename and assign user_id as value to column[0], 'user_id'\n",
    "\n",
    "z = 1243\n",
    "\n",
    "for i in range(1):\n",
    "        KT1 = pd.read_csv(folder_1 + csv_files[z])\n",
    "        KT1.insert(0, 'user_id', csv_files[z].split('.')[0])\n",
    "\n",
    "        KT2 = pd.read_csv(folder_2 + csv_files[z]) \n",
    "        KT2.insert(0, 'user_id', csv_files[z].split('.')[0])\n",
    "\n",
    "        KT3 = pd.read_csv(folder_3 + csv_files[z])\n",
    "        KT3.insert(0, 'user_id', csv_files[z].split('.')[0])\n",
    "\n",
    "        KT4 = pd.read_csv(folder_4 + csv_files[z])\n",
    "        KT4.insert(0, 'user_id', csv_files[z].split('.')[0])\n",
    "    \n",
    "        # MERGE\n",
    "        df = KT1.merge(KT2, on='timestamp', how='outer')\\\n",
    "            .merge(KT3, on='timestamp', how='outer')\\\n",
    "            .merge(KT4, on='timestamp', how='outer')\n",
    "        \n",
    "        # convert timestamp column to datetime\n",
    "        df.timestamp = pd.to_datetime(df['timestamp'], unit='ms')\n",
    "        \n",
    "        # drop_duplicates\n",
    "        df = df.drop_duplicates(subset=['timestamp'], keep='last')\n",
    "        \n",
    "        # subset columns \n",
    "        df = df[['user_id_x','timestamp','solving_id','question_id','user_answer_x','elapsed_time',\\\n",
    "          'action_type_x','item_id_x','source_x','platform_x','cursor_time']]\n",
    "        df = df.iloc[:,[0,2,3,4,6,7,8,9,10,11,12]]\n",
    "                        \n",
    "        # cleanup column names\n",
    "        columns = ['user_id','timestamp','solving_id','question_id','user_answer','elapsed_time',\\\n",
    "          'action_type','item_id','source','platform', 'cursor_time']\n",
    "        df.columns = columns\n",
    "        \n",
    "        # convert 'elapsed_time' from ms to seconds\n",
    "        df.elapsed_time = df.elapsed_time.div(1000)\n",
    "        \n",
    "        # cleanup values by slicing the leading letter\n",
    "        df.user_id = df.user_id.str.split('u')[1][1]\n",
    "        df.user_id = df.user_id.astype('int64')\n",
    "        df.question_id = df.question_id.str.slice(start=1)\n",
    "        \n",
    "        #df.question_id = df.question_id.fillna(0).astype(int)\n",
    "\n",
    "        # EXPORT csv create a csv of the new dataframe\n",
    "        output = '_'+ str(csv_files[z])\n",
    "        df.to_csv(output, index=False)\n",
    "        \n",
    "        z+=1\n",
    "\n",
    "df.head()"
   ]
  },
  {
   "cell_type": "code",
   "execution_count": 6,
   "metadata": {},
   "outputs": [
    {
     "data": {
      "text/plain": [
       "user_id                  int64\n",
       "timestamp       datetime64[ns]\n",
       "solving_id             float64\n",
       "question_id             object\n",
       "user_answer             object\n",
       "elapsed_time           float64\n",
       "action_type             object\n",
       "item_id                 object\n",
       "source                  object\n",
       "platform                object\n",
       "cursor_time            float64\n",
       "dtype: object"
      ]
     },
     "execution_count": 6,
     "metadata": {},
     "output_type": "execute_result"
    }
   ],
   "source": [
    "df.dtypes "
   ]
  },
  {
   "cell_type": "code",
   "execution_count": 7,
   "metadata": {},
   "outputs": [
    {
     "name": "stdout",
     "output_type": "stream",
     "text": [
      "[2487, 2487, 568, 568, 333, 568, 815, 815, 815, 815, 468]\n"
     ]
    },
    {
     "data": {
      "text/plain": [
       "Text(0.5, 1.0, 'Non-Null Values')"
      ]
     },
     "execution_count": 7,
     "metadata": {},
     "output_type": "execute_result"
    },
    {
     "data": {
      "image/png": "[encoded data removed]",
      "text/plain": [
       "<Figure size 432x288 with 1 Axes>"
      ]
     },
     "metadata": {
      "needs_background": "light"
     },
     "output_type": "display_data"
    }
   ],
   "source": [
    "# plot Non-Null Values per column\n",
    "hey = '_u' + str(df.iloc[:,0].values[0])\n",
    "newb = pd.read_csv(hey + '.csv')\n",
    "\n",
    "newlist = []\n",
    "for i in range(newb.shape[1]):\n",
    "    newlist.append(newb.iloc[:,i].notnull().sum())\n",
    "print(newlist)\n",
    "\n",
    "import matplotlib.pyplot as plt\n",
    "plt.bar(newb.columns, newlist)\n",
    "plt.xticks(rotation=45, ha=\"right\")\n",
    "plt.title('Non-Null Values')"
   ]
  },
  {
   "cell_type": "markdown",
   "metadata": {},
   "source": [
    "## GRADING / SCORING\n",
    "\"\"\"# inner join dataframes on 'question_id' columns\n",
    "        df = pd.merge(left=df, right=questions_df, left_on='question_id', right_on='question_id')\n",
    "\n",
    "        # create a 'correct' column\n",
    "        df['correct'] = 0\n",
    "\n",
    "        # loop - if user answers == correct answer, then df1['correct'][_]= 1\n",
    "        length_df = df['user_id'].count()\n",
    "        count = 0\n",
    "        for i in range(length_df):\n",
    "            if df['user_answer'][count] == df['correct_answer'][count]:\n",
    "                df['correct'][count] = 1\n",
    "            count+=1\n",
    "            \n",
    "        # create new 'score' column = sum of rows/ sum of correct (1)\n",
    "        total_u1 = df['correct'].count()\n",
    "        correct_u1 = df[df['correct'] == 1].count()\n",
    "        score = correct_u1[0]/total_u1\n",
    "        df['score'] = score\"\"\""
   ]
  }
 ],
 "metadata": {
  "kernelspec": {
   "display_name": "Python 3",
   "language": "python",
   "name": "python3"
  },
  "language_info": {
   "codemirror_mode": {
    "name": "ipython",
    "version": 3
   },
   "file_extension": ".py",
   "mimetype": "text/x-python",
   "name": "python",
   "nbconvert_exporter": "python",
   "pygments_lexer": "ipython3",
   "version": "3.7.6"
  }
 },
 "nbformat": 4,
 "nbformat_minor": 4
}
