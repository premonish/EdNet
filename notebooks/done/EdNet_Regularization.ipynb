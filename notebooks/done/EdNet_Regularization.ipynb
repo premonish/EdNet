{
 "cells": [
  {
   "cell_type": "markdown",
   "metadata": {},
   "source": [
    "# EdNet - PREDICT STUDENT PERFORMANCE\n",
    "\"EdNet is the dataset of all student-system interactions collected over 2 years by Santa, a multi-platform AI tutoring service with more than 780K users in Korea available through Android, iOS and web.\" https://github.com/riiid/ednet<p>\n",
    "<b>OBJECTIVE:</b> Predict likelihood that a student will choose a correct answer based on their previous data. <p>\n",
    "<b>METHOD:</b> Compare many machine learning logistic regression algorithms to determine the most performant model for the students."
   ]
  },
  {
   "cell_type": "code",
   "execution_count": 1,
   "metadata": {},
   "outputs": [],
   "source": [
    "# I get by with a little help from my friends\n",
    "import numpy as np\n",
    "import pandas as pd\n",
    "import glob\n",
    "import warnings\n",
    "warnings.filterwarnings('ignore')"
   ]
  },
  {
   "cell_type": "code",
   "execution_count": 2,
   "metadata": {},
   "outputs": [
    {
     "name": "stdout",
     "output_type": "stream",
     "text": [
      "C:\\Users\\Prem\\Desktop\\SPRINGBOARD_MASTER\\EdNet\\data\\raw\\EdNet-KT4\\KT4\n"
     ]
    }
   ],
   "source": [
    "cd ~/Desktop/SPRINGBOARD_MASTER/EdNet/data/raw/EdNet-KT4/KT4"
   ]
  },
  {
   "cell_type": "code",
   "execution_count": 3,
   "metadata": {},
   "outputs": [],
   "source": [
    "# save file locations as variables for fast access\n",
    "prefix = '~/Desktop/SPRINGBOARD_MASTER/EdNet/data/raw/EdNet-'\n",
    "folder_1 = prefix + 'KT1/KT1/'\n",
    "folder_2 = prefix + 'KT2/KT2/'\n",
    "folder_3 = prefix + 'KT3/KT3/'\n",
    "folder_4 = prefix + 'KT4/KT4/'\n",
    "questions = prefix + 'Contents/contents/questions.csv'\n",
    "\n",
    "# read in Answer Key as 'questions_df' csv file\n",
    "questions_df = pd.read_csv(questions)\n",
    "\n",
    "# create a list of the csv files in current directory\n",
    "csv_files = glob.glob('*.csv')"
   ]
  },
  {
   "cell_type": "code",
   "execution_count": 4,
   "metadata": {},
   "outputs": [
    {
     "name": "stdout",
     "output_type": "stream",
     "text": [
      "298090\n"
     ]
    }
   ],
   "source": [
    "# count of csv files in current directory\n",
    "print(len(csv_files))"
   ]
  },
  {
   "cell_type": "markdown",
   "metadata": {},
   "source": [
    "# DATA WRANGLING & CLEANING\n",
    "1. data import, read csv files as pandas dataframes\n",
    "2. extract user_id from filename and assign user_id as value to column[0], 'user_id'\n",
    "3. convert unix timestamps to datetime\n",
    "4. drop duplicate timestamp rows\n",
    "5. clean up some values by slicing unhelpful leading letters and convert into integers\n",
    "6. export as a cleaned up csv"
   ]
  },
  {
   "cell_type": "code",
   "execution_count": 5,
   "metadata": {
    "scrolled": true
   },
   "outputs": [
    {
     "data": {
      "text/html": [
       "<div>\n",
       "<style scoped>\n",
       "    .dataframe tbody tr th:only-of-type {\n",
       "        vertical-align: middle;\n",
       "    }\n",
       "\n",
       "    .dataframe tbody tr th {\n",
       "        vertical-align: top;\n",
       "    }\n",
       "\n",
       "    .dataframe thead th {\n",
       "        text-align: right;\n",
       "    }\n",
       "</style>\n",
       "<table border=\"1\" class=\"dataframe\">\n",
       "  <thead>\n",
       "    <tr style=\"text-align: right;\">\n",
       "      <th></th>\n",
       "      <th>user_id</th>\n",
       "      <th>timestamp</th>\n",
       "      <th>solving_id</th>\n",
       "      <th>question_id</th>\n",
       "      <th>user_answer</th>\n",
       "      <th>elapsed_time</th>\n",
       "    </tr>\n",
       "  </thead>\n",
       "  <tbody>\n",
       "    <tr>\n",
       "      <th>0</th>\n",
       "      <td>12</td>\n",
       "      <td>2019-08-14 05:05:58.044</td>\n",
       "      <td>1</td>\n",
       "      <td>9632</td>\n",
       "      <td>b</td>\n",
       "      <td>15.0</td>\n",
       "    </tr>\n",
       "    <tr>\n",
       "      <th>1</th>\n",
       "      <td>12</td>\n",
       "      <td>2019-08-14 05:06:22.342</td>\n",
       "      <td>2</td>\n",
       "      <td>5037</td>\n",
       "      <td>b</td>\n",
       "      <td>20.0</td>\n",
       "    </tr>\n",
       "    <tr>\n",
       "      <th>2</th>\n",
       "      <td>12</td>\n",
       "      <td>2019-08-14 05:07:10.824</td>\n",
       "      <td>3</td>\n",
       "      <td>5098</td>\n",
       "      <td>a</td>\n",
       "      <td>46.0</td>\n",
       "    </tr>\n",
       "    <tr>\n",
       "      <th>3</th>\n",
       "      <td>12</td>\n",
       "      <td>2019-08-14 05:07:46.344</td>\n",
       "      <td>4</td>\n",
       "      <td>218</td>\n",
       "      <td>b</td>\n",
       "      <td>33.0</td>\n",
       "    </tr>\n",
       "    <tr>\n",
       "      <th>4</th>\n",
       "      <td>12</td>\n",
       "      <td>2019-08-14 05:08:28.991</td>\n",
       "      <td>5</td>\n",
       "      <td>5055</td>\n",
       "      <td>d</td>\n",
       "      <td>40.0</td>\n",
       "    </tr>\n",
       "  </tbody>\n",
       "</table>\n",
       "</div>"
      ],
      "text/plain": [
       "   user_id               timestamp  solving_id question_id user_answer  \\\n",
       "0       12 2019-08-14 05:05:58.044           1        9632           b   \n",
       "1       12 2019-08-14 05:06:22.342           2        5037           b   \n",
       "2       12 2019-08-14 05:07:10.824           3        5098           a   \n",
       "3       12 2019-08-14 05:07:46.344           4         218           b   \n",
       "4       12 2019-08-14 05:08:28.991           5        5055           d   \n",
       "\n",
       "   elapsed_time  \n",
       "0          15.0  \n",
       "1          20.0  \n",
       "2          46.0  \n",
       "3          33.0  \n",
       "4          40.0  "
      ]
     },
     "execution_count": 5,
     "metadata": {},
     "output_type": "execute_result"
    }
   ],
   "source": [
    "# user number = z\n",
    "z = 1260\n",
    "\n",
    "# loop: create pandas dataframe\n",
    "for i in range(1):\n",
    "        df = pd.read_csv(folder_1 + csv_files[z])\n",
    "        df.insert(0, 'user_id', csv_files[z].split('.')[0])\n",
    "        \n",
    "        # convert timestamp column to datetime\n",
    "        df.timestamp = pd.to_datetime(df['timestamp'], unit='ms')\n",
    "        \n",
    "        # drop_duplicates\n",
    "        df = df.drop_duplicates(subset=['timestamp'], keep='last')\n",
    "        \n",
    "        # convert 'elapsed_time' from ms to seconds\n",
    "        df.elapsed_time = df.elapsed_time.div(1000)\n",
    "        \n",
    "        # cleanup values by slicing the leading letter\n",
    "        df.user_id = df.user_id.str.split('u')[1][1]\n",
    "        df.user_id = df.user_id.astype('int64')\n",
    "        df.question_id = df.question_id.str.slice(start=1)\n",
    "        \n",
    "        #df.question_id = df.question_id.fillna(0).astype(int)\n",
    "\n",
    "        # EXPORT csv create a csv of the new dataframe\n",
    "        output = '_KT1_'+ str(csv_files[z])\n",
    "        df.to_csv(output, index=False)\n",
    "        \n",
    "        z+=1\n",
    "\n",
    "df.head()"
   ]
  },
  {
   "cell_type": "code",
   "execution_count": 6,
   "metadata": {},
   "outputs": [
    {
     "data": {
      "text/plain": [
       "user_id                  int64\n",
       "timestamp       datetime64[ns]\n",
       "solving_id               int64\n",
       "question_id             object\n",
       "user_answer             object\n",
       "elapsed_time           float64\n",
       "dtype: object"
      ]
     },
     "execution_count": 6,
     "metadata": {},
     "output_type": "execute_result"
    }
   ],
   "source": [
    "df.dtypes"
   ]
  },
  {
   "cell_type": "markdown",
   "metadata": {},
   "source": [
    "# EXPLORATORY DATA ANALYSIS\n",
    "1. check for null values\n",
    "2. clean up as needed"
   ]
  },
  {
   "cell_type": "code",
   "execution_count": 7,
   "metadata": {},
   "outputs": [
    {
     "name": "stdout",
     "output_type": "stream",
     "text": [
      "[59, 59, 59, 59, 56, 59]\n"
     ]
    },
    {
     "data": {
      "text/plain": [
       "Text(0.5, 1.0, 'Non-Null Values')"
      ]
     },
     "execution_count": 7,
     "metadata": {},
     "output_type": "execute_result"
    },
    {
     "data": {
      "image/png": "[encoded data removed]",
      "text/plain": [
       "<Figure size 432x288 with 1 Axes>"
      ]
     },
     "metadata": {
      "needs_background": "light"
     },
     "output_type": "display_data"
    }
   ],
   "source": [
    "# plot Non-Null Values per column\n",
    "hey = '_KT1_u' + str(df.iloc[:,0].values[0])\n",
    "newb = pd.read_csv(hey + '.csv')\n",
    "\n",
    "newlist = []\n",
    "for i in range(newb.shape[1]):\n",
    "    newlist.append(newb.iloc[:,i].notnull().sum())\n",
    "print(newlist)\n",
    "\n",
    "import matplotlib.pyplot as plt\n",
    "plt.bar(newb.columns, newlist)\n",
    "plt.xticks(rotation=45, ha=\"right\")\n",
    "plt.title('Non-Null Values')"
   ]
  },
  {
   "cell_type": "markdown",
   "metadata": {},
   "source": [
    "# DATA CLEANING, SPLITTING & MERGING\n",
    "1. clean up unneeded leading letters in values\n",
    "2. split the 'tags' column n times and make a separate column for each tag\n",
    "3. left inner join student dataframe and answer key dataframe on the 'question_id' column \n",
    "4. grade the student against answer key and record in a binary 'correct' column \n",
    "5. remove duplicate 'timestamp' rows"
   ]
  },
  {
   "cell_type": "code",
   "execution_count": 8,
   "metadata": {},
   "outputs": [
    {
     "data": {
      "text/html": [
       "<div>\n",
       "<style scoped>\n",
       "    .dataframe tbody tr th:only-of-type {\n",
       "        vertical-align: middle;\n",
       "    }\n",
       "\n",
       "    .dataframe tbody tr th {\n",
       "        vertical-align: top;\n",
       "    }\n",
       "\n",
       "    .dataframe thead th {\n",
       "        text-align: right;\n",
       "    }\n",
       "</style>\n",
       "<table border=\"1\" class=\"dataframe\">\n",
       "  <thead>\n",
       "    <tr style=\"text-align: right;\">\n",
       "      <th></th>\n",
       "      <th>question_id</th>\n",
       "      <th>correct_answer</th>\n",
       "      <th>bundle_id</th>\n",
       "      <th>part</th>\n",
       "      <th>tags</th>\n",
       "      <th>deployed_at</th>\n",
       "    </tr>\n",
       "  </thead>\n",
       "  <tbody>\n",
       "    <tr>\n",
       "      <th>0</th>\n",
       "      <td>1</td>\n",
       "      <td>b</td>\n",
       "      <td>1</td>\n",
       "      <td>1</td>\n",
       "      <td>1;2;179;181</td>\n",
       "      <td>2019-05-17 11:40:17.098</td>\n",
       "    </tr>\n",
       "    <tr>\n",
       "      <th>1</th>\n",
       "      <td>2</td>\n",
       "      <td>a</td>\n",
       "      <td>2</td>\n",
       "      <td>1</td>\n",
       "      <td>15;2;182</td>\n",
       "      <td>2019-05-17 11:40:19.720</td>\n",
       "    </tr>\n",
       "    <tr>\n",
       "      <th>2</th>\n",
       "      <td>3</td>\n",
       "      <td>b</td>\n",
       "      <td>3</td>\n",
       "      <td>1</td>\n",
       "      <td>14;2;179;183</td>\n",
       "      <td>2019-05-17 11:40:22.784</td>\n",
       "    </tr>\n",
       "    <tr>\n",
       "      <th>3</th>\n",
       "      <td>4</td>\n",
       "      <td>b</td>\n",
       "      <td>4</td>\n",
       "      <td>1</td>\n",
       "      <td>9;2;179;184</td>\n",
       "      <td>2019-05-17 11:40:25.357</td>\n",
       "    </tr>\n",
       "    <tr>\n",
       "      <th>4</th>\n",
       "      <td>5</td>\n",
       "      <td>c</td>\n",
       "      <td>5</td>\n",
       "      <td>1</td>\n",
       "      <td>8;2;179;181</td>\n",
       "      <td>2019-05-17 11:40:28.439</td>\n",
       "    </tr>\n",
       "  </tbody>\n",
       "</table>\n",
       "</div>"
      ],
      "text/plain": [
       "  question_id correct_answer bundle_id  part          tags  \\\n",
       "0           1              b         1     1   1;2;179;181   \n",
       "1           2              a         2     1      15;2;182   \n",
       "2           3              b         3     1  14;2;179;183   \n",
       "3           4              b         4     1   9;2;179;184   \n",
       "4           5              c         5     1   8;2;179;181   \n",
       "\n",
       "              deployed_at  \n",
       "0 2019-05-17 11:40:17.098  \n",
       "1 2019-05-17 11:40:19.720  \n",
       "2 2019-05-17 11:40:22.784  \n",
       "3 2019-05-17 11:40:25.357  \n",
       "4 2019-05-17 11:40:28.439  "
      ]
     },
     "execution_count": 8,
     "metadata": {},
     "output_type": "execute_result"
    }
   ],
   "source": [
    "# clean 'question_df' dataframe AKA: Answer Key\n",
    "questions_df.question_id = questions_df.question_id.str.slice(start=1)\n",
    "questions_df.bundle_id = questions_df.bundle_id.str.slice(start=1)\n",
    "questions_df.explanation_id = questions_df.explanation_id.str.slice(start=1)\n",
    "questions_df.deployed_at = pd.to_datetime(questions_df.deployed_at, unit='ms')\n",
    "dfq = questions_df[['question_id', 'correct_answer', 'bundle_id', 'part', 'tags', 'deployed_at']]\n",
    "dfq.head()"
   ]
  },
  {
   "cell_type": "code",
   "execution_count": 9,
   "metadata": {},
   "outputs": [],
   "source": [
    "# new data frame with split value columns \n",
    "new = dfq['tags'].str.split(\";\", n = 8, expand = True) \n",
    "  \n",
    "# make a separate column for each tag\n",
    "dfq['tag1']= new[0] \n",
    "dfq['tag2']= new[1] \n",
    "dfq['tag3']= new[2]\n",
    "dfq['tag4']= new[3]\n",
    "dfq['tag5']= new[4]\n",
    "dfq['tag6']= new[5]\n",
    "dfq['tag7']= new[6]\n",
    "#dfq['tag8']= new[7]"
   ]
  },
  {
   "cell_type": "code",
   "execution_count": 10,
   "metadata": {},
   "outputs": [
    {
     "data": {
      "text/html": [
       "<div>\n",
       "<style scoped>\n",
       "    .dataframe tbody tr th:only-of-type {\n",
       "        vertical-align: middle;\n",
       "    }\n",
       "\n",
       "    .dataframe tbody tr th {\n",
       "        vertical-align: top;\n",
       "    }\n",
       "\n",
       "    .dataframe thead th {\n",
       "        text-align: right;\n",
       "    }\n",
       "</style>\n",
       "<table border=\"1\" class=\"dataframe\">\n",
       "  <thead>\n",
       "    <tr style=\"text-align: right;\">\n",
       "      <th></th>\n",
       "      <th>question_id</th>\n",
       "      <th>correct_answer</th>\n",
       "      <th>bundle_id</th>\n",
       "      <th>part</th>\n",
       "      <th>tags</th>\n",
       "      <th>deployed_at</th>\n",
       "      <th>tag1</th>\n",
       "      <th>tag2</th>\n",
       "      <th>tag3</th>\n",
       "      <th>tag4</th>\n",
       "      <th>tag5</th>\n",
       "      <th>tag6</th>\n",
       "      <th>tag7</th>\n",
       "    </tr>\n",
       "  </thead>\n",
       "  <tbody>\n",
       "    <tr>\n",
       "      <th>0</th>\n",
       "      <td>1</td>\n",
       "      <td>b</td>\n",
       "      <td>1</td>\n",
       "      <td>1</td>\n",
       "      <td>1;2;179;181</td>\n",
       "      <td>2019-05-17 11:40:17.098</td>\n",
       "      <td>1</td>\n",
       "      <td>2</td>\n",
       "      <td>179</td>\n",
       "      <td>181</td>\n",
       "      <td>None</td>\n",
       "      <td>None</td>\n",
       "      <td>None</td>\n",
       "    </tr>\n",
       "    <tr>\n",
       "      <th>1</th>\n",
       "      <td>2</td>\n",
       "      <td>a</td>\n",
       "      <td>2</td>\n",
       "      <td>1</td>\n",
       "      <td>15;2;182</td>\n",
       "      <td>2019-05-17 11:40:19.720</td>\n",
       "      <td>15</td>\n",
       "      <td>2</td>\n",
       "      <td>182</td>\n",
       "      <td>None</td>\n",
       "      <td>None</td>\n",
       "      <td>None</td>\n",
       "      <td>None</td>\n",
       "    </tr>\n",
       "    <tr>\n",
       "      <th>2</th>\n",
       "      <td>3</td>\n",
       "      <td>b</td>\n",
       "      <td>3</td>\n",
       "      <td>1</td>\n",
       "      <td>14;2;179;183</td>\n",
       "      <td>2019-05-17 11:40:22.784</td>\n",
       "      <td>14</td>\n",
       "      <td>2</td>\n",
       "      <td>179</td>\n",
       "      <td>183</td>\n",
       "      <td>None</td>\n",
       "      <td>None</td>\n",
       "      <td>None</td>\n",
       "    </tr>\n",
       "    <tr>\n",
       "      <th>3</th>\n",
       "      <td>4</td>\n",
       "      <td>b</td>\n",
       "      <td>4</td>\n",
       "      <td>1</td>\n",
       "      <td>9;2;179;184</td>\n",
       "      <td>2019-05-17 11:40:25.357</td>\n",
       "      <td>9</td>\n",
       "      <td>2</td>\n",
       "      <td>179</td>\n",
       "      <td>184</td>\n",
       "      <td>None</td>\n",
       "      <td>None</td>\n",
       "      <td>None</td>\n",
       "    </tr>\n",
       "    <tr>\n",
       "      <th>4</th>\n",
       "      <td>5</td>\n",
       "      <td>c</td>\n",
       "      <td>5</td>\n",
       "      <td>1</td>\n",
       "      <td>8;2;179;181</td>\n",
       "      <td>2019-05-17 11:40:28.439</td>\n",
       "      <td>8</td>\n",
       "      <td>2</td>\n",
       "      <td>179</td>\n",
       "      <td>181</td>\n",
       "      <td>None</td>\n",
       "      <td>None</td>\n",
       "      <td>None</td>\n",
       "    </tr>\n",
       "  </tbody>\n",
       "</table>\n",
       "</div>"
      ],
      "text/plain": [
       "  question_id correct_answer bundle_id  part          tags  \\\n",
       "0           1              b         1     1   1;2;179;181   \n",
       "1           2              a         2     1      15;2;182   \n",
       "2           3              b         3     1  14;2;179;183   \n",
       "3           4              b         4     1   9;2;179;184   \n",
       "4           5              c         5     1   8;2;179;181   \n",
       "\n",
       "              deployed_at tag1 tag2 tag3  tag4  tag5  tag6  tag7  \n",
       "0 2019-05-17 11:40:17.098    1    2  179   181  None  None  None  \n",
       "1 2019-05-17 11:40:19.720   15    2  182  None  None  None  None  \n",
       "2 2019-05-17 11:40:22.784   14    2  179   183  None  None  None  \n",
       "3 2019-05-17 11:40:25.357    9    2  179   184  None  None  None  \n",
       "4 2019-05-17 11:40:28.439    8    2  179   181  None  None  None  "
      ]
     },
     "execution_count": 10,
     "metadata": {},
     "output_type": "execute_result"
    }
   ],
   "source": [
    "dfq.head()"
   ]
  },
  {
   "cell_type": "code",
   "execution_count": 11,
   "metadata": {},
   "outputs": [],
   "source": [
    "# subset df for notnull question_id rows only (only work with rows that have questions)\n",
    "df2 = df[df['question_id'].notnull()]"
   ]
  },
  {
   "cell_type": "code",
   "execution_count": 12,
   "metadata": {},
   "outputs": [],
   "source": [
    "# left join student dataframe and answer key dataframe on the 'question_id' column \n",
    "dfm = pd.merge(df2, dfq,  how='left', left_on=['question_id'], right_on = ['question_id'])"
   ]
  },
  {
   "cell_type": "code",
   "execution_count": 13,
   "metadata": {},
   "outputs": [],
   "source": [
    "# create a 'correct' column\n",
    "dfm['correct'] = np.nan\n",
    "\n",
    "# loop - if user answers == correct answer, then dfq['correct'][_]= 1\n",
    "length_df = dfm['user_id'].count()\n",
    "count = 0\n",
    "for i in range(length_df):\n",
    "    if dfm['user_answer'][count] == dfm['correct_answer'][count]:\n",
    "        dfm['correct'][count] = 1\n",
    "    if dfm['user_answer'][count] != dfm['correct_answer'][count]:\n",
    "        dfm['correct'][count] = 0\n",
    "    count+=1"
   ]
  },
  {
   "cell_type": "code",
   "execution_count": 14,
   "metadata": {},
   "outputs": [
    {
     "data": {
      "text/html": [
       "<div>\n",
       "<style scoped>\n",
       "    .dataframe tbody tr th:only-of-type {\n",
       "        vertical-align: middle;\n",
       "    }\n",
       "\n",
       "    .dataframe tbody tr th {\n",
       "        vertical-align: top;\n",
       "    }\n",
       "\n",
       "    .dataframe thead th {\n",
       "        text-align: right;\n",
       "    }\n",
       "</style>\n",
       "<table border=\"1\" class=\"dataframe\">\n",
       "  <thead>\n",
       "    <tr style=\"text-align: right;\">\n",
       "      <th></th>\n",
       "      <th>user_id</th>\n",
       "      <th>timestamp</th>\n",
       "      <th>solving_id</th>\n",
       "      <th>question_id</th>\n",
       "      <th>user_answer</th>\n",
       "      <th>elapsed_time</th>\n",
       "      <th>correct_answer</th>\n",
       "      <th>bundle_id</th>\n",
       "      <th>part</th>\n",
       "      <th>tags</th>\n",
       "      <th>deployed_at</th>\n",
       "      <th>tag1</th>\n",
       "      <th>tag2</th>\n",
       "      <th>tag3</th>\n",
       "      <th>tag4</th>\n",
       "      <th>tag5</th>\n",
       "      <th>tag6</th>\n",
       "      <th>tag7</th>\n",
       "      <th>correct</th>\n",
       "    </tr>\n",
       "  </thead>\n",
       "  <tbody>\n",
       "    <tr>\n",
       "      <th>0</th>\n",
       "      <td>12</td>\n",
       "      <td>2019-08-14 05:05:58.044</td>\n",
       "      <td>1</td>\n",
       "      <td>9632</td>\n",
       "      <td>b</td>\n",
       "      <td>15.0</td>\n",
       "      <td>a</td>\n",
       "      <td>6983</td>\n",
       "      <td>5</td>\n",
       "      <td>78</td>\n",
       "      <td>2019-09-17 02:57:58.835</td>\n",
       "      <td>78</td>\n",
       "      <td>None</td>\n",
       "      <td>None</td>\n",
       "      <td>None</td>\n",
       "      <td>None</td>\n",
       "      <td>None</td>\n",
       "      <td>None</td>\n",
       "      <td>0.0</td>\n",
       "    </tr>\n",
       "    <tr>\n",
       "      <th>1</th>\n",
       "      <td>12</td>\n",
       "      <td>2019-08-14 05:06:22.342</td>\n",
       "      <td>2</td>\n",
       "      <td>5037</td>\n",
       "      <td>b</td>\n",
       "      <td>20.0</td>\n",
       "      <td>b</td>\n",
       "      <td>3569</td>\n",
       "      <td>5</td>\n",
       "      <td>98</td>\n",
       "      <td>2019-10-17 03:05:12.749</td>\n",
       "      <td>98</td>\n",
       "      <td>None</td>\n",
       "      <td>None</td>\n",
       "      <td>None</td>\n",
       "      <td>None</td>\n",
       "      <td>None</td>\n",
       "      <td>None</td>\n",
       "      <td>1.0</td>\n",
       "    </tr>\n",
       "    <tr>\n",
       "      <th>2</th>\n",
       "      <td>12</td>\n",
       "      <td>2019-08-14 05:07:10.824</td>\n",
       "      <td>3</td>\n",
       "      <td>5098</td>\n",
       "      <td>a</td>\n",
       "      <td>46.0</td>\n",
       "      <td>c</td>\n",
       "      <td>3630</td>\n",
       "      <td>5</td>\n",
       "      <td>83</td>\n",
       "      <td>2019-03-12 02:04:33.013</td>\n",
       "      <td>83</td>\n",
       "      <td>None</td>\n",
       "      <td>None</td>\n",
       "      <td>None</td>\n",
       "      <td>None</td>\n",
       "      <td>None</td>\n",
       "      <td>None</td>\n",
       "      <td>0.0</td>\n",
       "    </tr>\n",
       "    <tr>\n",
       "      <th>3</th>\n",
       "      <td>12</td>\n",
       "      <td>2019-08-14 05:07:46.344</td>\n",
       "      <td>4</td>\n",
       "      <td>218</td>\n",
       "      <td>b</td>\n",
       "      <td>33.0</td>\n",
       "      <td>b</td>\n",
       "      <td>218</td>\n",
       "      <td>2</td>\n",
       "      <td>24;50;184;185</td>\n",
       "      <td>2019-10-30 05:13:00.056</td>\n",
       "      <td>24</td>\n",
       "      <td>50</td>\n",
       "      <td>184</td>\n",
       "      <td>185</td>\n",
       "      <td>None</td>\n",
       "      <td>None</td>\n",
       "      <td>None</td>\n",
       "      <td>1.0</td>\n",
       "    </tr>\n",
       "    <tr>\n",
       "      <th>4</th>\n",
       "      <td>12</td>\n",
       "      <td>2019-08-14 05:08:28.991</td>\n",
       "      <td>5</td>\n",
       "      <td>5055</td>\n",
       "      <td>d</td>\n",
       "      <td>40.0</td>\n",
       "      <td>c</td>\n",
       "      <td>3587</td>\n",
       "      <td>5</td>\n",
       "      <td>119</td>\n",
       "      <td>2019-10-17 03:05:45.729</td>\n",
       "      <td>119</td>\n",
       "      <td>None</td>\n",
       "      <td>None</td>\n",
       "      <td>None</td>\n",
       "      <td>None</td>\n",
       "      <td>None</td>\n",
       "      <td>None</td>\n",
       "      <td>0.0</td>\n",
       "    </tr>\n",
       "  </tbody>\n",
       "</table>\n",
       "</div>"
      ],
      "text/plain": [
       "   user_id               timestamp  solving_id question_id user_answer  \\\n",
       "0       12 2019-08-14 05:05:58.044           1        9632           b   \n",
       "1       12 2019-08-14 05:06:22.342           2        5037           b   \n",
       "2       12 2019-08-14 05:07:10.824           3        5098           a   \n",
       "3       12 2019-08-14 05:07:46.344           4         218           b   \n",
       "4       12 2019-08-14 05:08:28.991           5        5055           d   \n",
       "\n",
       "   elapsed_time correct_answer bundle_id  part           tags  \\\n",
       "0          15.0              a      6983     5             78   \n",
       "1          20.0              b      3569     5             98   \n",
       "2          46.0              c      3630     5             83   \n",
       "3          33.0              b       218     2  24;50;184;185   \n",
       "4          40.0              c      3587     5            119   \n",
       "\n",
       "              deployed_at tag1  tag2  tag3  tag4  tag5  tag6  tag7  correct  \n",
       "0 2019-09-17 02:57:58.835   78  None  None  None  None  None  None      0.0  \n",
       "1 2019-10-17 03:05:12.749   98  None  None  None  None  None  None      1.0  \n",
       "2 2019-03-12 02:04:33.013   83  None  None  None  None  None  None      0.0  \n",
       "3 2019-10-30 05:13:00.056   24    50   184   185  None  None  None      1.0  \n",
       "4 2019-10-17 03:05:45.729  119  None  None  None  None  None  None      0.0  "
      ]
     },
     "execution_count": 14,
     "metadata": {},
     "output_type": "execute_result"
    }
   ],
   "source": [
    "# inspect new merged dataframe\n",
    "dfm.head()"
   ]
  },
  {
   "cell_type": "code",
   "execution_count": 15,
   "metadata": {},
   "outputs": [],
   "source": [
    "# organize columns into logical groups\n",
    "dfm = dfm[['user_id', 'question_id','solving_id','bundle_id','correct','part',\\\n",
    "           'timestamp','deployed_at','elapsed_time','tag1','tag2','tag3','tag4','tag5','tag6','tag7']]"
   ]
  },
  {
   "cell_type": "code",
   "execution_count": 16,
   "metadata": {},
   "outputs": [
    {
     "data": {
      "text/html": [
       "<div>\n",
       "<style scoped>\n",
       "    .dataframe tbody tr th:only-of-type {\n",
       "        vertical-align: middle;\n",
       "    }\n",
       "\n",
       "    .dataframe tbody tr th {\n",
       "        vertical-align: top;\n",
       "    }\n",
       "\n",
       "    .dataframe thead th {\n",
       "        text-align: right;\n",
       "    }\n",
       "</style>\n",
       "<table border=\"1\" class=\"dataframe\">\n",
       "  <thead>\n",
       "    <tr style=\"text-align: right;\">\n",
       "      <th></th>\n",
       "      <th>user_id</th>\n",
       "      <th>question_id</th>\n",
       "      <th>solving_id</th>\n",
       "      <th>bundle_id</th>\n",
       "      <th>correct</th>\n",
       "      <th>part</th>\n",
       "      <th>timestamp</th>\n",
       "      <th>deployed_at</th>\n",
       "      <th>elapsed_time</th>\n",
       "      <th>tag1</th>\n",
       "      <th>tag2</th>\n",
       "      <th>tag3</th>\n",
       "      <th>tag4</th>\n",
       "      <th>tag5</th>\n",
       "      <th>tag6</th>\n",
       "      <th>tag7</th>\n",
       "    </tr>\n",
       "  </thead>\n",
       "  <tbody>\n",
       "    <tr>\n",
       "      <th>0</th>\n",
       "      <td>12</td>\n",
       "      <td>9632</td>\n",
       "      <td>1</td>\n",
       "      <td>6983</td>\n",
       "      <td>0.0</td>\n",
       "      <td>5</td>\n",
       "      <td>2019-08-14 05:05:58.044</td>\n",
       "      <td>2019-09-17 02:57:58.835</td>\n",
       "      <td>15.0</td>\n",
       "      <td>78</td>\n",
       "      <td>None</td>\n",
       "      <td>None</td>\n",
       "      <td>None</td>\n",
       "      <td>None</td>\n",
       "      <td>None</td>\n",
       "      <td>None</td>\n",
       "    </tr>\n",
       "    <tr>\n",
       "      <th>1</th>\n",
       "      <td>12</td>\n",
       "      <td>5037</td>\n",
       "      <td>2</td>\n",
       "      <td>3569</td>\n",
       "      <td>1.0</td>\n",
       "      <td>5</td>\n",
       "      <td>2019-08-14 05:06:22.342</td>\n",
       "      <td>2019-10-17 03:05:12.749</td>\n",
       "      <td>20.0</td>\n",
       "      <td>98</td>\n",
       "      <td>None</td>\n",
       "      <td>None</td>\n",
       "      <td>None</td>\n",
       "      <td>None</td>\n",
       "      <td>None</td>\n",
       "      <td>None</td>\n",
       "    </tr>\n",
       "    <tr>\n",
       "      <th>2</th>\n",
       "      <td>12</td>\n",
       "      <td>5098</td>\n",
       "      <td>3</td>\n",
       "      <td>3630</td>\n",
       "      <td>0.0</td>\n",
       "      <td>5</td>\n",
       "      <td>2019-08-14 05:07:10.824</td>\n",
       "      <td>2019-03-12 02:04:33.013</td>\n",
       "      <td>46.0</td>\n",
       "      <td>83</td>\n",
       "      <td>None</td>\n",
       "      <td>None</td>\n",
       "      <td>None</td>\n",
       "      <td>None</td>\n",
       "      <td>None</td>\n",
       "      <td>None</td>\n",
       "    </tr>\n",
       "    <tr>\n",
       "      <th>3</th>\n",
       "      <td>12</td>\n",
       "      <td>218</td>\n",
       "      <td>4</td>\n",
       "      <td>218</td>\n",
       "      <td>1.0</td>\n",
       "      <td>2</td>\n",
       "      <td>2019-08-14 05:07:46.344</td>\n",
       "      <td>2019-10-30 05:13:00.056</td>\n",
       "      <td>33.0</td>\n",
       "      <td>24</td>\n",
       "      <td>50</td>\n",
       "      <td>184</td>\n",
       "      <td>185</td>\n",
       "      <td>None</td>\n",
       "      <td>None</td>\n",
       "      <td>None</td>\n",
       "    </tr>\n",
       "    <tr>\n",
       "      <th>4</th>\n",
       "      <td>12</td>\n",
       "      <td>5055</td>\n",
       "      <td>5</td>\n",
       "      <td>3587</td>\n",
       "      <td>0.0</td>\n",
       "      <td>5</td>\n",
       "      <td>2019-08-14 05:08:28.991</td>\n",
       "      <td>2019-10-17 03:05:45.729</td>\n",
       "      <td>40.0</td>\n",
       "      <td>119</td>\n",
       "      <td>None</td>\n",
       "      <td>None</td>\n",
       "      <td>None</td>\n",
       "      <td>None</td>\n",
       "      <td>None</td>\n",
       "      <td>None</td>\n",
       "    </tr>\n",
       "  </tbody>\n",
       "</table>\n",
       "</div>"
      ],
      "text/plain": [
       "   user_id question_id  solving_id bundle_id  correct  part  \\\n",
       "0       12        9632           1      6983      0.0     5   \n",
       "1       12        5037           2      3569      1.0     5   \n",
       "2       12        5098           3      3630      0.0     5   \n",
       "3       12         218           4       218      1.0     2   \n",
       "4       12        5055           5      3587      0.0     5   \n",
       "\n",
       "                timestamp             deployed_at  elapsed_time tag1  tag2  \\\n",
       "0 2019-08-14 05:05:58.044 2019-09-17 02:57:58.835          15.0   78  None   \n",
       "1 2019-08-14 05:06:22.342 2019-10-17 03:05:12.749          20.0   98  None   \n",
       "2 2019-08-14 05:07:10.824 2019-03-12 02:04:33.013          46.0   83  None   \n",
       "3 2019-08-14 05:07:46.344 2019-10-30 05:13:00.056          33.0   24    50   \n",
       "4 2019-08-14 05:08:28.991 2019-10-17 03:05:45.729          40.0  119  None   \n",
       "\n",
       "   tag3  tag4  tag5  tag6  tag7  \n",
       "0  None  None  None  None  None  \n",
       "1  None  None  None  None  None  \n",
       "2  None  None  None  None  None  \n",
       "3   184   185  None  None  None  \n",
       "4  None  None  None  None  None  "
      ]
     },
     "execution_count": 16,
     "metadata": {},
     "output_type": "execute_result"
    }
   ],
   "source": [
    "# inspect again\n",
    "dfm.head()"
   ]
  },
  {
   "cell_type": "markdown",
   "metadata": {},
   "source": [
    "# PREPROCESSING\n",
    "1. clean up any null values\n",
    "2. coerce datatypes\n",
    "3. split data into TRAIN & TEST sets"
   ]
  },
  {
   "cell_type": "code",
   "execution_count": 17,
   "metadata": {},
   "outputs": [
    {
     "name": "stdout",
     "output_type": "stream",
     "text": [
      "[59, 59, 59, 59, 59, 59, 59, 59, 59, 59, 5, 5, 5, 0, 0, 0]\n"
     ]
    },
    {
     "data": {
      "text/plain": [
       "Text(0.5, 1.0, 'Non-Null Values')"
      ]
     },
     "execution_count": 17,
     "metadata": {},
     "output_type": "execute_result"
    },
    {
     "data": {
      "image/png": "[encoded data removed]",
      "text/plain": [
       "<Figure size 432x288 with 1 Axes>"
      ]
     },
     "metadata": {
      "needs_background": "light"
     },
     "output_type": "display_data"
    }
   ],
   "source": [
    "# plot non-null values\n",
    "newlist = []\n",
    "for i in range(dfm.shape[1]):\n",
    "    newlist.append(dfm.iloc[:,i].notnull().sum())\n",
    "print(newlist)\n",
    "\n",
    "import matplotlib.pyplot as plt\n",
    "plt.bar(dfm.columns, newlist)\n",
    "plt.xticks(rotation=45, ha=\"right\")\n",
    "plt.title('Non-Null Values')"
   ]
  },
  {
   "cell_type": "code",
   "execution_count": 18,
   "metadata": {},
   "outputs": [],
   "source": [
    "# convert tag columns: object --> integer\n",
    "dfm.tag1 = dfm.tag1.fillna(0).astype(int)\n",
    "dfm.tag2 = dfm.tag2.fillna(0).astype(int)\n",
    "dfm.tag3 = dfm.tag3.fillna(0).astype(int)\n",
    "dfm.tag4 = dfm.tag4.fillna(0).astype(int)\n",
    "dfm.tag5 = dfm.tag5.fillna(0).astype(int)\n",
    "dfm.tag6 = dfm.tag6.fillna(0).astype(int)\n",
    "dfm.tag7 = dfm.tag7.fillna(0).astype(int)\n",
    "\n",
    "# convert correct, question_id, andbundle_id tags to integers\n",
    "dfm.question_id = dfm.question_id.astype(int)\n",
    "dfm.bundle_id = dfm.bundle_id.astype(int)\n",
    "dfm.correct = dfm.correct.astype(int)"
   ]
  },
  {
   "cell_type": "code",
   "execution_count": 19,
   "metadata": {},
   "outputs": [
    {
     "data": {
      "text/plain": [
       "user_id                  int64\n",
       "question_id              int32\n",
       "solving_id               int64\n",
       "bundle_id                int32\n",
       "correct                  int32\n",
       "part                     int64\n",
       "timestamp       datetime64[ns]\n",
       "deployed_at     datetime64[ns]\n",
       "elapsed_time           float64\n",
       "tag1                     int32\n",
       "tag2                     int32\n",
       "tag3                     int32\n",
       "tag4                     int32\n",
       "tag5                     int32\n",
       "tag6                     int32\n",
       "tag7                     int32\n",
       "dtype: object"
      ]
     },
     "execution_count": 19,
     "metadata": {},
     "output_type": "execute_result"
    }
   ],
   "source": [
    "# inspect datatypes\n",
    "dfm.dtypes"
   ]
  },
  {
   "cell_type": "code",
   "execution_count": 20,
   "metadata": {},
   "outputs": [
    {
     "data": {
      "text/plain": [
       "2019-09-17 08:21:17.777    1\n",
       "2019-08-14 05:08:28.991    1\n",
       "2019-09-17 08:56:48.146    1\n",
       "Name: timestamp, dtype: int64"
      ]
     },
     "execution_count": 20,
     "metadata": {},
     "output_type": "execute_result"
    }
   ],
   "source": [
    "# drop rows with repeated 'timestamp' & inspect value counts\n",
    "dfm = dfm.drop_duplicates(subset='timestamp')\n",
    "dfm.timestamp.value_counts().head(3)"
   ]
  },
  {
   "cell_type": "code",
   "execution_count": 21,
   "metadata": {},
   "outputs": [
    {
     "data": {
      "text/html": [
       "<div>\n",
       "<style scoped>\n",
       "    .dataframe tbody tr th:only-of-type {\n",
       "        vertical-align: middle;\n",
       "    }\n",
       "\n",
       "    .dataframe tbody tr th {\n",
       "        vertical-align: top;\n",
       "    }\n",
       "\n",
       "    .dataframe thead th {\n",
       "        text-align: right;\n",
       "    }\n",
       "</style>\n",
       "<table border=\"1\" class=\"dataframe\">\n",
       "  <thead>\n",
       "    <tr style=\"text-align: right;\">\n",
       "      <th></th>\n",
       "      <th>user_id</th>\n",
       "      <th>question_id</th>\n",
       "      <th>solving_id</th>\n",
       "      <th>bundle_id</th>\n",
       "      <th>correct</th>\n",
       "      <th>part</th>\n",
       "      <th>timestamp</th>\n",
       "      <th>deployed_at</th>\n",
       "      <th>elapsed_time</th>\n",
       "      <th>tag1</th>\n",
       "      <th>tag2</th>\n",
       "      <th>tag3</th>\n",
       "      <th>tag4</th>\n",
       "      <th>tag5</th>\n",
       "      <th>tag6</th>\n",
       "      <th>tag7</th>\n",
       "    </tr>\n",
       "  </thead>\n",
       "  <tbody>\n",
       "    <tr>\n",
       "      <th>0</th>\n",
       "      <td>12</td>\n",
       "      <td>9632</td>\n",
       "      <td>1</td>\n",
       "      <td>6983</td>\n",
       "      <td>0</td>\n",
       "      <td>5</td>\n",
       "      <td>2019-08-14 05:05:58.044</td>\n",
       "      <td>2019-09-17 02:57:58.835</td>\n",
       "      <td>15.0</td>\n",
       "      <td>78</td>\n",
       "      <td>0</td>\n",
       "      <td>0</td>\n",
       "      <td>0</td>\n",
       "      <td>0</td>\n",
       "      <td>0</td>\n",
       "      <td>0</td>\n",
       "    </tr>\n",
       "    <tr>\n",
       "      <th>1</th>\n",
       "      <td>12</td>\n",
       "      <td>5037</td>\n",
       "      <td>2</td>\n",
       "      <td>3569</td>\n",
       "      <td>1</td>\n",
       "      <td>5</td>\n",
       "      <td>2019-08-14 05:06:22.342</td>\n",
       "      <td>2019-10-17 03:05:12.749</td>\n",
       "      <td>20.0</td>\n",
       "      <td>98</td>\n",
       "      <td>0</td>\n",
       "      <td>0</td>\n",
       "      <td>0</td>\n",
       "      <td>0</td>\n",
       "      <td>0</td>\n",
       "      <td>0</td>\n",
       "    </tr>\n",
       "    <tr>\n",
       "      <th>2</th>\n",
       "      <td>12</td>\n",
       "      <td>5098</td>\n",
       "      <td>3</td>\n",
       "      <td>3630</td>\n",
       "      <td>0</td>\n",
       "      <td>5</td>\n",
       "      <td>2019-08-14 05:07:10.824</td>\n",
       "      <td>2019-03-12 02:04:33.013</td>\n",
       "      <td>46.0</td>\n",
       "      <td>83</td>\n",
       "      <td>0</td>\n",
       "      <td>0</td>\n",
       "      <td>0</td>\n",
       "      <td>0</td>\n",
       "      <td>0</td>\n",
       "      <td>0</td>\n",
       "    </tr>\n",
       "    <tr>\n",
       "      <th>3</th>\n",
       "      <td>12</td>\n",
       "      <td>218</td>\n",
       "      <td>4</td>\n",
       "      <td>218</td>\n",
       "      <td>1</td>\n",
       "      <td>2</td>\n",
       "      <td>2019-08-14 05:07:46.344</td>\n",
       "      <td>2019-10-30 05:13:00.056</td>\n",
       "      <td>33.0</td>\n",
       "      <td>24</td>\n",
       "      <td>50</td>\n",
       "      <td>184</td>\n",
       "      <td>185</td>\n",
       "      <td>0</td>\n",
       "      <td>0</td>\n",
       "      <td>0</td>\n",
       "    </tr>\n",
       "    <tr>\n",
       "      <th>4</th>\n",
       "      <td>12</td>\n",
       "      <td>5055</td>\n",
       "      <td>5</td>\n",
       "      <td>3587</td>\n",
       "      <td>0</td>\n",
       "      <td>5</td>\n",
       "      <td>2019-08-14 05:08:28.991</td>\n",
       "      <td>2019-10-17 03:05:45.729</td>\n",
       "      <td>40.0</td>\n",
       "      <td>119</td>\n",
       "      <td>0</td>\n",
       "      <td>0</td>\n",
       "      <td>0</td>\n",
       "      <td>0</td>\n",
       "      <td>0</td>\n",
       "      <td>0</td>\n",
       "    </tr>\n",
       "  </tbody>\n",
       "</table>\n",
       "</div>"
      ],
      "text/plain": [
       "   user_id  question_id  solving_id  bundle_id  correct  part  \\\n",
       "0       12         9632           1       6983        0     5   \n",
       "1       12         5037           2       3569        1     5   \n",
       "2       12         5098           3       3630        0     5   \n",
       "3       12          218           4        218        1     2   \n",
       "4       12         5055           5       3587        0     5   \n",
       "\n",
       "                timestamp             deployed_at  elapsed_time  tag1  tag2  \\\n",
       "0 2019-08-14 05:05:58.044 2019-09-17 02:57:58.835          15.0    78     0   \n",
       "1 2019-08-14 05:06:22.342 2019-10-17 03:05:12.749          20.0    98     0   \n",
       "2 2019-08-14 05:07:10.824 2019-03-12 02:04:33.013          46.0    83     0   \n",
       "3 2019-08-14 05:07:46.344 2019-10-30 05:13:00.056          33.0    24    50   \n",
       "4 2019-08-14 05:08:28.991 2019-10-17 03:05:45.729          40.0   119     0   \n",
       "\n",
       "   tag3  tag4  tag5  tag6  tag7  \n",
       "0     0     0     0     0     0  \n",
       "1     0     0     0     0     0  \n",
       "2     0     0     0     0     0  \n",
       "3   184   185     0     0     0  \n",
       "4     0     0     0     0     0  "
      ]
     },
     "execution_count": 21,
     "metadata": {},
     "output_type": "execute_result"
    }
   ],
   "source": [
    "# inspect again\n",
    "dfm.head()"
   ]
  },
  {
   "cell_type": "code",
   "execution_count": 22,
   "metadata": {},
   "outputs": [],
   "source": [
    "# list to store to scores\n",
    "scores = []\n",
    "algo = []\n",
    "roc_auc_scores = []"
   ]
  },
  {
   "cell_type": "code",
   "execution_count": 23,
   "metadata": {},
   "outputs": [
    {
     "data": {
      "text/plain": [
       "\"# Standardize the magnitude of numeric features using scaler\\nfrom sklearn.preprocessing import StandardScaler\\ndata = dfm[['user_id', 'question_id', 'solving_id', 'bundle_id', 'correct', 'part','elapsed_time', 'tag1', 'tag2', 'tag3',             'tag4', 'tag5', 'tag6', 'tag7']]\\nscaler = StandardScaler()\\n#data = scaler.fit(data)\\n#print(scaler.mean_)\\n#print(scaler.transform(data))\""
      ]
     },
     "execution_count": 23,
     "metadata": {},
     "output_type": "execute_result"
    }
   ],
   "source": [
    "\"\"\"# Standardize the magnitude of numeric features using scaler\n",
    "from sklearn.preprocessing import StandardScaler\n",
    "data = dfm[['user_id', 'question_id', 'solving_id', 'bundle_id', 'correct', 'part','elapsed_time', 'tag1', 'tag2', 'tag3', \\\n",
    "            'tag4', 'tag5', 'tag6', 'tag7']]\n",
    "scaler = StandardScaler()\n",
    "#data = scaler.fit(data)\n",
    "#print(scaler.mean_)\n",
    "#print(scaler.transform(data))\"\"\""
   ]
  },
  {
   "cell_type": "code",
   "execution_count": 24,
   "metadata": {},
   "outputs": [],
   "source": [
    "#Split data into testing and training datasets\n",
    "import numpy as np\n",
    "from sklearn.model_selection import train_test_split\n",
    "X = dfm[['user_id', 'question_id', 'solving_id', 'bundle_id', 'part','elapsed_time', 'tag1', 'tag2', 'tag3', 'tag4', 'tag5', 'tag6', 'tag7']]\n",
    "y = dfm.correct\n",
    "\n",
    "X_train, X_test, y_train, y_test = train_test_split(\n",
    "    X, y, test_size=0.33, random_state=42)"
   ]
  },
  {
   "cell_type": "markdown",
   "metadata": {},
   "source": [
    "# REGULARIZATION\n",
    "1. Test Lasso, Ridge, Elastic Net\n",
    "2. Choose the most effective Regularization method"
   ]
  },
  {
   "cell_type": "code",
   "execution_count": 25,
   "metadata": {},
   "outputs": [
    {
     "data": {
      "text/plain": [
       "ElasticNet(alpha=1.0, copy_X=True, fit_intercept=True, l1_ratio=0.5,\n",
       "           max_iter=1000, normalize=False, positive=False, precompute=False,\n",
       "           random_state=None, selection='cyclic', tol=0.0001, warm_start=False)"
      ]
     },
     "execution_count": 25,
     "metadata": {},
     "output_type": "execute_result"
    }
   ],
   "source": [
    "# explicitly import each regularization module & instantiate\n",
    "from sklearn.linear_model import LogisticRegression\n",
    "from sklearn.linear_model import Lasso\n",
    "from sklearn.linear_model import Ridge\n",
    "from sklearn.linear_model import ElasticNet\n",
    "lr = LogisticRegression()\n",
    "lr_lasso = Lasso()\n",
    "lr_ridge = Ridge()\n",
    "lr_elastic = ElasticNet()\n",
    "lr.fit(X_train, y_train)\n",
    "lr_lasso.fit(X_train, y_train)\n",
    "lr_ridge.fit(X_train, y_train)\n",
    "lr_elastic.fit(X_train, y_train)"
   ]
  },
  {
   "cell_type": "code",
   "execution_count": 26,
   "metadata": {},
   "outputs": [
    {
     "name": "stdout",
     "output_type": "stream",
     "text": [
      "R-squared Values:\n",
      "-----------------\n",
      "R2 Regression = 50.0\n",
      "R2 Lasso Regression = 13.9146\n",
      "R2 Ridge Regression = 6.5112\n",
      "R2 Elastic Net Regression = 8.8558\n"
     ]
    }
   ],
   "source": [
    "print(\"R-squared Values:\")\n",
    "print('-----------------')\n",
    "print(\"R2 Regression =\", np.round(lr.score(X_test, y_test)*100,4))\n",
    "print(\"R2 Lasso Regression =\", np.round(abs(lr_lasso.score(X_test, y_test))*100,4))\n",
    "print(\"R2 Ridge Regression =\",np.round(abs(lr_ridge.score(X_test, y_test))*100,4))\n",
    "print(\"R2 Elastic Net Regression =\",np.round(abs(lr_elastic.score(X_test, y_test))*100,4))"
   ]
  },
  {
   "cell_type": "code",
   "execution_count": 27,
   "metadata": {},
   "outputs": [],
   "source": [
    "pred_lr = lr.predict(X_test)\n",
    "pred_lasso = lr_lasso.predict(X_test)\n",
    "pred_ridge = lr_ridge.predict(X_test)\n",
    "pred_elastic = lr_elastic.predict(X_test)"
   ]
  },
  {
   "cell_type": "code",
   "execution_count": 28,
   "metadata": {},
   "outputs": [
    {
     "name": "stdout",
     "output_type": "stream",
     "text": [
      "Mean Squared Error (MSE):\n",
      "------------------------\n",
      "MSE Regression = 0.5\n",
      "MSE Lasso Regression = 0.2734\n",
      "MSE Ridge Regression = 0.2556\n",
      "MSE Elastic Net Regression = 0.2613\n"
     ]
    }
   ],
   "source": [
    "# print loss function\n",
    "from sklearn import metrics\n",
    "print('Mean Squared Error (MSE):')\n",
    "print('------------------------')\n",
    "print('MSE Regression =', np.round(metrics.mean_squared_error(y_test, pred_lr),4))\n",
    "print('MSE Lasso Regression =', np.round(metrics.mean_squared_error(y_test, pred_lasso),4))\n",
    "print('MSE Ridge Regression =', np.round(metrics.mean_squared_error(y_test, pred_ridge),4))\n",
    "print('MSE Elastic Net Regression =', np.round(metrics.mean_squared_error(y_test, pred_elastic),4))"
   ]
  },
  {
   "cell_type": "markdown",
   "metadata": {},
   "source": [
    "# MODELLING\n",
    "1. Test and compare the predictive performance of various machine learning algorithms\n",
    "2. Determine the best performing model"
   ]
  },
  {
   "cell_type": "code",
   "execution_count": 29,
   "metadata": {},
   "outputs": [
    {
     "name": "stdout",
     "output_type": "stream",
     "text": [
      "0.5\n"
     ]
    }
   ],
   "source": [
    "from sklearn.linear_model import LogisticRegression\n",
    "lr = LogisticRegression()\n",
    "lr.fit(X_train, y_train)\n",
    "y_pred = lr.predict(X_test)\n",
    "lr_proba = lr.predict_proba(X_test)[:, 1]\n",
    "scores.append(lr.score(X_test, y_test))\n",
    "algo.append('LogisticRegression')\n",
    "print(lr.score(X_test, y_test))"
   ]
  },
  {
   "cell_type": "code",
   "execution_count": 30,
   "metadata": {},
   "outputs": [
    {
     "data": {
      "text/plain": [
       "0.5208333333333333"
      ]
     },
     "execution_count": 30,
     "metadata": {},
     "output_type": "execute_result"
    }
   ],
   "source": [
    "# Calculate roc auc\n",
    "from sklearn.metrics import roc_auc_score\n",
    "\n",
    "lr_roc_auc_score = roc_auc_score(y_test, lr_proba)\n",
    "roc_auc_scores.append(lr_roc_auc_score)\n",
    "lr_roc_auc_score"
   ]
  },
  {
   "cell_type": "code",
   "execution_count": 31,
   "metadata": {},
   "outputs": [
    {
     "name": "stdout",
     "output_type": "stream",
     "text": [
      "0.7\n"
     ]
    }
   ],
   "source": [
    "# Naive Bayes\n",
    "from sklearn.naive_bayes import GaussianNB\n",
    "nb = GaussianNB()\n",
    "nb.fit(X_train, y_train)\n",
    "y_pred = nb.predict(X_test)\n",
    "nb_proba = nb.predict_proba(X_test)[:, 1]\n",
    "nb.score(X_test, y_test)\n",
    "scores.append(nb.score(X_test, y_test))\n",
    "algo.append('GaussianNB')\n",
    "print(nb.score(X_test, y_test))"
   ]
  },
  {
   "cell_type": "code",
   "execution_count": 32,
   "metadata": {},
   "outputs": [
    {
     "data": {
      "text/plain": [
       "0.6770833333333334"
      ]
     },
     "execution_count": 32,
     "metadata": {},
     "output_type": "execute_result"
    }
   ],
   "source": [
    "nb_roc_auc_score = roc_auc_score(y_test, nb_proba)\n",
    "roc_auc_scores.append(nb_roc_auc_score)\n",
    "nb_roc_auc_score"
   ]
  },
  {
   "cell_type": "code",
   "execution_count": 33,
   "metadata": {},
   "outputs": [
    {
     "name": "stdout",
     "output_type": "stream",
     "text": [
      "0.4\n"
     ]
    }
   ],
   "source": [
    "# Stochastic gradient descent\n",
    "from sklearn.linear_model import SGDClassifier\n",
    "sgd = SGDClassifier(loss='modified_huber', shuffle=True, random_state=42)\n",
    "sgd.fit(X_train, y_train)\n",
    "y_pred = sgd.predict(X_test)\n",
    "sgd_proba = sgd.predict_proba(X_test)[:, 1]\n",
    "sgd.score(X_test, y_test)\n",
    "scores.append(sgd.score(X_test, y_test))\n",
    "algo.append('SGDClassifier')\n",
    "print(sgd.score(X_test, y_test))"
   ]
  },
  {
   "cell_type": "code",
   "execution_count": 34,
   "metadata": {},
   "outputs": [
    {
     "data": {
      "text/plain": [
       "0.5"
      ]
     },
     "execution_count": 34,
     "metadata": {},
     "output_type": "execute_result"
    }
   ],
   "source": [
    "sgd_roc_auc_score = roc_auc_score(y_test, sgd_proba)\n",
    "roc_auc_scores.append(sgd_roc_auc_score)\n",
    "sgd_roc_auc_score"
   ]
  },
  {
   "cell_type": "code",
   "execution_count": 35,
   "metadata": {},
   "outputs": [
    {
     "name": "stdout",
     "output_type": "stream",
     "text": [
      "0.45\n"
     ]
    }
   ],
   "source": [
    "# KNeighborsClassifier\n",
    "from sklearn.neighbors import KNeighborsClassifier\n",
    "knn = KNeighborsClassifier(n_neighbors=2)\n",
    "knn.fit(X_train, y_train)\n",
    "y_pred = knn.predict(X_test)\n",
    "knn_proba = knn.predict_proba(X_test)[:, 1]\n",
    "knn.score(X_test, y_test)\n",
    "scores.append(knn.score(X_test, y_test))\n",
    "algo.append('KNeighborsClassifier')\n",
    "print(knn.score(X_test, y_test))"
   ]
  },
  {
   "cell_type": "code",
   "execution_count": 36,
   "metadata": {},
   "outputs": [
    {
     "data": {
      "text/plain": [
       "0.5885416666666667"
      ]
     },
     "execution_count": 36,
     "metadata": {},
     "output_type": "execute_result"
    }
   ],
   "source": [
    "knn_roc_auc_score = roc_auc_score(y_test, knn_proba)\n",
    "roc_auc_scores.append(knn_roc_auc_score)\n",
    "knn_roc_auc_score"
   ]
  },
  {
   "cell_type": "code",
   "execution_count": 37,
   "metadata": {},
   "outputs": [
    {
     "name": "stdout",
     "output_type": "stream",
     "text": [
      "0.4\n"
     ]
    }
   ],
   "source": [
    "# RandomForestClassifier\n",
    "from sklearn.ensemble import RandomForestClassifier\n",
    "rfm = RandomForestClassifier(n_estimators=70, oob_score=True, n_jobs=1, \\\n",
    "                            random_state=42, max_features = None, min_samples_leaf = 30)\n",
    "rfm.fit(X_train, y_train)\n",
    "y_pred = rfm.predict(X_test)\n",
    "rfm_proba = rfm.predict_proba(X_test)[:, 1]\n",
    "rfm.score(X_test, y_test)\n",
    "scores.append(rfm.score(X_test, y_test))\n",
    "algo.append('RandomForestClassifier')\n",
    "print(rfm.score(X_test, y_test))"
   ]
  },
  {
   "cell_type": "code",
   "execution_count": 38,
   "metadata": {},
   "outputs": [
    {
     "data": {
      "text/plain": [
       "0.5"
      ]
     },
     "execution_count": 38,
     "metadata": {},
     "output_type": "execute_result"
    }
   ],
   "source": [
    "rfm_roc_auc_score = roc_auc_score(y_test, rfm_proba)\n",
    "roc_auc_scores.append(rfm_roc_auc_score)\n",
    "rfm_roc_auc_score"
   ]
  },
  {
   "cell_type": "code",
   "execution_count": 39,
   "metadata": {},
   "outputs": [
    {
     "name": "stdout",
     "output_type": "stream",
     "text": [
      "0.6\n"
     ]
    }
   ],
   "source": [
    "from sklearn.svm import SVC\n",
    "svm = SVC(kernel='linear', C=0.025, random_state=42)\n",
    "svm.fit(X_train, y_train)\n",
    "y_pred = svm.predict(X_test)\n",
    "#svm_proba = svm.predict_proba(X_test)[:, 1]\n",
    "svm.score(X_test, y_test)\n",
    "scores.append(svm.score(X_test, y_test))\n",
    "algo.append('SVC')\n",
    "print(svm.score(X_test, y_test))"
   ]
  },
  {
   "cell_type": "code",
   "execution_count": 40,
   "metadata": {},
   "outputs": [],
   "source": [
    "#svm_roc_auc_score = roc_auc_score(y_test, svm_proba)\n",
    "roc_auc_scores.append(0.000000000)\n",
    "#svm_roc_auc_score"
   ]
  },
  {
   "cell_type": "code",
   "execution_count": 41,
   "metadata": {},
   "outputs": [
    {
     "name": "stdout",
     "output_type": "stream",
     "text": [
      "[0.5, 0.7, 0.4, 0.45, 0.4, 0.6]\n",
      "['LogisticRegression', 'GaussianNB', 'SGDClassifier', 'KNeighborsClassifier', 'RandomForestClassifier', 'SVC']\n",
      "[0.5208333333333333, 0.6770833333333334, 0.5, 0.5885416666666667, 0.5, 0.0]\n"
     ]
    }
   ],
   "source": [
    "print(scores)\n",
    "print(algo)\n",
    "print(roc_auc_scores)"
   ]
  },
  {
   "cell_type": "code",
   "execution_count": 42,
   "metadata": {},
   "outputs": [
    {
     "name": "stdout",
     "output_type": "stream",
     "text": [
      "GaussianNB has the highest AUC = 0.6770833333333334\n"
     ]
    }
   ],
   "source": [
    "max1 = max(roc_auc_scores)\n",
    "idx = roc_auc_scores.index(max1)\n",
    "print(algo[idx],'has the highest AUC =', max1)"
   ]
  },
  {
   "cell_type": "code",
   "execution_count": 43,
   "metadata": {},
   "outputs": [
    {
     "data": {
      "text/plain": [
       "([0, 1, 2, 3, 4, 5], <a list of 6 Text major ticklabel objects>)"
      ]
     },
     "execution_count": 43,
     "metadata": {},
     "output_type": "execute_result"
    },
    {
     "data": {
      "image/png": "[encoded data removed]",
      "text/plain": [
       "<Figure size 720x504 with 1 Axes>"
      ]
     },
     "metadata": {
      "needs_background": "light"
     },
     "output_type": "display_data"
    }
   ],
   "source": [
    "#fig, ax = plt.subplots()\n",
    "plt.figure(figsize=(10,7))\n",
    "plt.bar(algo, scores)\n",
    "plt.ylabel(\"Score\")\n",
    "plt.xlabel(\"Algorithm\")\n",
    "plt.title('Algorithm Scores for User ' +str(z)+ ' | Max: '+str(round(max(scores),5)))\n",
    "plt.xticks(rotation=40, ha=\"right\" )"
   ]
  },
  {
   "cell_type": "code",
   "execution_count": 44,
   "metadata": {},
   "outputs": [
    {
     "data": {
      "text/plain": [
       "'import seaborn as sns\\n#plt.plot(dfm.correct, dfm.tag1)\\nax = sns.regplot(y=dfm.correct, x=dfm.elapsed_time, color=\"r\")'"
      ]
     },
     "execution_count": 44,
     "metadata": {},
     "output_type": "execute_result"
    }
   ],
   "source": [
    "\"\"\"import seaborn as sns\n",
    "#plt.plot(dfm.correct, dfm.tag1)\n",
    "ax = sns.regplot(y=dfm.correct, x=dfm.elapsed_time, color=\"r\")\"\"\""
   ]
  },
  {
   "cell_type": "code",
   "execution_count": 45,
   "metadata": {},
   "outputs": [
    {
     "data": {
      "text/plain": [
       "'# EDA\\nfrom pandas_profiling import ProfileReport\\nprofile = ProfileReport(dfm, title=\"Pandas Profiling Report\")\\n\\nprofile.to_widgets()\\nprofile.to_notebook_iframe()'"
      ]
     },
     "execution_count": 45,
     "metadata": {},
     "output_type": "execute_result"
    }
   ],
   "source": [
    "\"\"\"# EDA\n",
    "from pandas_profiling import ProfileReport\n",
    "profile = ProfileReport(dfm, title=\"Pandas Profiling Report\")\n",
    "\n",
    "profile.to_widgets()\n",
    "profile.to_notebook_iframe()\"\"\""
   ]
  },
  {
   "cell_type": "code",
   "execution_count": 46,
   "metadata": {},
   "outputs": [
    {
     "data": {
      "text/plain": [
       "'# best performing model per student\\nperform = { z : round(max(scores),5) }\\nperform '"
      ]
     },
     "execution_count": 46,
     "metadata": {},
     "output_type": "execute_result"
    }
   ],
   "source": [
    "\"\"\"# best performing model per student\n",
    "perform = { z : round(max(scores),5) }\n",
    "perform \"\"\""
   ]
  }
 ],
 "metadata": {
  "kernelspec": {
   "display_name": "Python 3",
   "language": "python",
   "name": "python3"
  },
  "language_info": {
   "codemirror_mode": {
    "name": "ipython",
    "version": 3
   },
   "file_extension": ".py",
   "mimetype": "text/x-python",
   "name": "python",
   "nbconvert_exporter": "python",
   "pygments_lexer": "ipython3",
   "version": "3.7.6"
  }
 },
 "nbformat": 4,
 "nbformat_minor": 4
}
